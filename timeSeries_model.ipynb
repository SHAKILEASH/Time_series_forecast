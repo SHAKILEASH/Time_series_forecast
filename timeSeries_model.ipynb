{
  "nbformat": 4,
  "nbformat_minor": 0,
  "metadata": {
    "colab": {
      "name": "bonum_model.ipynb",
      "provenance": [],
      "collapsed_sections": []
    },
    "kernelspec": {
      "name": "python3",
      "display_name": "Python 3"
    }
  },
  "cells": [
    {
      "cell_type": "code",
      "metadata": {
        "id": "iSbfdr3mm9Cz",
        "colab_type": "code",
        "colab": {}
      },
      "source": [
        "import tensorflow as tf\n",
        "import pandas as pd\n",
        "import numpy as np\n",
        "import keras\n",
        "from io import BytesIO\n",
        "from keras.models import Sequential\n",
        "from keras.layers import LSTM, Dense,Dropout,Activation,TimeDistributed\n",
        "from keras.regularizers import L1L2\n",
        "import matplotlib.pyplot as plt\n",
        "from keras.preprocessing.sequence import TimeseriesGenerator\n",
        "from google.colab import files\n",
        "from sklearn.preprocessing import MinMaxScaler\n",
        "from sklearn.metrics import mean_squared_error\n",
        "from pylab import rcParams\n",
        "#rcParams['figure.figsize'] = 20,10"
      ],
      "execution_count": 438,
      "outputs": []
    },
    {
      "cell_type": "code",
      "metadata": {
        "id": "boJHJkEglkGO",
        "colab_type": "code",
        "colab": {}
      },
      "source": [
        "def create_lookBack(data,look_back = 3):\n",
        "  val_x = []\n",
        "  val_y = []\n",
        "  for i in range(len(data)-look_back-1):\n",
        "    val_x.append(data[i:(i+look_back),0])\n",
        "    val_y.append(data[i+look_back,0])\n",
        "  return np.array(val_x),np.array(val_y)  "
      ],
      "execution_count": 439,
      "outputs": []
    },
    {
      "cell_type": "code",
      "metadata": {
        "id": "jeuNeMLeI9ox",
        "colab_type": "code",
        "colab": {}
      },
      "source": [
        "def train_test_split(percent,data):\n",
        "  split = int(percent*len(data))\n",
        "  train = data[:split]\n",
        "  test = data[split:]\n",
        "  print(len(train),len(test),data.shape)\n",
        "  return train,test \n"
      ],
      "execution_count": 440,
      "outputs": []
    },
    {
      "cell_type": "code",
      "metadata": {
        "id": "L50vDx6dqJ38",
        "colab_type": "code",
        "colab": {}
      },
      "source": [
        "def one_hot_encoding(data,encoding):\n",
        "  label_data = []\n",
        "  for value in data:\n",
        "    one_hot = [0 for _ in range(encoding)]\n",
        "    one_hot[int(value*10)] = 1\n",
        "    label_data.append(one_hot)\n",
        "  return np.array(label_data)  "
      ],
      "execution_count": 441,
      "outputs": []
    },
    {
      "cell_type": "code",
      "metadata": {
        "id": "7UOoY_QXnOlH",
        "colab_type": "code",
        "colab": {
          "resources": {
            "http://localhost:8080/nbextensions/google.colab/files.js": {
              "data": "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",
              "ok": true,
              "headers": [
                [
                  "content-type",
                  "application/javascript"
                ]
              ],
              "status": 200,
              "status_text": ""
            }
          },
          "base_uri": "https://localhost:8080/",
          "height": 72
        },
        "outputId": "1cee8789-609d-45bc-8d77-589df7b3b937"
      },
      "source": [
        "uploaded = files.upload()"
      ],
      "execution_count": 442,
      "outputs": [
        {
          "output_type": "display_data",
          "data": {
            "text/html": [
              "\n",
              "     <input type=\"file\" id=\"files-9ce296c3-848a-4778-8c09-d8c1ad9be427\" name=\"files[]\" multiple disabled\n",
              "        style=\"border:none\" />\n",
              "     <output id=\"result-9ce296c3-848a-4778-8c09-d8c1ad9be427\">\n",
              "      Upload widget is only available when the cell has been executed in the\n",
              "      current browser session. Please rerun this cell to enable.\n",
              "      </output>\n",
              "      <script src=\"/nbextensions/google.colab/files.js\"></script> "
            ],
            "text/plain": [
              "<IPython.core.display.HTML object>"
            ]
          },
          "metadata": {
            "tags": []
          }
        },
        {
          "output_type": "stream",
          "text": [
            "Saving bonum.csv to bonum (2).csv\n"
          ],
          "name": "stdout"
        }
      ]
    },
    {
      "cell_type": "code",
      "metadata": {
        "id": "c7qHmeSZnbJF",
        "colab_type": "code",
        "colab": {}
      },
      "source": [
        "df = pd.read_csv(BytesIO(uploaded['bonum.csv']))"
      ],
      "execution_count": 443,
      "outputs": []
    },
    {
      "cell_type": "code",
      "metadata": {
        "id": "k4zC77nbnkvr",
        "colab_type": "code",
        "colab": {
          "base_uri": "https://localhost:8080/",
          "height": 187
        },
        "outputId": "1134615b-407c-4087-8163-a790baac50ab"
      },
      "source": [
        "df.info()"
      ],
      "execution_count": 444,
      "outputs": [
        {
          "output_type": "stream",
          "text": [
            "<class 'pandas.core.frame.DataFrame'>\n",
            "RangeIndex: 5090 entries, 0 to 5089\n",
            "Data columns (total 3 columns):\n",
            " #   Column  Non-Null Count  Dtype\n",
            "---  ------  --------------  -----\n",
            " 0   Period  5090 non-null   int64\n",
            " 1   Price   5090 non-null   int64\n",
            " 2   Num     5090 non-null   int64\n",
            "dtypes: int64(3)\n",
            "memory usage: 119.4 KB\n"
          ],
          "name": "stdout"
        }
      ]
    },
    {
      "cell_type": "code",
      "metadata": {
        "id": "QamzcZBbqnLB",
        "colab_type": "code",
        "colab": {
          "base_uri": "https://localhost:8080/",
          "height": 265
        },
        "outputId": "34131b90-c8e4-4de8-d746-0306217201df"
      },
      "source": [
        "period = df[\"Period\"].values\n",
        "period = np.mod(period,100000)\n",
        "num = df[\"Num\"].values\n",
        "plt.plot(period,num)\n",
        "plt.show()\n"
      ],
      "execution_count": 445,
      "outputs": [
        {
          "output_type": "display_data",
          "data": {
            "image/png": "[encoded data removed]",
            "text/plain": [
              "<Figure size 432x288 with 1 Axes>"
            ]
          },
          "metadata": {
            "tags": [],
            "needs_background": "light"
          }
        }
      ]
    },
    {
      "cell_type": "code",
      "metadata": {
        "id": "ImNGMO0Ej8Sc",
        "colab_type": "code",
        "colab": {
          "base_uri": "https://localhost:8080/",
          "height": 34
        },
        "outputId": "40faad25-7cc2-4347-d564-43f55e6577ce"
      },
      "source": [
        "np.random.seed(7)\n",
        "data = df['Num'].values\n",
        "data = data[::-1]\n",
        "data = np.reshape(data,(data.shape[0],1))\n",
        "scaler = MinMaxScaler(feature_range=(0, 1))\n",
        "dataset = scaler.fit_transform(data)\n",
        "train,test = train_test_split(0.85,dataset)"
      ],
      "execution_count": 446,
      "outputs": [
        {
          "output_type": "stream",
          "text": [
            "4326 764 (5090, 1)\n"
          ],
          "name": "stdout"
        }
      ]
    },
    {
      "cell_type": "code",
      "metadata": {
        "id": "ThusIFfBjrv8",
        "colab_type": "code",
        "colab": {
          "base_uri": "https://localhost:8080/",
          "height": 153
        },
        "outputId": "a57e6112-d6a9-4dbb-8123-4e44a9df2ea4"
      },
      "source": [
        "np.random.seed(7)\n",
        "data = df['Num'].values\n",
        "data = data.astype(\"float32\")\n",
        "data = data.reshape((-1,1))\n",
        "data = data[::-1]\n",
        "dataset = data/10\n",
        "np.unique(dataset)\n",
        "train,test = train_test_split(0.85,dataset)\n",
        "print(dataset)"
      ],
      "execution_count": 447,
      "outputs": [
        {
          "output_type": "stream",
          "text": [
            "4326 764 (5090, 1)\n",
            "[[0.7]\n",
            " [0.9]\n",
            " [0.7]\n",
            " ...\n",
            " [0.5]\n",
            " [0.3]\n",
            " [0.9]]\n"
          ],
          "name": "stdout"
        }
      ]
    },
    {
      "cell_type": "code",
      "metadata": {
        "id": "KTXGHJ39nWT2",
        "colab_type": "code",
        "colab": {}
      },
      "source": [
        "look_back = 8\n",
        "train_x,train_y = create_lookBack(train,look_back)\n",
        "test_x,test_y = create_lookBack(test,look_back)\n",
        "train_x = np.reshape(train_x, (train_x.shape[0], 1, train_x.shape[1]))\n",
        "test_x = np.reshape(test_x, (test_x.shape[0], 1, test_x.shape[1]))"
      ],
      "execution_count": 448,
      "outputs": []
    },
    {
      "cell_type": "code",
      "metadata": {
        "id": "8eVy5oob_Wso",
        "colab_type": "code",
        "colab": {
          "base_uri": "https://localhost:8080/",
          "height": 34
        },
        "outputId": "78a1d555-6215-4070-d575-13edbe14afd7"
      },
      "source": [
        "print(train_y)"
      ],
      "execution_count": 449,
      "outputs": [
        {
          "output_type": "stream",
          "text": [
            "[0.  0.2 0.4 ... 0.7 0.6 0.8]\n"
          ],
          "name": "stdout"
        }
      ]
    },
    {
      "cell_type": "code",
      "metadata": {
        "id": "-OoX68oNp7CL",
        "colab_type": "code",
        "colab": {
          "base_uri": "https://localhost:8080/",
          "height": 51
        },
        "outputId": "58cf8e73-8e6d-4010-acb5-f5c71672aff5"
      },
      "source": [
        "#one-hot encoding\n",
        "np.random.seed(7)\n",
        "data = df['Num'].values\n",
        "data = data.astype(\"float32\")\n",
        "data = data.reshape((-1,1))\n",
        "data = data[::-1]\n",
        "dataset = data/10\n",
        "np.unique(dataset)\n",
        "train,test = train_test_split(0.85,dataset)\n",
        "x = []\n",
        "look_back = 8\n",
        "train_x,train_y = create_lookBack(train,look_back)\n",
        "test_x,test_y = create_lookBack(test,look_back)\n",
        "k = test_y*10\n",
        "for i in k:\n",
        "  x.append((i)%2)\n",
        "test_y = np.array(x)  \n",
        "x = []\n",
        "k = train_y*10\n",
        "for i in k:\n",
        "  x.append((i)%2)\n",
        "train_y = np.array(x)  \n",
        "train_x = np.reshape(train_x, (train_x.shape[0], 1, train_x.shape[1]))\n",
        "test_x = np.reshape(test_x, (test_x.shape[0], 1, test_x.shape[1]))\n",
        "print(np.unique(train_y))"
      ],
      "execution_count": 433,
      "outputs": [
        {
          "output_type": "stream",
          "text": [
            "4326 764 (5090, 1)\n",
            "[0. 1.]\n"
          ],
          "name": "stdout"
        }
      ]
    },
    {
      "cell_type": "code",
      "metadata": {
        "id": "E21GmkS4nd81",
        "colab_type": "code",
        "colab": {}
      },
      "source": [
        "reg = L1L2(l1=0.01, l2=0.01)\n",
        "model = Sequential()\n",
        "model.add(LSTM(200, input_shape=(1, look_back),return_sequences = True,bias_regularizer=reg,activation=\"relu\"))\n",
        "model.add(Dropout(0.4))\n",
        "model.add(LSTM(200,return_sequences = True,bias_regularizer=reg,activation=\"relu\"))\n",
        "model.add(Dropout(0.4))\n",
        "model.add(LSTM(100,return_sequences = True,bias_regularizer=reg,activation=\"relu\"))\n",
        "model.add(Dropout(0.2))\n",
        "model.add(LSTM(50,return_sequences = False,bias_regularizer=reg,activation=\"relu\"))\n",
        "\n",
        "model.add(Dense(1))\n",
        "model1.add(Activation('linear'))\n",
        "model.compile(loss='mean_squared_error', optimizer='adam')"
      ],
      "execution_count": 171,
      "outputs": []
    },
    {
      "cell_type": "code",
      "metadata": {
        "id": "OyRWqkSUrYaI",
        "colab_type": "code",
        "colab": {}
      },
      "source": [
        "reg = L1L2(l1=0.001, l2=0.001)\n",
        "model1 = Sequential()\n",
        "model1.add(LSTM(64,input_shape = (1, look_back),bias_regularizer=reg, return_sequences = True,activation=\"relu\"))\n",
        "model1.add(Dropout(0.2))\n",
        "model1.add(LSTM(128,return_sequences = True,bias_regularizer=reg,activation=\"relu\"))\n",
        "model1.add(Dropout(0.3))\n",
        "model1.add(LSTM(128,return_sequences = True,bias_regularizer=reg,activation=\"relu\"))\n",
        "model1.add(Dropout(0.4))\n",
        "model1.add(LSTM(64,return_sequences = True,bias_regularizer=reg,activation=\"relu\"))\n",
        "#model1.add(Dropout(0.2))\n",
        "model1.add(LSTM(512,return_sequences = True,bias_regularizer=reg,activation=\"relu\"))\n",
        "model1.add(Dropout(0.35))\n",
        "model1.add(LSTM(64,return_sequences = True,bias_regularizer=reg,activation=\"relu\"))\n",
        "model1.add(LSTM(64,return_sequences = False,bias_regularizer=reg,activation=\"relu\"))\n",
        "model1.add(Dropout(0.2))\n",
        "model1.add(Dense(1))\n",
        "model1.add(Activation('linear'))\n",
        "model1.compile(loss=\"mean_squared_error\", optimizer=\"adam\")"
      ],
      "execution_count": 143,
      "outputs": []
    },
    {
      "cell_type": "code",
      "metadata": {
        "id": "g4nE68KBvJn2",
        "colab_type": "code",
        "colab": {}
      },
      "source": [
        "reg = L1L2(l1=0.01, l2=0.01)\n",
        "model2 = Sequential()\n",
        "model2.add(LSTM(10, input_shape=(1, look_back),return_sequences = False))\n",
        "model2.add(Dense(1, activation='linear'))\n",
        "model2.compile(loss='mse', optimizer='adam')"
      ],
      "execution_count": 450,
      "outputs": []
    },
    {
      "cell_type": "code",
      "metadata": {
        "id": "JYhzP_vknkGN",
        "colab_type": "code",
        "colab": {
          "base_uri": "https://localhost:8080/",
          "height": 1000
        },
        "outputId": "f1feb33f-6a0d-4f3f-eac7-db2992d30b4b"
      },
      "source": [
        "model2.fit(train_x,train_y,epochs = 350,verbose=2, shuffle=False)"
      ],
      "execution_count": 451,
      "outputs": [
        {
          "output_type": "stream",
          "text": [
            "Epoch 1/350\n",
            "135/135 - 0s - loss: 0.1306\n",
            "Epoch 2/350\n",
            "135/135 - 0s - loss: 0.0902\n",
            "Epoch 3/350\n",
            "135/135 - 0s - loss: 0.0874\n",
            "Epoch 4/350\n",
            "135/135 - 0s - loss: 0.0856\n",
            "Epoch 5/350\n",
            "135/135 - 0s - loss: 0.0846\n",
            "Epoch 6/350\n",
            "135/135 - 0s - loss: 0.0839\n",
            "Epoch 7/350\n",
            "135/135 - 0s - loss: 0.0835\n",
            "Epoch 8/350\n",
            "135/135 - 0s - loss: 0.0833\n",
            "Epoch 9/350\n",
            "135/135 - 0s - loss: 0.0832\n",
            "Epoch 10/350\n",
            "135/135 - 0s - loss: 0.0831\n",
            "Epoch 11/350\n",
            "135/135 - 0s - loss: 0.0830\n",
            "Epoch 12/350\n",
            "135/135 - 0s - loss: 0.0830\n",
            "Epoch 13/350\n",
            "135/135 - 0s - loss: 0.0830\n",
            "Epoch 14/350\n",
            "135/135 - 0s - loss: 0.0830\n",
            "Epoch 15/350\n",
            "135/135 - 0s - loss: 0.0829\n",
            "Epoch 16/350\n",
            "135/135 - 0s - loss: 0.0829\n",
            "Epoch 17/350\n",
            "135/135 - 0s - loss: 0.0829\n",
            "Epoch 18/350\n",
            "135/135 - 0s - loss: 0.0829\n",
            "Epoch 19/350\n",
            "135/135 - 0s - loss: 0.0829\n",
            "Epoch 20/350\n",
            "135/135 - 0s - loss: 0.0829\n",
            "Epoch 21/350\n",
            "135/135 - 0s - loss: 0.0829\n",
            "Epoch 22/350\n",
            "135/135 - 0s - loss: 0.0829\n",
            "Epoch 23/350\n",
            "135/135 - 0s - loss: 0.0829\n",
            "Epoch 24/350\n",
            "135/135 - 0s - loss: 0.0829\n",
            "Epoch 25/350\n",
            "135/135 - 0s - loss: 0.0829\n",
            "Epoch 26/350\n",
            "135/135 - 0s - loss: 0.0829\n",
            "Epoch 27/350\n",
            "135/135 - 0s - loss: 0.0829\n",
            "Epoch 28/350\n",
            "135/135 - 0s - loss: 0.0829\n",
            "Epoch 29/350\n",
            "135/135 - 0s - loss: 0.0829\n",
            "Epoch 30/350\n",
            "135/135 - 0s - loss: 0.0829\n",
            "Epoch 31/350\n",
            "135/135 - 0s - loss: 0.0829\n",
            "Epoch 32/350\n",
            "135/135 - 0s - loss: 0.0828\n",
            "Epoch 33/350\n",
            "135/135 - 0s - loss: 0.0828\n",
            "Epoch 34/350\n",
            "135/135 - 0s - loss: 0.0828\n",
            "Epoch 35/350\n",
            "135/135 - 0s - loss: 0.0828\n",
            "Epoch 36/350\n",
            "135/135 - 0s - loss: 0.0828\n",
            "Epoch 37/350\n",
            "135/135 - 0s - loss: 0.0828\n",
            "Epoch 38/350\n",
            "135/135 - 0s - loss: 0.0828\n",
            "Epoch 39/350\n",
            "135/135 - 0s - loss: 0.0828\n",
            "Epoch 40/350\n",
            "135/135 - 0s - loss: 0.0828\n",
            "Epoch 41/350\n",
            "135/135 - 0s - loss: 0.0828\n",
            "Epoch 42/350\n",
            "135/135 - 0s - loss: 0.0828\n",
            "Epoch 43/350\n",
            "135/135 - 0s - loss: 0.0828\n",
            "Epoch 44/350\n",
            "135/135 - 0s - loss: 0.0828\n",
            "Epoch 45/350\n",
            "135/135 - 0s - loss: 0.0828\n",
            "Epoch 46/350\n",
            "135/135 - 0s - loss: 0.0828\n",
            "Epoch 47/350\n",
            "135/135 - 0s - loss: 0.0828\n",
            "Epoch 48/350\n",
            "135/135 - 0s - loss: 0.0828\n",
            "Epoch 49/350\n",
            "135/135 - 0s - loss: 0.0828\n",
            "Epoch 50/350\n",
            "135/135 - 0s - loss: 0.0828\n",
            "Epoch 51/350\n",
            "135/135 - 0s - loss: 0.0828\n",
            "Epoch 52/350\n",
            "135/135 - 0s - loss: 0.0828\n",
            "Epoch 53/350\n",
            "135/135 - 0s - loss: 0.0828\n",
            "Epoch 54/350\n",
            "135/135 - 0s - loss: 0.0828\n",
            "Epoch 55/350\n",
            "135/135 - 0s - loss: 0.0828\n",
            "Epoch 56/350\n",
            "135/135 - 0s - loss: 0.0828\n",
            "Epoch 57/350\n",
            "135/135 - 0s - loss: 0.0828\n",
            "Epoch 58/350\n",
            "135/135 - 0s - loss: 0.0827\n",
            "Epoch 59/350\n",
            "135/135 - 0s - loss: 0.0827\n",
            "Epoch 60/350\n",
            "135/135 - 0s - loss: 0.0827\n",
            "Epoch 61/350\n",
            "135/135 - 0s - loss: 0.0827\n",
            "Epoch 62/350\n",
            "135/135 - 0s - loss: 0.0827\n",
            "Epoch 63/350\n",
            "135/135 - 0s - loss: 0.0827\n",
            "Epoch 64/350\n",
            "135/135 - 0s - loss: 0.0827\n",
            "Epoch 65/350\n",
            "135/135 - 0s - loss: 0.0827\n",
            "Epoch 66/350\n",
            "135/135 - 0s - loss: 0.0827\n",
            "Epoch 67/350\n",
            "135/135 - 0s - loss: 0.0827\n",
            "Epoch 68/350\n",
            "135/135 - 0s - loss: 0.0827\n",
            "Epoch 69/350\n",
            "135/135 - 0s - loss: 0.0827\n",
            "Epoch 70/350\n",
            "135/135 - 0s - loss: 0.0827\n",
            "Epoch 71/350\n",
            "135/135 - 0s - loss: 0.0827\n",
            "Epoch 72/350\n",
            "135/135 - 0s - loss: 0.0827\n",
            "Epoch 73/350\n",
            "135/135 - 0s - loss: 0.0827\n",
            "Epoch 74/350\n",
            "135/135 - 0s - loss: 0.0827\n",
            "Epoch 75/350\n",
            "135/135 - 0s - loss: 0.0827\n",
            "Epoch 76/350\n",
            "135/135 - 0s - loss: 0.0827\n",
            "Epoch 77/350\n",
            "135/135 - 0s - loss: 0.0827\n",
            "Epoch 78/350\n",
            "135/135 - 0s - loss: 0.0827\n",
            "Epoch 79/350\n",
            "135/135 - 0s - loss: 0.0827\n",
            "Epoch 80/350\n",
            "135/135 - 0s - loss: 0.0827\n",
            "Epoch 81/350\n",
            "135/135 - 0s - loss: 0.0827\n",
            "Epoch 82/350\n",
            "135/135 - 0s - loss: 0.0827\n",
            "Epoch 83/350\n",
            "135/135 - 0s - loss: 0.0827\n",
            "Epoch 84/350\n",
            "135/135 - 0s - loss: 0.0827\n",
            "Epoch 85/350\n",
            "135/135 - 0s - loss: 0.0827\n",
            "Epoch 86/350\n",
            "135/135 - 0s - loss: 0.0827\n",
            "Epoch 87/350\n",
            "135/135 - 0s - loss: 0.0827\n",
            "Epoch 88/350\n",
            "135/135 - 0s - loss: 0.0827\n",
            "Epoch 89/350\n",
            "135/135 - 0s - loss: 0.0827\n",
            "Epoch 90/350\n",
            "135/135 - 0s - loss: 0.0827\n",
            "Epoch 91/350\n",
            "135/135 - 0s - loss: 0.0827\n",
            "Epoch 92/350\n",
            "135/135 - 0s - loss: 0.0827\n",
            "Epoch 93/350\n",
            "135/135 - 0s - loss: 0.0826\n",
            "Epoch 94/350\n",
            "135/135 - 0s - loss: 0.0826\n",
            "Epoch 95/350\n",
            "135/135 - 0s - loss: 0.0826\n",
            "Epoch 96/350\n",
            "135/135 - 0s - loss: 0.0826\n",
            "Epoch 97/350\n",
            "135/135 - 0s - loss: 0.0826\n",
            "Epoch 98/350\n",
            "135/135 - 0s - loss: 0.0826\n",
            "Epoch 99/350\n",
            "135/135 - 0s - loss: 0.0826\n",
            "Epoch 100/350\n",
            "135/135 - 0s - loss: 0.0826\n",
            "Epoch 101/350\n",
            "135/135 - 0s - loss: 0.0826\n",
            "Epoch 102/350\n",
            "135/135 - 0s - loss: 0.0826\n",
            "Epoch 103/350\n",
            "135/135 - 0s - loss: 0.0826\n",
            "Epoch 104/350\n",
            "135/135 - 0s - loss: 0.0826\n",
            "Epoch 105/350\n",
            "135/135 - 0s - loss: 0.0826\n",
            "Epoch 106/350\n",
            "135/135 - 0s - loss: 0.0826\n",
            "Epoch 107/350\n",
            "135/135 - 0s - loss: 0.0826\n",
            "Epoch 108/350\n",
            "135/135 - 0s - loss: 0.0826\n",
            "Epoch 109/350\n",
            "135/135 - 0s - loss: 0.0826\n",
            "Epoch 110/350\n",
            "135/135 - 0s - loss: 0.0826\n",
            "Epoch 111/350\n",
            "135/135 - 0s - loss: 0.0826\n",
            "Epoch 112/350\n",
            "135/135 - 0s - loss: 0.0826\n",
            "Epoch 113/350\n",
            "135/135 - 0s - loss: 0.0826\n",
            "Epoch 114/350\n",
            "135/135 - 0s - loss: 0.0826\n",
            "Epoch 115/350\n",
            "135/135 - 0s - loss: 0.0826\n",
            "Epoch 116/350\n",
            "135/135 - 0s - loss: 0.0826\n",
            "Epoch 117/350\n",
            "135/135 - 0s - loss: 0.0826\n",
            "Epoch 118/350\n",
            "135/135 - 0s - loss: 0.0826\n",
            "Epoch 119/350\n",
            "135/135 - 0s - loss: 0.0826\n",
            "Epoch 120/350\n",
            "135/135 - 0s - loss: 0.0826\n",
            "Epoch 121/350\n",
            "135/135 - 0s - loss: 0.0826\n",
            "Epoch 122/350\n",
            "135/135 - 0s - loss: 0.0826\n",
            "Epoch 123/350\n",
            "135/135 - 0s - loss: 0.0826\n",
            "Epoch 124/350\n",
            "135/135 - 0s - loss: 0.0826\n",
            "Epoch 125/350\n",
            "135/135 - 0s - loss: 0.0826\n",
            "Epoch 126/350\n",
            "135/135 - 0s - loss: 0.0826\n",
            "Epoch 127/350\n",
            "135/135 - 0s - loss: 0.0826\n",
            "Epoch 128/350\n",
            "135/135 - 0s - loss: 0.0826\n",
            "Epoch 129/350\n",
            "135/135 - 0s - loss: 0.0826\n",
            "Epoch 130/350\n",
            "135/135 - 0s - loss: 0.0825\n",
            "Epoch 131/350\n",
            "135/135 - 0s - loss: 0.0825\n",
            "Epoch 132/350\n",
            "135/135 - 0s - loss: 0.0825\n",
            "Epoch 133/350\n",
            "135/135 - 0s - loss: 0.0825\n",
            "Epoch 134/350\n",
            "135/135 - 0s - loss: 0.0825\n",
            "Epoch 135/350\n",
            "135/135 - 0s - loss: 0.0825\n",
            "Epoch 136/350\n",
            "135/135 - 0s - loss: 0.0825\n",
            "Epoch 137/350\n",
            "135/135 - 0s - loss: 0.0825\n",
            "Epoch 138/350\n",
            "135/135 - 0s - loss: 0.0825\n",
            "Epoch 139/350\n",
            "135/135 - 0s - loss: 0.0825\n",
            "Epoch 140/350\n",
            "135/135 - 0s - loss: 0.0825\n",
            "Epoch 141/350\n",
            "135/135 - 0s - loss: 0.0825\n",
            "Epoch 142/350\n",
            "135/135 - 0s - loss: 0.0825\n",
            "Epoch 143/350\n",
            "135/135 - 0s - loss: 0.0825\n",
            "Epoch 144/350\n",
            "135/135 - 0s - loss: 0.0825\n",
            "Epoch 145/350\n",
            "135/135 - 0s - loss: 0.0825\n",
            "Epoch 146/350\n",
            "135/135 - 0s - loss: 0.0825\n",
            "Epoch 147/350\n",
            "135/135 - 0s - loss: 0.0825\n",
            "Epoch 148/350\n",
            "135/135 - 0s - loss: 0.0825\n",
            "Epoch 149/350\n",
            "135/135 - 0s - loss: 0.0825\n",
            "Epoch 150/350\n",
            "135/135 - 0s - loss: 0.0825\n",
            "Epoch 151/350\n",
            "135/135 - 0s - loss: 0.0825\n",
            "Epoch 152/350\n",
            "135/135 - 0s - loss: 0.0825\n",
            "Epoch 153/350\n",
            "135/135 - 0s - loss: 0.0825\n",
            "Epoch 154/350\n",
            "135/135 - 0s - loss: 0.0825\n",
            "Epoch 155/350\n",
            "135/135 - 0s - loss: 0.0825\n",
            "Epoch 156/350\n",
            "135/135 - 0s - loss: 0.0825\n",
            "Epoch 157/350\n",
            "135/135 - 0s - loss: 0.0825\n",
            "Epoch 158/350\n",
            "135/135 - 0s - loss: 0.0825\n",
            "Epoch 159/350\n",
            "135/135 - 0s - loss: 0.0825\n",
            "Epoch 160/350\n",
            "135/135 - 0s - loss: 0.0825\n",
            "Epoch 161/350\n",
            "135/135 - 0s - loss: 0.0825\n",
            "Epoch 162/350\n",
            "135/135 - 0s - loss: 0.0825\n",
            "Epoch 163/350\n",
            "135/135 - 0s - loss: 0.0825\n",
            "Epoch 164/350\n",
            "135/135 - 0s - loss: 0.0825\n",
            "Epoch 165/350\n",
            "135/135 - 0s - loss: 0.0825\n",
            "Epoch 166/350\n",
            "135/135 - 0s - loss: 0.0825\n",
            "Epoch 167/350\n",
            "135/135 - 0s - loss: 0.0825\n",
            "Epoch 168/350\n",
            "135/135 - 0s - loss: 0.0825\n",
            "Epoch 169/350\n",
            "135/135 - 0s - loss: 0.0825\n",
            "Epoch 170/350\n",
            "135/135 - 0s - loss: 0.0824\n",
            "Epoch 171/350\n",
            "135/135 - 0s - loss: 0.0824\n",
            "Epoch 172/350\n",
            "135/135 - 0s - loss: 0.0824\n",
            "Epoch 173/350\n",
            "135/135 - 0s - loss: 0.0824\n",
            "Epoch 174/350\n",
            "135/135 - 0s - loss: 0.0824\n",
            "Epoch 175/350\n",
            "135/135 - 0s - loss: 0.0824\n",
            "Epoch 176/350\n",
            "135/135 - 0s - loss: 0.0824\n",
            "Epoch 177/350\n",
            "135/135 - 0s - loss: 0.0824\n",
            "Epoch 178/350\n",
            "135/135 - 0s - loss: 0.0824\n",
            "Epoch 179/350\n",
            "135/135 - 0s - loss: 0.0824\n",
            "Epoch 180/350\n",
            "135/135 - 0s - loss: 0.0824\n",
            "Epoch 181/350\n",
            "135/135 - 0s - loss: 0.0824\n",
            "Epoch 182/350\n",
            "135/135 - 0s - loss: 0.0824\n",
            "Epoch 183/350\n",
            "135/135 - 0s - loss: 0.0824\n",
            "Epoch 184/350\n",
            "135/135 - 0s - loss: 0.0824\n",
            "Epoch 185/350\n",
            "135/135 - 0s - loss: 0.0824\n",
            "Epoch 186/350\n",
            "135/135 - 0s - loss: 0.0824\n",
            "Epoch 187/350\n",
            "135/135 - 0s - loss: 0.0824\n",
            "Epoch 188/350\n",
            "135/135 - 0s - loss: 0.0824\n",
            "Epoch 189/350\n",
            "135/135 - 0s - loss: 0.0824\n",
            "Epoch 190/350\n",
            "135/135 - 0s - loss: 0.0824\n",
            "Epoch 191/350\n",
            "135/135 - 0s - loss: 0.0824\n",
            "Epoch 192/350\n",
            "135/135 - 0s - loss: 0.0824\n",
            "Epoch 193/350\n",
            "135/135 - 0s - loss: 0.0824\n",
            "Epoch 194/350\n",
            "135/135 - 0s - loss: 0.0824\n",
            "Epoch 195/350\n",
            "135/135 - 0s - loss: 0.0824\n",
            "Epoch 196/350\n",
            "135/135 - 0s - loss: 0.0824\n",
            "Epoch 197/350\n",
            "135/135 - 0s - loss: 0.0824\n",
            "Epoch 198/350\n",
            "135/135 - 0s - loss: 0.0824\n",
            "Epoch 199/350\n",
            "135/135 - 0s - loss: 0.0824\n",
            "Epoch 200/350\n",
            "135/135 - 0s - loss: 0.0824\n",
            "Epoch 201/350\n",
            "135/135 - 0s - loss: 0.0824\n",
            "Epoch 202/350\n",
            "135/135 - 0s - loss: 0.0824\n",
            "Epoch 203/350\n",
            "135/135 - 0s - loss: 0.0824\n",
            "Epoch 204/350\n",
            "135/135 - 0s - loss: 0.0824\n",
            "Epoch 205/350\n",
            "135/135 - 0s - loss: 0.0824\n",
            "Epoch 206/350\n",
            "135/135 - 0s - loss: 0.0824\n",
            "Epoch 207/350\n",
            "135/135 - 0s - loss: 0.0824\n",
            "Epoch 208/350\n",
            "135/135 - 0s - loss: 0.0824\n",
            "Epoch 209/350\n",
            "135/135 - 0s - loss: 0.0824\n",
            "Epoch 210/350\n",
            "135/135 - 0s - loss: 0.0824\n",
            "Epoch 211/350\n",
            "135/135 - 0s - loss: 0.0824\n",
            "Epoch 212/350\n",
            "135/135 - 0s - loss: 0.0824\n",
            "Epoch 213/350\n",
            "135/135 - 0s - loss: 0.0824\n",
            "Epoch 214/350\n",
            "135/135 - 0s - loss: 0.0824\n",
            "Epoch 215/350\n",
            "135/135 - 0s - loss: 0.0823\n",
            "Epoch 216/350\n",
            "135/135 - 0s - loss: 0.0823\n",
            "Epoch 217/350\n",
            "135/135 - 0s - loss: 0.0823\n",
            "Epoch 218/350\n",
            "135/135 - 0s - loss: 0.0823\n",
            "Epoch 219/350\n",
            "135/135 - 0s - loss: 0.0823\n",
            "Epoch 220/350\n",
            "135/135 - 0s - loss: 0.0823\n",
            "Epoch 221/350\n",
            "135/135 - 0s - loss: 0.0823\n",
            "Epoch 222/350\n",
            "135/135 - 0s - loss: 0.0823\n",
            "Epoch 223/350\n",
            "135/135 - 0s - loss: 0.0823\n",
            "Epoch 224/350\n",
            "135/135 - 0s - loss: 0.0823\n",
            "Epoch 225/350\n",
            "135/135 - 0s - loss: 0.0823\n",
            "Epoch 226/350\n",
            "135/135 - 0s - loss: 0.0823\n",
            "Epoch 227/350\n",
            "135/135 - 0s - loss: 0.0823\n",
            "Epoch 228/350\n",
            "135/135 - 0s - loss: 0.0823\n",
            "Epoch 229/350\n",
            "135/135 - 0s - loss: 0.0823\n",
            "Epoch 230/350\n",
            "135/135 - 0s - loss: 0.0823\n",
            "Epoch 231/350\n",
            "135/135 - 0s - loss: 0.0823\n",
            "Epoch 232/350\n",
            "135/135 - 0s - loss: 0.0823\n",
            "Epoch 233/350\n",
            "135/135 - 0s - loss: 0.0823\n",
            "Epoch 234/350\n",
            "135/135 - 0s - loss: 0.0823\n",
            "Epoch 235/350\n",
            "135/135 - 0s - loss: 0.0823\n",
            "Epoch 236/350\n",
            "135/135 - 0s - loss: 0.0823\n",
            "Epoch 237/350\n",
            "135/135 - 0s - loss: 0.0823\n",
            "Epoch 238/350\n",
            "135/135 - 0s - loss: 0.0823\n",
            "Epoch 239/350\n",
            "135/135 - 0s - loss: 0.0823\n",
            "Epoch 240/350\n",
            "135/135 - 0s - loss: 0.0823\n",
            "Epoch 241/350\n",
            "135/135 - 0s - loss: 0.0823\n",
            "Epoch 242/350\n",
            "135/135 - 0s - loss: 0.0823\n",
            "Epoch 243/350\n",
            "135/135 - 0s - loss: 0.0823\n",
            "Epoch 244/350\n",
            "135/135 - 0s - loss: 0.0823\n",
            "Epoch 245/350\n",
            "135/135 - 0s - loss: 0.0823\n",
            "Epoch 246/350\n",
            "135/135 - 0s - loss: 0.0823\n",
            "Epoch 247/350\n",
            "135/135 - 0s - loss: 0.0823\n",
            "Epoch 248/350\n",
            "135/135 - 0s - loss: 0.0823\n",
            "Epoch 249/350\n",
            "135/135 - 0s - loss: 0.0823\n",
            "Epoch 250/350\n",
            "135/135 - 0s - loss: 0.0823\n",
            "Epoch 251/350\n",
            "135/135 - 0s - loss: 0.0823\n",
            "Epoch 252/350\n",
            "135/135 - 0s - loss: 0.0823\n",
            "Epoch 253/350\n",
            "135/135 - 0s - loss: 0.0823\n",
            "Epoch 254/350\n",
            "135/135 - 0s - loss: 0.0823\n",
            "Epoch 255/350\n",
            "135/135 - 0s - loss: 0.0823\n",
            "Epoch 256/350\n",
            "135/135 - 0s - loss: 0.0823\n",
            "Epoch 257/350\n",
            "135/135 - 0s - loss: 0.0823\n",
            "Epoch 258/350\n",
            "135/135 - 0s - loss: 0.0823\n",
            "Epoch 259/350\n",
            "135/135 - 0s - loss: 0.0823\n",
            "Epoch 260/350\n",
            "135/135 - 0s - loss: 0.0823\n",
            "Epoch 261/350\n",
            "135/135 - 0s - loss: 0.0823\n",
            "Epoch 262/350\n",
            "135/135 - 0s - loss: 0.0823\n",
            "Epoch 263/350\n",
            "135/135 - 0s - loss: 0.0823\n",
            "Epoch 264/350\n",
            "135/135 - 0s - loss: 0.0823\n",
            "Epoch 265/350\n",
            "135/135 - 0s - loss: 0.0823\n",
            "Epoch 266/350\n",
            "135/135 - 0s - loss: 0.0823\n",
            "Epoch 267/350\n",
            "135/135 - 0s - loss: 0.0823\n",
            "Epoch 268/350\n",
            "135/135 - 0s - loss: 0.0823\n",
            "Epoch 269/350\n",
            "135/135 - 0s - loss: 0.0823\n",
            "Epoch 270/350\n",
            "135/135 - 0s - loss: 0.0823\n",
            "Epoch 271/350\n",
            "135/135 - 0s - loss: 0.0823\n",
            "Epoch 272/350\n",
            "135/135 - 0s - loss: 0.0823\n",
            "Epoch 273/350\n",
            "135/135 - 0s - loss: 0.0822\n",
            "Epoch 274/350\n",
            "135/135 - 0s - loss: 0.0822\n",
            "Epoch 275/350\n",
            "135/135 - 0s - loss: 0.0822\n",
            "Epoch 276/350\n",
            "135/135 - 0s - loss: 0.0822\n",
            "Epoch 277/350\n",
            "135/135 - 0s - loss: 0.0822\n",
            "Epoch 278/350\n",
            "135/135 - 0s - loss: 0.0822\n",
            "Epoch 279/350\n",
            "135/135 - 0s - loss: 0.0822\n",
            "Epoch 280/350\n",
            "135/135 - 0s - loss: 0.0822\n",
            "Epoch 281/350\n",
            "135/135 - 0s - loss: 0.0822\n",
            "Epoch 282/350\n",
            "135/135 - 0s - loss: 0.0822\n",
            "Epoch 283/350\n",
            "135/135 - 0s - loss: 0.0822\n",
            "Epoch 284/350\n",
            "135/135 - 0s - loss: 0.0822\n",
            "Epoch 285/350\n",
            "135/135 - 0s - loss: 0.0822\n",
            "Epoch 286/350\n",
            "135/135 - 0s - loss: 0.0822\n",
            "Epoch 287/350\n",
            "135/135 - 0s - loss: 0.0822\n",
            "Epoch 288/350\n",
            "135/135 - 0s - loss: 0.0822\n",
            "Epoch 289/350\n",
            "135/135 - 0s - loss: 0.0822\n",
            "Epoch 290/350\n",
            "135/135 - 0s - loss: 0.0822\n",
            "Epoch 291/350\n",
            "135/135 - 0s - loss: 0.0822\n",
            "Epoch 292/350\n",
            "135/135 - 0s - loss: 0.0822\n",
            "Epoch 293/350\n",
            "135/135 - 0s - loss: 0.0822\n",
            "Epoch 294/350\n",
            "135/135 - 0s - loss: 0.0822\n",
            "Epoch 295/350\n",
            "135/135 - 0s - loss: 0.0822\n",
            "Epoch 296/350\n",
            "135/135 - 0s - loss: 0.0822\n",
            "Epoch 297/350\n",
            "135/135 - 0s - loss: 0.0822\n",
            "Epoch 298/350\n",
            "135/135 - 0s - loss: 0.0822\n",
            "Epoch 299/350\n",
            "135/135 - 0s - loss: 0.0822\n",
            "Epoch 300/350\n",
            "135/135 - 0s - loss: 0.0822\n",
            "Epoch 301/350\n",
            "135/135 - 0s - loss: 0.0822\n",
            "Epoch 302/350\n",
            "135/135 - 0s - loss: 0.0822\n",
            "Epoch 303/350\n",
            "135/135 - 0s - loss: 0.0822\n",
            "Epoch 304/350\n",
            "135/135 - 0s - loss: 0.0822\n",
            "Epoch 305/350\n",
            "135/135 - 0s - loss: 0.0822\n",
            "Epoch 306/350\n",
            "135/135 - 0s - loss: 0.0822\n",
            "Epoch 307/350\n",
            "135/135 - 0s - loss: 0.0822\n",
            "Epoch 308/350\n",
            "135/135 - 0s - loss: 0.0822\n",
            "Epoch 309/350\n",
            "135/135 - 0s - loss: 0.0822\n",
            "Epoch 310/350\n",
            "135/135 - 0s - loss: 0.0822\n",
            "Epoch 311/350\n",
            "135/135 - 0s - loss: 0.0822\n",
            "Epoch 312/350\n",
            "135/135 - 0s - loss: 0.0822\n",
            "Epoch 313/350\n",
            "135/135 - 0s - loss: 0.0822\n",
            "Epoch 314/350\n",
            "135/135 - 0s - loss: 0.0822\n",
            "Epoch 315/350\n",
            "135/135 - 0s - loss: 0.0822\n",
            "Epoch 316/350\n",
            "135/135 - 0s - loss: 0.0822\n",
            "Epoch 317/350\n",
            "135/135 - 0s - loss: 0.0822\n",
            "Epoch 318/350\n",
            "135/135 - 0s - loss: 0.0822\n",
            "Epoch 319/350\n",
            "135/135 - 0s - loss: 0.0822\n",
            "Epoch 320/350\n",
            "135/135 - 0s - loss: 0.0822\n",
            "Epoch 321/350\n",
            "135/135 - 0s - loss: 0.0822\n",
            "Epoch 322/350\n",
            "135/135 - 0s - loss: 0.0822\n",
            "Epoch 323/350\n",
            "135/135 - 0s - loss: 0.0822\n",
            "Epoch 324/350\n",
            "135/135 - 0s - loss: 0.0822\n",
            "Epoch 325/350\n",
            "135/135 - 0s - loss: 0.0822\n",
            "Epoch 326/350\n",
            "135/135 - 0s - loss: 0.0822\n",
            "Epoch 327/350\n",
            "135/135 - 0s - loss: 0.0822\n",
            "Epoch 328/350\n",
            "135/135 - 0s - loss: 0.0822\n",
            "Epoch 329/350\n",
            "135/135 - 0s - loss: 0.0822\n",
            "Epoch 330/350\n",
            "135/135 - 0s - loss: 0.0822\n",
            "Epoch 331/350\n",
            "135/135 - 0s - loss: 0.0822\n",
            "Epoch 332/350\n",
            "135/135 - 0s - loss: 0.0822\n",
            "Epoch 333/350\n",
            "135/135 - 0s - loss: 0.0822\n",
            "Epoch 334/350\n",
            "135/135 - 0s - loss: 0.0822\n",
            "Epoch 335/350\n",
            "135/135 - 0s - loss: 0.0822\n",
            "Epoch 336/350\n",
            "135/135 - 0s - loss: 0.0822\n",
            "Epoch 337/350\n",
            "135/135 - 0s - loss: 0.0822\n",
            "Epoch 338/350\n",
            "135/135 - 0s - loss: 0.0822\n",
            "Epoch 339/350\n",
            "135/135 - 0s - loss: 0.0822\n",
            "Epoch 340/350\n",
            "135/135 - 0s - loss: 0.0822\n",
            "Epoch 341/350\n",
            "135/135 - 0s - loss: 0.0822\n",
            "Epoch 342/350\n",
            "135/135 - 0s - loss: 0.0821\n",
            "Epoch 343/350\n",
            "135/135 - 0s - loss: 0.0821\n",
            "Epoch 344/350\n",
            "135/135 - 0s - loss: 0.0821\n",
            "Epoch 345/350\n",
            "135/135 - 0s - loss: 0.0821\n",
            "Epoch 346/350\n",
            "135/135 - 0s - loss: 0.0821\n",
            "Epoch 347/350\n",
            "135/135 - 0s - loss: 0.0821\n",
            "Epoch 348/350\n",
            "135/135 - 0s - loss: 0.0821\n",
            "Epoch 349/350\n",
            "135/135 - 0s - loss: 0.0821\n",
            "Epoch 350/350\n",
            "135/135 - 0s - loss: 0.0821\n"
          ],
          "name": "stdout"
        },
        {
          "output_type": "execute_result",
          "data": {
            "text/plain": [
              "<tensorflow.python.keras.callbacks.History at 0x7fbd4c3485f8>"
            ]
          },
          "metadata": {
            "tags": []
          },
          "execution_count": 451
        }
      ]
    },
    {
      "cell_type": "code",
      "metadata": {
        "id": "bZqzliQvn5fs",
        "colab_type": "code",
        "colab": {
          "base_uri": "https://localhost:8080/",
          "height": 34
        },
        "outputId": "d024e728-7b2e-4a2d-b928-083bbb72d396"
      },
      "source": [
        "trainPredict = model2.predict(train_x)\n",
        "testPredict = model2.predict(test_x)\n",
        "testPredict.shape"
      ],
      "execution_count": 452,
      "outputs": [
        {
          "output_type": "execute_result",
          "data": {
            "text/plain": [
              "(755, 1)"
            ]
          },
          "metadata": {
            "tags": []
          },
          "execution_count": 452
        }
      ]
    },
    {
      "cell_type": "code",
      "metadata": {
        "id": "afQIoXMMsZnC",
        "colab_type": "code",
        "colab": {
          "base_uri": "https://localhost:8080/",
          "height": 34
        },
        "outputId": "589352f4-ff42-4a66-cd11-2665328b673e"
      },
      "source": [
        "x = []\n",
        "for i in trainPredict:\n",
        "  if i<0.5:\n",
        "    x.append(0)\n",
        "  else:\n",
        "    x.append(1)\n",
        "count = 0\n",
        "for i,j in zip(train_y,x):\n",
        "  if i == j:\n",
        "    count = count+1  \n",
        "\n",
        "print(count,len(train_y))    "
      ],
      "execution_count": 453,
      "outputs": [
        {
          "output_type": "stream",
          "text": [
            "445 4317\n"
          ],
          "name": "stdout"
        }
      ]
    },
    {
      "cell_type": "code",
      "metadata": {
        "id": "y1mMUXjOWLBN",
        "colab_type": "code",
        "colab": {
          "base_uri": "https://localhost:8080/",
          "height": 34
        },
        "outputId": "60fac6e0-1fd6-456a-9ac1-4a1746768ac4"
      },
      "source": [
        "\n",
        "yhat = model2.predict_classes(train_x)\n",
        "len(np.where(yhat==0)[0])"
      ],
      "execution_count": 462,
      "outputs": [
        {
          "output_type": "execute_result",
          "data": {
            "text/plain": [
              "4249"
            ]
          },
          "metadata": {
            "tags": []
          },
          "execution_count": 462
        }
      ]
    },
    {
      "cell_type": "code",
      "metadata": {
        "id": "5hYzbNeMrtKu",
        "colab_type": "code",
        "colab": {
          "base_uri": "https://localhost:8080/",
          "height": 51
        },
        "outputId": "3772d617-708e-4b73-ae23-aadeef03dcac"
      },
      "source": [
        "import math\n",
        "trainPredict = np.reshape(trainPredict,(trainPredict.shape[0],1))\n",
        "testPredict = np.reshape(testPredict,(testPredict.shape[0],1))\n",
        "trainPredict = scaler.inverse_transform(trainPredict)\n",
        "trainY = scaler.inverse_transform([train_y])\n",
        "testPredict = scaler.inverse_transform(testPredict)\n",
        "testY = scaler.inverse_transform([test_y])\n",
        "# calculate root mean squared error\n",
        "trainScore = math.sqrt(mean_squared_error(trainY[0], trainPredict[:,0]))\n",
        "print('Train Score: %.2f RMSE' % (trainScore))\n",
        "testScore = math.sqrt(mean_squared_error(testY[0], testPredict[:,0]))\n",
        "print('Test Score: %.2f RMSE' % (testScore))"
      ],
      "execution_count": 454,
      "outputs": [
        {
          "output_type": "stream",
          "text": [
            "Train Score: 2.58 RMSE\n",
            "Test Score: 2.56 RMSE\n"
          ],
          "name": "stdout"
        }
      ]
    },
    {
      "cell_type": "code",
      "metadata": {
        "id": "ZzBs-fmETPYS",
        "colab_type": "code",
        "colab": {
          "base_uri": "https://localhost:8080/",
          "height": 282
        },
        "outputId": "4623e9b4-bfe5-43d6-9d33-a32b47dccc1e"
      },
      "source": [
        "train_plot = [(i,j) for i,j in zip(trainPredict[:50],trainY[0][:50])]\n",
        "plt.plot(trainY[0][:50])\n",
        "plt.figure(figsize=(20,10))\n",
        "plt.show()"
      ],
      "execution_count": 463,
      "outputs": [
        {
          "output_type": "display_data",
          "data": {
            "image/png": "[encoded data removed]",
            "text/plain": [
              "<Figure size 432x288 with 1 Axes>"
            ]
          },
          "metadata": {
            "tags": [],
            "needs_background": "light"
          }
        },
        {
          "output_type": "display_data",
          "data": {
            "text/plain": [
              "<Figure size 1440x720 with 0 Axes>"
            ]
          },
          "metadata": {
            "tags": []
          }
        }
      ]
    },
    {
      "cell_type": "code",
      "metadata": {
        "id": "luYLuIygcJ3z",
        "colab_type": "code",
        "colab": {
          "base_uri": "https://localhost:8080/",
          "height": 265
        },
        "outputId": "00d4b98c-f583-4d21-ba35-5ffbd7cc25dd"
      },
      "source": [
        "train_plot = [(i,j) for i,j in zip(testY[0][:50],testPredict[:50])]\n",
        "plt.plot(trainPredict[:50])\n",
        "plt.show()"
      ],
      "execution_count": 464,
      "outputs": [
        {
          "output_type": "display_data",
          "data": {
            "image/png": "[encoded data removed]",
            "text/plain": [
              "<Figure size 432x288 with 1 Axes>"
            ]
          },
          "metadata": {
            "tags": [],
            "needs_background": "light"
          }
        }
      ]
    },
    {
      "cell_type": "code",
      "metadata": {
        "id": "2Kw1qZm1r52t",
        "colab_type": "code",
        "colab": {}
      },
      "source": [
        "val_x = [4,6,3,8,2]\n",
        "val_x = val_x[::-1]\n",
        "val_x = np.array(val_x)/10\n",
        "val_x = np.reshape(val_x,(1,1,5))"
      ],
      "execution_count": null,
      "outputs": []
    },
    {
      "cell_type": "code",
      "metadata": {
        "id": "rLfzJlZ9JERe",
        "colab_type": "code",
        "colab": {
          "base_uri": "https://localhost:8080/",
          "height": 34
        },
        "outputId": "06b3718f-95ff-4ad9-cce2-9321112b4cbf"
      },
      "source": [
        "val = np.squeeze(np.round(model.predict(val_x)*10))\n",
        "print(\"red\" if val%2==0 else \"green\")"
      ],
      "execution_count": null,
      "outputs": [
        {
          "output_type": "stream",
          "text": [
            "green\n"
          ],
          "name": "stdout"
        }
      ]
    },
    {
      "cell_type": "code",
      "metadata": {
        "id": "9OOY7yjkbyi6",
        "colab_type": "code",
        "colab": {
          "base_uri": "https://localhost:8080/",
          "height": 34
        },
        "outputId": "989e950f-792a-4dd3-9022-2ed77ae980b2"
      },
      "source": [
        "model.predict(val_x)"
      ],
      "execution_count": null,
      "outputs": [
        {
          "output_type": "execute_result",
          "data": {
            "text/plain": [
              "array([[0.47765648]], dtype=float32)"
            ]
          },
          "metadata": {
            "tags": []
          },
          "execution_count": 753
        }
      ]
    },
    {
      "cell_type": "code",
      "metadata": {
        "id": "7YCYXZvTh27n",
        "colab_type": "code",
        "colab": {}
      },
      "source": [
        "val_x = [9,4,9,9,4,1,7,7,4,2]\n",
        "val_x = np.array(val_x)/10\n",
        "val_x = np.reshape(val_x,(1,1,10))"
      ],
      "execution_count": null,
      "outputs": []
    },
    {
      "cell_type": "code",
      "metadata": {
        "id": "TL6aPTgRT8gK",
        "colab_type": "code",
        "colab": {}
      },
      "source": [
        ""
      ],
      "execution_count": 87,
      "outputs": []
    }
  ]
}