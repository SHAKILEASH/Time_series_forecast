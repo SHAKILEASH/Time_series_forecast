{
  "nbformat": 4,
  "nbformat_minor": 0,
  "metadata": {
    "colab": {
      "name": "bonum_model.ipynb",
      "provenance": [],
      "collapsed_sections": []
    },
    "kernelspec": {
      "name": "python3",
      "display_name": "Python 3"
    }
  },
  "cells": [
    {
      "cell_type": "code",
      "metadata": {
        "id": "iSbfdr3mm9Cz",
        "colab_type": "code",
        "colab": {}
      },
      "source": [
        "import tensorflow as tf\n",
        "import pandas as pd\n",
        "import numpy as np\n",
        "import keras\n",
        "from io import BytesIO\n",
        "from keras.models import Sequential\n",
        "from keras.layers import LSTM, Dense,Dropout,Activation\n",
        "from keras.regularizers import L1L2\n",
        "import matplotlib.pyplot as plt\n",
        "from keras.preprocessing.sequence import TimeseriesGenerator\n",
        "from google.colab import files\n",
        "from sklearn.preprocessing import MinMaxScaler\n",
        "from sklearn.metrics import mean_squared_error\n",
        "from pylab import rcParams\n",
        "rcParams['figure.figsize'] = 20,10"
      ],
      "execution_count": 140,
      "outputs": []
    },
    {
      "cell_type": "code",
      "metadata": {
        "id": "7UOoY_QXnOlH",
        "colab_type": "code",
        "colab": {
          "resources": {
            "http://localhost:8080/nbextensions/google.colab/files.js": {
              "data": "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",
              "ok": true,
              "headers": [
                [
                  "content-type",
                  "application/javascript"
                ]
              ],
              "status": 200,
              "status_text": ""
            }
          },
          "base_uri": "https://localhost:8080/",
          "height": 72
        },
        "outputId": "d19c57c4-4ab3-4118-bb46-70c236ad0ba4"
      },
      "source": [
        "uploaded = files.upload()"
      ],
      "execution_count": 63,
      "outputs": [
        {
          "output_type": "display_data",
          "data": {
            "text/html": [
              "\n",
              "     <input type=\"file\" id=\"files-2222c7ff-75b7-44fd-b65c-b2de48affd9e\" name=\"files[]\" multiple disabled\n",
              "        style=\"border:none\" />\n",
              "     <output id=\"result-2222c7ff-75b7-44fd-b65c-b2de48affd9e\">\n",
              "      Upload widget is only available when the cell has been executed in the\n",
              "      current browser session. Please rerun this cell to enable.\n",
              "      </output>\n",
              "      <script src=\"/nbextensions/google.colab/files.js\"></script> "
            ],
            "text/plain": [
              "<IPython.core.display.HTML object>"
            ]
          },
          "metadata": {
            "tags": []
          }
        },
        {
          "output_type": "stream",
          "text": [
            "Saving bonum.csv to bonum (1).csv\n"
          ],
          "name": "stdout"
        }
      ]
    },
    {
      "cell_type": "code",
      "metadata": {
        "id": "c7qHmeSZnbJF",
        "colab_type": "code",
        "colab": {}
      },
      "source": [
        "df = pd.read_csv(BytesIO(uploaded['bonum.csv']))"
      ],
      "execution_count": 64,
      "outputs": []
    },
    {
      "cell_type": "code",
      "metadata": {
        "id": "k4zC77nbnkvr",
        "colab_type": "code",
        "colab": {
          "base_uri": "https://localhost:8080/",
          "height": 187
        },
        "outputId": "8877bf8a-acfc-4a18-e10f-78c9317e6a13"
      },
      "source": [
        "df.info()"
      ],
      "execution_count": 65,
      "outputs": [
        {
          "output_type": "stream",
          "text": [
            "<class 'pandas.core.frame.DataFrame'>\n",
            "RangeIndex: 5090 entries, 0 to 5089\n",
            "Data columns (total 3 columns):\n",
            " #   Column  Non-Null Count  Dtype\n",
            "---  ------  --------------  -----\n",
            " 0   Period  5090 non-null   int64\n",
            " 1   Price   5090 non-null   int64\n",
            " 2   Num     5090 non-null   int64\n",
            "dtypes: int64(3)\n",
            "memory usage: 119.4 KB\n"
          ],
          "name": "stdout"
        }
      ]
    },
    {
      "cell_type": "code",
      "metadata": {
        "id": "E4gA3CbQoBvq",
        "colab_type": "code",
        "colab": {}
      },
      "source": [
        "#df.drop(columns=[\"Num\"],inplace=True)"
      ],
      "execution_count": null,
      "outputs": []
    },
    {
      "cell_type": "code",
      "metadata": {
        "id": "QamzcZBbqnLB",
        "colab_type": "code",
        "colab": {
          "base_uri": "https://localhost:8080/",
          "height": 265
        },
        "outputId": "ea12094b-0a72-41d3-e806-7edda94a193b"
      },
      "source": [
        "period = df[\"Period\"].values\n",
        "period = np.mod(period,100000)\n",
        "num = df[\"Num\"].values\n",
        "plt.plot(period,num)\n",
        "plt.show()\n"
      ],
      "execution_count": null,
      "outputs": [
        {
          "output_type": "display_data",
          "data": {
            "image/png": "[encoded data removed]",
            "text/plain": [
              "<Figure size 432x288 with 1 Axes>"
            ]
          },
          "metadata": {
            "tags": [],
            "needs_background": "light"
          }
        }
      ]
    },
    {
      "cell_type": "code",
      "metadata": {
        "id": "dNku3UziqorF",
        "colab_type": "code",
        "colab": {
          "base_uri": "https://localhost:8080/",
          "height": 51
        },
        "outputId": "10ea9f36-529c-48e0-cf91-124601cb359d"
      },
      "source": [
        "num = num.reshape((-1,1))\n",
        "split = int(0.80*len(num))\n",
        "train_x = num[:split]\n",
        "test_x = num[split:]\n",
        "print(\"shape of train_x :::\",train_x.shape)\n",
        "print(\"shape of test_x :::\",test_x.shape)"
      ],
      "execution_count": null,
      "outputs": [
        {
          "output_type": "stream",
          "text": [
            "shape of train_x ::: (1224, 1)\n",
            "shape of test_x ::: (306, 1)\n"
          ],
          "name": "stdout"
        }
      ]
    },
    {
      "cell_type": "code",
      "metadata": {
        "id": "3IPjKd27sqoV",
        "colab_type": "code",
        "colab": {}
      },
      "source": [
        "look_back = 10\n",
        "train_generator = TimeseriesGenerator(train_x, train_x, length=look_back, batch_size=20)     \n",
        "test_generator = TimeseriesGenerator(test_x, test_x, length=look_back, batch_size=1)\n"
      ],
      "execution_count": null,
      "outputs": []
    },
    {
      "cell_type": "code",
      "metadata": {
        "id": "vpALnVnfuG6-",
        "colab_type": "code",
        "colab": {}
      },
      "source": [
        "model = Sequential()\n",
        "model.add(LSTM(10,activation=\"relu\",input_shape=(look_back,1)))\n",
        "model.add(Dense(1))\n",
        "model.compile(optimizer=\"adam\",loss=\"mse\")"
      ],
      "execution_count": null,
      "outputs": []
    },
    {
      "cell_type": "code",
      "metadata": {
        "id": "xcJKs5JHuQbz",
        "colab_type": "code",
        "colab": {
          "base_uri": "https://localhost:8080/",
          "height": 884
        },
        "outputId": "77997d61-effb-48f7-e053-204d5a1267a8"
      },
      "source": [
        "model.fit_generator(train_generator, epochs=25, verbose=1)"
      ],
      "execution_count": null,
      "outputs": [
        {
          "output_type": "stream",
          "text": [
            "Epoch 1/25\n",
            "61/61 [==============================] - 0s 4ms/step - loss: 29.4761\n",
            "Epoch 2/25\n",
            "61/61 [==============================] - 0s 5ms/step - loss: 27.6503\n",
            "Epoch 3/25\n",
            "61/61 [==============================] - 0s 5ms/step - loss: 23.0817\n",
            "Epoch 4/25\n",
            "61/61 [==============================] - 0s 5ms/step - loss: 9.0491\n",
            "Epoch 5/25\n",
            "61/61 [==============================] - 0s 4ms/step - loss: 9.0226\n",
            "Epoch 6/25\n",
            "61/61 [==============================] - 0s 4ms/step - loss: 8.8922\n",
            "Epoch 7/25\n",
            "61/61 [==============================] - 0s 5ms/step - loss: 9.0983\n",
            "Epoch 8/25\n",
            "61/61 [==============================] - 0s 4ms/step - loss: 8.7633\n",
            "Epoch 9/25\n",
            "61/61 [==============================] - 0s 4ms/step - loss: 8.7061\n",
            "Epoch 10/25\n",
            "61/61 [==============================] - 0s 5ms/step - loss: 8.6784\n",
            "Epoch 11/25\n",
            "61/61 [==============================] - 0s 5ms/step - loss: 8.6631\n",
            "Epoch 12/25\n",
            "61/61 [==============================] - 0s 4ms/step - loss: 8.6943\n",
            "Epoch 13/25\n",
            "61/61 [==============================] - 0s 4ms/step - loss: 8.5630\n",
            "Epoch 14/25\n",
            "61/61 [==============================] - 0s 4ms/step - loss: 8.6651\n",
            "Epoch 15/25\n",
            "61/61 [==============================] - 0s 4ms/step - loss: 8.5774\n",
            "Epoch 16/25\n",
            "61/61 [==============================] - 0s 4ms/step - loss: 8.5279\n",
            "Epoch 17/25\n",
            "61/61 [==============================] - 0s 5ms/step - loss: 8.5984\n",
            "Epoch 18/25\n",
            "61/61 [==============================] - 0s 4ms/step - loss: 8.5344\n",
            "Epoch 19/25\n",
            "61/61 [==============================] - 0s 4ms/step - loss: 8.5728\n",
            "Epoch 20/25\n",
            "61/61 [==============================] - 0s 4ms/step - loss: 8.5263\n",
            "Epoch 21/25\n",
            "61/61 [==============================] - 0s 4ms/step - loss: 8.5196\n",
            "Epoch 22/25\n",
            "61/61 [==============================] - 0s 4ms/step - loss: 8.5237\n",
            "Epoch 23/25\n",
            "61/61 [==============================] - 0s 4ms/step - loss: 8.5874\n",
            "Epoch 24/25\n",
            "61/61 [==============================] - 0s 5ms/step - loss: 8.5281\n",
            "Epoch 25/25\n",
            "61/61 [==============================] - 0s 5ms/step - loss: 8.5376\n"
          ],
          "name": "stdout"
        },
        {
          "output_type": "execute_result",
          "data": {
            "text/plain": [
              "<tensorflow.python.keras.callbacks.History at 0x7fee080783c8>"
            ]
          },
          "metadata": {
            "tags": []
          },
          "execution_count": 32
        }
      ]
    },
    {
      "cell_type": "code",
      "metadata": {
        "id": "F6vKLI_cu83y",
        "colab_type": "code",
        "colab": {}
      },
      "source": [
        "prediction = model.predict(test_generator)"
      ],
      "execution_count": null,
      "outputs": []
    },
    {
      "cell_type": "code",
      "metadata": {
        "id": "aZdw-enAfUvj",
        "colab_type": "code",
        "colab": {
          "base_uri": "https://localhost:8080/",
          "height": 265
        },
        "outputId": "4d0f2d46-86e6-48e6-86d8-3275a16586dd"
      },
      "source": [
        "plt.plot(prediction)\n",
        "plt.show()"
      ],
      "execution_count": null,
      "outputs": [
        {
          "output_type": "display_data",
          "data": {
            "image/png": "[encoded data removed]",
            "text/plain": [
              "<Figure size 432x288 with 1 Axes>"
            ]
          },
          "metadata": {
            "tags": [],
            "needs_background": "light"
          }
        }
      ]
    },
    {
      "cell_type": "code",
      "metadata": {
        "id": "37kMg5MSfWzN",
        "colab_type": "code",
        "colab": {
          "base_uri": "https://localhost:8080/",
          "height": 187
        },
        "outputId": "b3051ab9-c1b6-4664-a59e-90653521451e"
      },
      "source": [
        "df.info()"
      ],
      "execution_count": null,
      "outputs": [
        {
          "output_type": "stream",
          "text": [
            "<class 'pandas.core.frame.DataFrame'>\n",
            "RangeIndex: 2530 entries, 0 to 2529\n",
            "Data columns (total 3 columns):\n",
            " #   Column  Non-Null Count  Dtype\n",
            "---  ------  --------------  -----\n",
            " 0   Period  2530 non-null   int64\n",
            " 1   Price   2530 non-null   int64\n",
            " 2   Num     2530 non-null   int64\n",
            "dtypes: int64(3)\n",
            "memory usage: 59.4 KB\n"
          ],
          "name": "stdout"
        }
      ]
    },
    {
      "cell_type": "code",
      "metadata": {
        "id": "mz6dwXa3i-fB",
        "colab_type": "code",
        "colab": {
          "base_uri": "https://localhost:8080/",
          "height": 471
        },
        "outputId": "bb8509ca-4e48-4acb-8d84-4bf1d5aca5b7"
      },
      "source": [
        "data = df['Num'].values\n",
        "plt.plot(data[:50])\n",
        "plt.show()"
      ],
      "execution_count": 66,
      "outputs": [
        {
          "output_type": "display_data",
          "data": {
            "image/png": "[encoded data removed]",
            "text/plain": [
              "<Figure size 1440x720 with 1 Axes>"
            ]
          },
          "metadata": {
            "tags": [],
            "needs_background": "light"
          }
        }
      ]
    },
    {
      "cell_type": "code",
      "metadata": {
        "id": "ImNGMO0Ej8Sc",
        "colab_type": "code",
        "colab": {}
      },
      "source": [
        "data = data[::-1]\n",
        "data = np.reshape(data,(data.shape[0],1))\n",
        "scaler = MinMaxScaler(feature_range=(0, 1))\n",
        "dataset = scaler.fit_transform(data)"
      ],
      "execution_count": 67,
      "outputs": []
    },
    {
      "cell_type": "code",
      "metadata": {
        "id": "kawlWTG3Nhzf",
        "colab_type": "code",
        "colab": {}
      },
      "source": [
        "data = np.reshape(data,(data.shape[0],1))"
      ],
      "execution_count": 68,
      "outputs": []
    },
    {
      "cell_type": "code",
      "metadata": {
        "id": "6z7-QhdA5LeW",
        "colab_type": "code",
        "colab": {
          "base_uri": "https://localhost:8080/",
          "height": 34
        },
        "outputId": "fa2d7b25-d2bb-474e-b320-a5318e739966"
      },
      "source": [
        "dataset = data/10\n",
        "np.unique(dataset)"
      ],
      "execution_count": 69,
      "outputs": [
        {
          "output_type": "execute_result",
          "data": {
            "text/plain": [
              "array([0. , 0.1, 0.2, 0.3, 0.4, 0.5, 0.6, 0.7, 0.8, 0.9])"
            ]
          },
          "metadata": {
            "tags": []
          },
          "execution_count": 69
        }
      ]
    },
    {
      "cell_type": "code",
      "metadata": {
        "id": "FPsjdltkkqZL",
        "colab_type": "code",
        "colab": {
          "base_uri": "https://localhost:8080/",
          "height": 34
        },
        "outputId": "a1859087-80b2-4bbd-befb-d52d6b3a0a05"
      },
      "source": [
        "split = int(0.85*len(dataset))\n",
        "train = dataset[:split,:]\n",
        "test = dataset[split:,:]\n",
        "print(len(train),len(test))"
      ],
      "execution_count": 70,
      "outputs": [
        {
          "output_type": "stream",
          "text": [
            "4326 764\n"
          ],
          "name": "stdout"
        }
      ]
    },
    {
      "cell_type": "code",
      "metadata": {
        "id": "boJHJkEglkGO",
        "colab_type": "code",
        "colab": {}
      },
      "source": [
        "def create_lookBack(data,look_back = 3):\n",
        "  val_x = []\n",
        "  val_y = []\n",
        "  for i in range(len(data)-look_back-1):\n",
        "    val_x.append(data[i:(i+look_back),0])\n",
        "    val_y.append(data[i+look_back,0])\n",
        "  return np.array(val_x),np.array(val_y)  "
      ],
      "execution_count": 71,
      "outputs": []
    },
    {
      "cell_type": "code",
      "metadata": {
        "id": "ThusIFfBjrv8",
        "colab_type": "code",
        "colab": {
          "base_uri": "https://localhost:8080/",
          "height": 34
        },
        "outputId": "9a471868-ecc8-4eeb-d022-89f9b636422e"
      },
      "source": [
        "np.random.seed(7)\n",
        "data = df['Num'].values\n",
        "data = data.astype(\"float32\")\n",
        "data = data.reshape((-1,1))\n",
        "data = data[::-1]\n",
        "dataset = data/10\n",
        "np.unique(dataset)\n",
        "split = int(0.85*len(dataset))\n",
        "train = dataset[:split,:]\n",
        "test = dataset[split:,:]\n",
        "print(len(train),len(test))"
      ],
      "execution_count": 150,
      "outputs": [
        {
          "output_type": "stream",
          "text": [
            "4326 764\n"
          ],
          "name": "stdout"
        }
      ]
    },
    {
      "cell_type": "code",
      "metadata": {
        "id": "KTXGHJ39nWT2",
        "colab_type": "code",
        "colab": {}
      },
      "source": [
        "look_back = 10\n",
        "train_x,train_y = create_lookBack(train,look_back)\n",
        "test_x,test_y = create_lookBack(test,look_back)"
      ],
      "execution_count": 151,
      "outputs": []
    },
    {
      "cell_type": "code",
      "metadata": {
        "id": "l8lxGAy3rGUU",
        "colab_type": "code",
        "colab": {}
      },
      "source": [
        "train_x = np.reshape(train_x, (train_x.shape[0], 1, train_x.shape[1]))\n",
        "test_x = np.reshape(test_x, (test_x.shape[0], 1, test_x.shape[1]))"
      ],
      "execution_count": 152,
      "outputs": []
    },
    {
      "cell_type": "code",
      "metadata": {
        "id": "E21GmkS4nd81",
        "colab_type": "code",
        "colab": {}
      },
      "source": [
        "reg = L1L2(l1=0.01, l2=0.01)\n",
        "model = Sequential()\n",
        "model.add(LSTM(200, input_shape=(1, look_back),return_sequences = True,bias_regularizer=reg,activation=\"relu\"))\n",
        "model.add(Dropout(0.4))\n",
        "model.add(LSTM(200,return_sequences = True,bias_regularizer=reg,activation=\"relu\"))\n",
        "model.add(Dropout(0.4))\n",
        "model.add(LSTM(100,return_sequences = False,bias_regularizer=reg,activation=\"relu\"))\n",
        "model.add(Dropout(0.2))\n",
        "\n",
        "\n",
        "model.add(Dense(1))\n",
        "model.compile(loss='mean_squared_error', optimizer='adam')"
      ],
      "execution_count": 153,
      "outputs": []
    },
    {
      "cell_type": "code",
      "metadata": {
        "id": "OyRWqkSUrYaI",
        "colab_type": "code",
        "colab": {
          "base_uri": "https://localhost:8080/",
          "height": 248
        },
        "outputId": "678d3233-f7cc-4e04-e1c7-e36ca3c30594"
      },
      "source": [
        "model = Sequential()\n",
        "model.add(LSTM(200,input_shape = (1, look_back), return_sequences = True,activation=\"relu\"))\n",
        "model.add(Dropout(0.4))\n",
        "model.add(LSTM(100,return_sequences = True,activation=\"relu\"))\n",
        "model.add(Dropout(0.35))\n",
        "model.add(LSTM(100,return_sequences = False,activation=\"relu\"))\n",
        "model.add(Dropout(0.2))\n",
        "model.add(Dense(1))\n",
        "model.compile(loss=\"mean_squared_error\", optimizer=\"adam\")"
      ],
      "execution_count": 139,
      "outputs": [
        {
          "output_type": "error",
          "ename": "NameError",
          "evalue": "ignored",
          "traceback": [
            "\u001b[0;31m---------------------------------------------------------------------------\u001b[0m",
            "\u001b[0;31mNameError\u001b[0m                                 Traceback (most recent call last)",
            "\u001b[0;32m<ipython-input-139-ac1560652d87>\u001b[0m in \u001b[0;36m<module>\u001b[0;34m()\u001b[0m\n\u001b[0;32m----> 1\u001b[0;31m \u001b[0mreg\u001b[0m \u001b[0;34m=\u001b[0m \u001b[0mL1L2\u001b[0m\u001b[0;34m(\u001b[0m\u001b[0ml1\u001b[0m\u001b[0;34m=\u001b[0m\u001b[0;36m0.01\u001b[0m\u001b[0;34m,\u001b[0m \u001b[0ml2\u001b[0m\u001b[0;34m=\u001b[0m\u001b[0;36m0.01\u001b[0m\u001b[0;34m)\u001b[0m\u001b[0;34m\u001b[0m\u001b[0;34m\u001b[0m\u001b[0m\n\u001b[0m\u001b[1;32m      2\u001b[0m \u001b[0mmodel\u001b[0m \u001b[0;34m=\u001b[0m \u001b[0mSequential\u001b[0m\u001b[0;34m(\u001b[0m\u001b[0;34m)\u001b[0m\u001b[0;34m\u001b[0m\u001b[0;34m\u001b[0m\u001b[0m\n\u001b[1;32m      3\u001b[0m \u001b[0mmodel\u001b[0m\u001b[0;34m.\u001b[0m\u001b[0madd\u001b[0m\u001b[0;34m(\u001b[0m\u001b[0mLSTM\u001b[0m\u001b[0;34m(\u001b[0m\u001b[0;36m200\u001b[0m\u001b[0;34m,\u001b[0m\u001b[0minput_shape\u001b[0m \u001b[0;34m=\u001b[0m \u001b[0;34m(\u001b[0m\u001b[0;36m1\u001b[0m\u001b[0;34m,\u001b[0m \u001b[0mlook_back\u001b[0m\u001b[0;34m)\u001b[0m\u001b[0;34m,\u001b[0m \u001b[0mreturn_sequences\u001b[0m \u001b[0;34m=\u001b[0m \u001b[0;32mTrue\u001b[0m\u001b[0;34m,\u001b[0m\u001b[0mbias_regularizer\u001b[0m\u001b[0;34m=\u001b[0m\u001b[0mreg\u001b[0m\u001b[0;34m,\u001b[0m\u001b[0mactivation\u001b[0m\u001b[0;34m=\u001b[0m\u001b[0;34m\"relu\"\u001b[0m\u001b[0;34m)\u001b[0m\u001b[0;34m)\u001b[0m\u001b[0;34m\u001b[0m\u001b[0;34m\u001b[0m\u001b[0m\n\u001b[1;32m      4\u001b[0m \u001b[0mmodel\u001b[0m\u001b[0;34m.\u001b[0m\u001b[0madd\u001b[0m\u001b[0;34m(\u001b[0m\u001b[0mDropout\u001b[0m\u001b[0;34m(\u001b[0m\u001b[0;36m0.4\u001b[0m\u001b[0;34m)\u001b[0m\u001b[0;34m)\u001b[0m\u001b[0;34m\u001b[0m\u001b[0;34m\u001b[0m\u001b[0m\n\u001b[1;32m      5\u001b[0m \u001b[0mmodel\u001b[0m\u001b[0;34m.\u001b[0m\u001b[0madd\u001b[0m\u001b[0;34m(\u001b[0m\u001b[0mLSTM\u001b[0m\u001b[0;34m(\u001b[0m\u001b[0;36m100\u001b[0m\u001b[0;34m,\u001b[0m\u001b[0mreturn_sequences\u001b[0m \u001b[0;34m=\u001b[0m \u001b[0;32mTrue\u001b[0m\u001b[0;34m,\u001b[0m\u001b[0mbias_regularizer\u001b[0m\u001b[0;34m=\u001b[0m\u001b[0mreg\u001b[0m\u001b[0;34m,\u001b[0m\u001b[0mactivation\u001b[0m\u001b[0;34m=\u001b[0m\u001b[0;34m\"relu\"\u001b[0m\u001b[0;34m)\u001b[0m\u001b[0;34m)\u001b[0m\u001b[0;34m\u001b[0m\u001b[0;34m\u001b[0m\u001b[0m\n",
            "\u001b[0;31mNameError\u001b[0m: name 'L1L2' is not defined"
          ]
        }
      ]
    },
    {
      "cell_type": "code",
      "metadata": {
        "id": "JYhzP_vknkGN",
        "colab_type": "code",
        "colab": {
          "base_uri": "https://localhost:8080/",
          "height": 1000
        },
        "outputId": "0b5b30ab-743b-4026-c4ab-ec3c4fd15c11"
      },
      "source": [
        "model.fit(train_x,train_y,epochs = 450,verbose=2,batch_size=1024, shuffle=False)"
      ],
      "execution_count": 154,
      "outputs": [
        {
          "output_type": "stream",
          "text": [
            "Epoch 1/450\n",
            "5/5 - 0s - loss: 10.2593\n",
            "Epoch 2/450\n",
            "5/5 - 0s - loss: 10.1684\n",
            "Epoch 3/450\n",
            "5/5 - 0s - loss: 10.0679\n",
            "Epoch 4/450\n",
            "5/5 - 0s - loss: 9.9517\n",
            "Epoch 5/450\n",
            "5/5 - 0s - loss: 9.8195\n",
            "Epoch 6/450\n",
            "5/5 - 0s - loss: 9.7168\n",
            "Epoch 7/450\n",
            "5/5 - 0s - loss: 9.6507\n",
            "Epoch 8/450\n",
            "5/5 - 0s - loss: 9.5653\n",
            "Epoch 9/450\n",
            "5/5 - 0s - loss: 9.4951\n",
            "Epoch 10/450\n",
            "5/5 - 0s - loss: 9.4184\n",
            "Epoch 11/450\n",
            "5/5 - 0s - loss: 9.3443\n",
            "Epoch 12/450\n",
            "5/5 - 0s - loss: 9.2740\n",
            "Epoch 13/450\n",
            "5/5 - 0s - loss: 9.1999\n",
            "Epoch 14/450\n",
            "5/5 - 0s - loss: 9.1293\n",
            "Epoch 15/450\n",
            "5/5 - 0s - loss: 9.0570\n",
            "Epoch 16/450\n",
            "5/5 - 0s - loss: 8.9867\n",
            "Epoch 17/450\n",
            "5/5 - 0s - loss: 8.9149\n",
            "Epoch 18/450\n",
            "5/5 - 0s - loss: 8.8453\n",
            "Epoch 19/450\n",
            "5/5 - 0s - loss: 8.7752\n",
            "Epoch 20/450\n",
            "5/5 - 0s - loss: 8.7068\n",
            "Epoch 21/450\n",
            "5/5 - 0s - loss: 8.6371\n",
            "Epoch 22/450\n",
            "5/5 - 0s - loss: 8.5696\n",
            "Epoch 23/450\n",
            "5/5 - 0s - loss: 8.5004\n",
            "Epoch 24/450\n",
            "5/5 - 0s - loss: 8.4335\n",
            "Epoch 25/450\n",
            "5/5 - 0s - loss: 8.3664\n",
            "Epoch 26/450\n",
            "5/5 - 0s - loss: 8.2998\n",
            "Epoch 27/450\n",
            "5/5 - 0s - loss: 8.2335\n",
            "Epoch 28/450\n",
            "5/5 - 0s - loss: 8.1675\n",
            "Epoch 29/450\n",
            "5/5 - 0s - loss: 8.1011\n",
            "Epoch 30/450\n",
            "5/5 - 0s - loss: 8.0368\n",
            "Epoch 31/450\n",
            "5/5 - 0s - loss: 7.9715\n",
            "Epoch 32/450\n",
            "5/5 - 0s - loss: 7.9069\n",
            "Epoch 33/450\n",
            "5/5 - 0s - loss: 7.8429\n",
            "Epoch 34/450\n",
            "5/5 - 0s - loss: 7.7776\n",
            "Epoch 35/450\n",
            "5/5 - 0s - loss: 7.7157\n",
            "Epoch 36/450\n",
            "5/5 - 0s - loss: 7.6520\n",
            "Epoch 37/450\n",
            "5/5 - 0s - loss: 7.5891\n",
            "Epoch 38/450\n",
            "5/5 - 0s - loss: 7.5263\n",
            "Epoch 39/450\n",
            "5/5 - 0s - loss: 7.4648\n",
            "Epoch 40/450\n",
            "5/5 - 0s - loss: 7.4023\n",
            "Epoch 41/450\n",
            "5/5 - 0s - loss: 7.3400\n",
            "Epoch 42/450\n",
            "5/5 - 0s - loss: 7.2792\n",
            "Epoch 43/450\n",
            "5/5 - 0s - loss: 7.2191\n",
            "Epoch 44/450\n",
            "5/5 - 0s - loss: 7.1588\n",
            "Epoch 45/450\n",
            "5/5 - 0s - loss: 7.0976\n",
            "Epoch 46/450\n",
            "5/5 - 0s - loss: 7.0377\n",
            "Epoch 47/450\n",
            "5/5 - 0s - loss: 6.9779\n",
            "Epoch 48/450\n",
            "5/5 - 0s - loss: 6.9193\n",
            "Epoch 49/450\n",
            "5/5 - 0s - loss: 6.8601\n",
            "Epoch 50/450\n",
            "5/5 - 0s - loss: 6.8025\n",
            "Epoch 51/450\n",
            "5/5 - 0s - loss: 6.7443\n",
            "Epoch 52/450\n",
            "5/5 - 0s - loss: 6.6856\n",
            "Epoch 53/450\n",
            "5/5 - 0s - loss: 6.6286\n",
            "Epoch 54/450\n",
            "5/5 - 0s - loss: 6.5709\n",
            "Epoch 55/450\n",
            "5/5 - 0s - loss: 6.5140\n",
            "Epoch 56/450\n",
            "5/5 - 0s - loss: 6.4569\n",
            "Epoch 57/450\n",
            "5/5 - 0s - loss: 6.4014\n",
            "Epoch 58/450\n",
            "5/5 - 0s - loss: 6.3453\n",
            "Epoch 59/450\n",
            "5/5 - 0s - loss: 6.2892\n",
            "Epoch 60/450\n",
            "5/5 - 0s - loss: 6.2345\n",
            "Epoch 61/450\n",
            "5/5 - 0s - loss: 6.1790\n",
            "Epoch 62/450\n",
            "5/5 - 0s - loss: 6.1245\n",
            "Epoch 63/450\n",
            "5/5 - 0s - loss: 6.0703\n",
            "Epoch 64/450\n",
            "5/5 - 0s - loss: 6.0161\n",
            "Epoch 65/450\n",
            "5/5 - 0s - loss: 5.9621\n",
            "Epoch 66/450\n",
            "5/5 - 0s - loss: 5.9086\n",
            "Epoch 67/450\n",
            "5/5 - 0s - loss: 5.8554\n",
            "Epoch 68/450\n",
            "5/5 - 0s - loss: 5.8026\n",
            "Epoch 69/450\n",
            "5/5 - 0s - loss: 5.7506\n",
            "Epoch 70/450\n",
            "5/5 - 0s - loss: 5.6973\n",
            "Epoch 71/450\n",
            "5/5 - 0s - loss: 5.6458\n",
            "Epoch 72/450\n",
            "5/5 - 0s - loss: 5.5943\n",
            "Epoch 73/450\n",
            "5/5 - 0s - loss: 5.5427\n",
            "Epoch 74/450\n",
            "5/5 - 0s - loss: 5.4915\n",
            "Epoch 75/450\n",
            "5/5 - 0s - loss: 5.4406\n",
            "Epoch 76/450\n",
            "5/5 - 0s - loss: 5.3899\n",
            "Epoch 77/450\n",
            "5/5 - 0s - loss: 5.3400\n",
            "Epoch 78/450\n",
            "5/5 - 0s - loss: 5.2902\n",
            "Epoch 79/450\n",
            "5/5 - 0s - loss: 5.2404\n",
            "Epoch 80/450\n",
            "5/5 - 0s - loss: 5.1915\n",
            "Epoch 81/450\n",
            "5/5 - 0s - loss: 5.1422\n",
            "Epoch 82/450\n",
            "5/5 - 0s - loss: 5.0928\n",
            "Epoch 83/450\n",
            "5/5 - 0s - loss: 5.0446\n",
            "Epoch 84/450\n",
            "5/5 - 0s - loss: 4.9965\n",
            "Epoch 85/450\n",
            "5/5 - 0s - loss: 4.9485\n",
            "Epoch 86/450\n",
            "5/5 - 0s - loss: 4.9011\n",
            "Epoch 87/450\n",
            "5/5 - 0s - loss: 4.8538\n",
            "Epoch 88/450\n",
            "5/5 - 0s - loss: 4.8066\n",
            "Epoch 89/450\n",
            "5/5 - 0s - loss: 4.7599\n",
            "Epoch 90/450\n",
            "5/5 - 0s - loss: 4.7133\n",
            "Epoch 91/450\n",
            "5/5 - 0s - loss: 4.6671\n",
            "Epoch 92/450\n",
            "5/5 - 0s - loss: 4.6209\n",
            "Epoch 93/450\n",
            "5/5 - 0s - loss: 4.5751\n",
            "Epoch 94/450\n",
            "5/5 - 0s - loss: 4.5302\n",
            "Epoch 95/450\n",
            "5/5 - 0s - loss: 4.4845\n",
            "Epoch 96/450\n",
            "5/5 - 0s - loss: 4.4401\n",
            "Epoch 97/450\n",
            "5/5 - 0s - loss: 4.3956\n",
            "Epoch 98/450\n",
            "5/5 - 0s - loss: 4.3508\n",
            "Epoch 99/450\n",
            "5/5 - 0s - loss: 4.3071\n",
            "Epoch 100/450\n",
            "5/5 - 0s - loss: 4.2632\n",
            "Epoch 101/450\n",
            "5/5 - 0s - loss: 4.2198\n",
            "Epoch 102/450\n",
            "5/5 - 0s - loss: 4.1764\n",
            "Epoch 103/450\n",
            "5/5 - 0s - loss: 4.1332\n",
            "Epoch 104/450\n",
            "5/5 - 0s - loss: 4.0909\n",
            "Epoch 105/450\n",
            "5/5 - 0s - loss: 4.0477\n",
            "Epoch 106/450\n",
            "5/5 - 0s - loss: 4.0054\n",
            "Epoch 107/450\n",
            "5/5 - 0s - loss: 3.9640\n",
            "Epoch 108/450\n",
            "5/5 - 0s - loss: 3.9221\n",
            "Epoch 109/450\n",
            "5/5 - 0s - loss: 3.8808\n",
            "Epoch 110/450\n",
            "5/5 - 0s - loss: 3.8397\n",
            "Epoch 111/450\n",
            "5/5 - 0s - loss: 3.7980\n",
            "Epoch 112/450\n",
            "5/5 - 0s - loss: 3.7577\n",
            "Epoch 113/450\n",
            "5/5 - 0s - loss: 3.7174\n",
            "Epoch 114/450\n",
            "5/5 - 0s - loss: 3.6771\n",
            "Epoch 115/450\n",
            "5/5 - 0s - loss: 3.6371\n",
            "Epoch 116/450\n",
            "5/5 - 0s - loss: 3.5974\n",
            "Epoch 117/450\n",
            "5/5 - 0s - loss: 3.5581\n",
            "Epoch 118/450\n",
            "5/5 - 0s - loss: 3.5189\n",
            "Epoch 119/450\n",
            "5/5 - 0s - loss: 3.4793\n",
            "Epoch 120/450\n",
            "5/5 - 0s - loss: 3.4412\n",
            "Epoch 121/450\n",
            "5/5 - 0s - loss: 3.4025\n",
            "Epoch 122/450\n",
            "5/5 - 0s - loss: 3.3645\n",
            "Epoch 123/450\n",
            "5/5 - 0s - loss: 3.3263\n",
            "Epoch 124/450\n",
            "5/5 - 0s - loss: 3.2890\n",
            "Epoch 125/450\n",
            "5/5 - 0s - loss: 3.2513\n",
            "Epoch 126/450\n",
            "5/5 - 0s - loss: 3.2139\n",
            "Epoch 127/450\n",
            "5/5 - 0s - loss: 3.1763\n",
            "Epoch 128/450\n",
            "5/5 - 0s - loss: 3.1396\n",
            "Epoch 129/450\n",
            "5/5 - 0s - loss: 3.1036\n",
            "Epoch 130/450\n",
            "5/5 - 0s - loss: 3.0666\n",
            "Epoch 131/450\n",
            "5/5 - 0s - loss: 3.0313\n",
            "Epoch 132/450\n",
            "5/5 - 0s - loss: 2.9952\n",
            "Epoch 133/450\n",
            "5/5 - 0s - loss: 2.9595\n",
            "Epoch 134/450\n",
            "5/5 - 0s - loss: 2.9246\n",
            "Epoch 135/450\n",
            "5/5 - 0s - loss: 2.8890\n",
            "Epoch 136/450\n",
            "5/5 - 0s - loss: 2.8543\n",
            "Epoch 137/450\n",
            "5/5 - 0s - loss: 2.8191\n",
            "Epoch 138/450\n",
            "5/5 - 0s - loss: 2.7846\n",
            "Epoch 139/450\n",
            "5/5 - 0s - loss: 2.7514\n",
            "Epoch 140/450\n",
            "5/5 - 0s - loss: 2.7171\n",
            "Epoch 141/450\n",
            "5/5 - 0s - loss: 2.6832\n",
            "Epoch 142/450\n",
            "5/5 - 0s - loss: 2.6492\n",
            "Epoch 143/450\n",
            "5/5 - 0s - loss: 2.6160\n",
            "Epoch 144/450\n",
            "5/5 - 0s - loss: 2.5832\n",
            "Epoch 145/450\n",
            "5/5 - 0s - loss: 2.5501\n",
            "Epoch 146/450\n",
            "5/5 - 0s - loss: 2.5177\n",
            "Epoch 147/450\n",
            "5/5 - 0s - loss: 2.4850\n",
            "Epoch 148/450\n",
            "5/5 - 0s - loss: 2.4526\n",
            "Epoch 149/450\n",
            "5/5 - 0s - loss: 2.4206\n",
            "Epoch 150/450\n",
            "5/5 - 0s - loss: 2.3885\n",
            "Epoch 151/450\n",
            "5/5 - 0s - loss: 2.3571\n",
            "Epoch 152/450\n",
            "5/5 - 0s - loss: 2.3260\n",
            "Epoch 153/450\n",
            "5/5 - 0s - loss: 2.2947\n",
            "Epoch 154/450\n",
            "5/5 - 0s - loss: 2.2632\n",
            "Epoch 155/450\n",
            "5/5 - 0s - loss: 2.2331\n",
            "Epoch 156/450\n",
            "5/5 - 0s - loss: 2.2024\n",
            "Epoch 157/450\n",
            "5/5 - 0s - loss: 2.1723\n",
            "Epoch 158/450\n",
            "5/5 - 0s - loss: 2.1417\n",
            "Epoch 159/450\n",
            "5/5 - 0s - loss: 2.1128\n",
            "Epoch 160/450\n",
            "5/5 - 0s - loss: 2.0826\n",
            "Epoch 161/450\n",
            "5/5 - 0s - loss: 2.0535\n",
            "Epoch 162/450\n",
            "5/5 - 0s - loss: 2.0240\n",
            "Epoch 163/450\n",
            "5/5 - 0s - loss: 1.9948\n",
            "Epoch 164/450\n",
            "5/5 - 0s - loss: 1.9653\n",
            "Epoch 165/450\n",
            "5/5 - 0s - loss: 1.9375\n",
            "Epoch 166/450\n",
            "5/5 - 0s - loss: 1.9083\n",
            "Epoch 167/450\n",
            "5/5 - 0s - loss: 1.8809\n",
            "Epoch 168/450\n",
            "5/5 - 0s - loss: 1.8524\n",
            "Epoch 169/450\n",
            "5/5 - 0s - loss: 1.8240\n",
            "Epoch 170/450\n",
            "5/5 - 0s - loss: 1.7971\n",
            "Epoch 171/450\n",
            "5/5 - 0s - loss: 1.7686\n",
            "Epoch 172/450\n",
            "5/5 - 0s - loss: 1.7413\n",
            "Epoch 173/450\n",
            "5/5 - 0s - loss: 1.7140\n",
            "Epoch 174/450\n",
            "5/5 - 0s - loss: 1.6882\n",
            "Epoch 175/450\n",
            "5/5 - 0s - loss: 1.6617\n",
            "Epoch 176/450\n",
            "5/5 - 0s - loss: 1.6345\n",
            "Epoch 177/450\n",
            "5/5 - 0s - loss: 1.6082\n",
            "Epoch 178/450\n",
            "5/5 - 0s - loss: 1.5821\n",
            "Epoch 179/450\n",
            "5/5 - 0s - loss: 1.5561\n",
            "Epoch 180/450\n",
            "5/5 - 0s - loss: 1.5306\n",
            "Epoch 181/450\n",
            "5/5 - 0s - loss: 1.5052\n",
            "Epoch 182/450\n",
            "5/5 - 0s - loss: 1.4795\n",
            "Epoch 183/450\n",
            "5/5 - 0s - loss: 1.4541\n",
            "Epoch 184/450\n",
            "5/5 - 0s - loss: 1.4294\n",
            "Epoch 185/450\n",
            "5/5 - 0s - loss: 1.4043\n",
            "Epoch 186/450\n",
            "5/5 - 0s - loss: 1.3797\n",
            "Epoch 187/450\n",
            "5/5 - 0s - loss: 1.3549\n",
            "Epoch 188/450\n",
            "5/5 - 0s - loss: 1.3311\n",
            "Epoch 189/450\n",
            "5/5 - 0s - loss: 1.3069\n",
            "Epoch 190/450\n",
            "5/5 - 0s - loss: 1.2829\n",
            "Epoch 191/450\n",
            "5/5 - 0s - loss: 1.2593\n",
            "Epoch 192/450\n",
            "5/5 - 0s - loss: 1.2357\n",
            "Epoch 193/450\n",
            "5/5 - 0s - loss: 1.2124\n",
            "Epoch 194/450\n",
            "5/5 - 0s - loss: 1.1893\n",
            "Epoch 195/450\n",
            "5/5 - 0s - loss: 1.1663\n",
            "Epoch 196/450\n",
            "5/5 - 0s - loss: 1.1434\n",
            "Epoch 197/450\n",
            "5/5 - 0s - loss: 1.1205\n",
            "Epoch 198/450\n",
            "5/5 - 0s - loss: 1.0978\n",
            "Epoch 199/450\n",
            "5/5 - 0s - loss: 1.0761\n",
            "Epoch 200/450\n",
            "5/5 - 0s - loss: 1.0533\n",
            "Epoch 201/450\n",
            "5/5 - 0s - loss: 1.0313\n",
            "Epoch 202/450\n",
            "5/5 - 0s - loss: 1.0097\n",
            "Epoch 203/450\n",
            "5/5 - 0s - loss: 0.9885\n",
            "Epoch 204/450\n",
            "5/5 - 0s - loss: 0.9663\n",
            "Epoch 205/450\n",
            "5/5 - 0s - loss: 0.9449\n",
            "Epoch 206/450\n",
            "5/5 - 0s - loss: 0.9243\n",
            "Epoch 207/450\n",
            "5/5 - 0s - loss: 0.9031\n",
            "Epoch 208/450\n",
            "5/5 - 0s - loss: 0.8818\n",
            "Epoch 209/450\n",
            "5/5 - 0s - loss: 0.8612\n",
            "Epoch 210/450\n",
            "5/5 - 0s - loss: 0.8403\n",
            "Epoch 211/450\n",
            "5/5 - 0s - loss: 0.8211\n",
            "Epoch 212/450\n",
            "5/5 - 0s - loss: 0.8005\n",
            "Epoch 213/450\n",
            "5/5 - 0s - loss: 0.7801\n",
            "Epoch 214/450\n",
            "5/5 - 0s - loss: 0.7608\n",
            "Epoch 215/450\n",
            "5/5 - 0s - loss: 0.7408\n",
            "Epoch 216/450\n",
            "5/5 - 0s - loss: 0.7208\n",
            "Epoch 217/450\n",
            "5/5 - 0s - loss: 0.7011\n",
            "Epoch 218/450\n",
            "5/5 - 0s - loss: 0.6824\n",
            "Epoch 219/450\n",
            "5/5 - 0s - loss: 0.6629\n",
            "Epoch 220/450\n",
            "5/5 - 0s - loss: 0.6442\n",
            "Epoch 221/450\n",
            "5/5 - 0s - loss: 0.6256\n",
            "Epoch 222/450\n",
            "5/5 - 0s - loss: 0.6065\n",
            "Epoch 223/450\n",
            "5/5 - 0s - loss: 0.5887\n",
            "Epoch 224/450\n",
            "5/5 - 0s - loss: 0.5699\n",
            "Epoch 225/450\n",
            "5/5 - 0s - loss: 0.5513\n",
            "Epoch 226/450\n",
            "5/5 - 0s - loss: 0.5339\n",
            "Epoch 227/450\n",
            "5/5 - 0s - loss: 0.5158\n",
            "Epoch 228/450\n",
            "5/5 - 0s - loss: 0.4981\n",
            "Epoch 229/450\n",
            "5/5 - 0s - loss: 0.4806\n",
            "Epoch 230/450\n",
            "5/5 - 0s - loss: 0.4627\n",
            "Epoch 231/450\n",
            "5/5 - 0s - loss: 0.4458\n",
            "Epoch 232/450\n",
            "5/5 - 0s - loss: 0.4284\n",
            "Epoch 233/450\n",
            "5/5 - 0s - loss: 0.4118\n",
            "Epoch 234/450\n",
            "5/5 - 0s - loss: 0.3948\n",
            "Epoch 235/450\n",
            "5/5 - 0s - loss: 0.3778\n",
            "Epoch 236/450\n",
            "5/5 - 0s - loss: 0.3620\n",
            "Epoch 237/450\n",
            "5/5 - 0s - loss: 0.3455\n",
            "Epoch 238/450\n",
            "5/5 - 0s - loss: 0.3286\n",
            "Epoch 239/450\n",
            "5/5 - 0s - loss: 0.3118\n",
            "Epoch 240/450\n",
            "5/5 - 0s - loss: 0.2959\n",
            "Epoch 241/450\n",
            "5/5 - 0s - loss: 0.2803\n",
            "Epoch 242/450\n",
            "5/5 - 0s - loss: 0.2644\n",
            "Epoch 243/450\n",
            "5/5 - 0s - loss: 0.2495\n",
            "Epoch 244/450\n",
            "5/5 - 0s - loss: 0.2331\n",
            "Epoch 245/450\n",
            "5/5 - 0s - loss: 0.2181\n",
            "Epoch 246/450\n",
            "5/5 - 0s - loss: 0.2031\n",
            "Epoch 247/450\n",
            "5/5 - 0s - loss: 0.1872\n",
            "Epoch 248/450\n",
            "5/5 - 0s - loss: 0.1725\n",
            "Epoch 249/450\n",
            "5/5 - 0s - loss: 0.1582\n",
            "Epoch 250/450\n",
            "5/5 - 0s - loss: 0.1435\n",
            "Epoch 251/450\n",
            "5/5 - 0s - loss: 0.1286\n",
            "Epoch 252/450\n",
            "5/5 - 0s - loss: 0.1138\n",
            "Epoch 253/450\n",
            "5/5 - 0s - loss: 0.0999\n",
            "Epoch 254/450\n",
            "5/5 - 0s - loss: 0.0871\n",
            "Epoch 255/450\n",
            "5/5 - 0s - loss: 0.0923\n",
            "Epoch 256/450\n",
            "5/5 - 0s - loss: 0.0928\n",
            "Epoch 257/450\n",
            "5/5 - 0s - loss: 0.0866\n",
            "Epoch 258/450\n",
            "5/5 - 0s - loss: 0.0875\n",
            "Epoch 259/450\n",
            "5/5 - 0s - loss: 0.0863\n",
            "Epoch 260/450\n",
            "5/5 - 0s - loss: 0.0852\n",
            "Epoch 261/450\n",
            "5/5 - 0s - loss: 0.0849\n",
            "Epoch 262/450\n",
            "5/5 - 0s - loss: 0.0844\n",
            "Epoch 263/450\n",
            "5/5 - 0s - loss: 0.0846\n",
            "Epoch 264/450\n",
            "5/5 - 0s - loss: 0.0856\n",
            "Epoch 265/450\n",
            "5/5 - 0s - loss: 0.0849\n",
            "Epoch 266/450\n",
            "5/5 - 0s - loss: 0.0847\n",
            "Epoch 267/450\n",
            "5/5 - 0s - loss: 0.0845\n",
            "Epoch 268/450\n",
            "5/5 - 0s - loss: 0.0851\n",
            "Epoch 269/450\n",
            "5/5 - 0s - loss: 0.0844\n",
            "Epoch 270/450\n",
            "5/5 - 0s - loss: 0.0843\n",
            "Epoch 271/450\n",
            "5/5 - 0s - loss: 0.0842\n",
            "Epoch 272/450\n",
            "5/5 - 0s - loss: 0.0849\n",
            "Epoch 273/450\n",
            "5/5 - 0s - loss: 0.0839\n",
            "Epoch 274/450\n",
            "5/5 - 0s - loss: 0.0840\n",
            "Epoch 275/450\n",
            "5/5 - 0s - loss: 0.0848\n",
            "Epoch 276/450\n",
            "5/5 - 0s - loss: 0.0849\n",
            "Epoch 277/450\n",
            "5/5 - 0s - loss: 0.0842\n",
            "Epoch 278/450\n",
            "5/5 - 0s - loss: 0.0848\n",
            "Epoch 279/450\n",
            "5/5 - 0s - loss: 0.0841\n",
            "Epoch 280/450\n",
            "5/5 - 0s - loss: 0.0844\n",
            "Epoch 281/450\n",
            "5/5 - 0s - loss: 0.0840\n",
            "Epoch 282/450\n",
            "5/5 - 0s - loss: 0.0843\n",
            "Epoch 283/450\n",
            "5/5 - 0s - loss: 0.0842\n",
            "Epoch 284/450\n",
            "5/5 - 0s - loss: 0.0839\n",
            "Epoch 285/450\n",
            "5/5 - 0s - loss: 0.0845\n",
            "Epoch 286/450\n",
            "5/5 - 0s - loss: 0.0843\n",
            "Epoch 287/450\n",
            "5/5 - 0s - loss: 0.0840\n",
            "Epoch 288/450\n",
            "5/5 - 0s - loss: 0.0844\n",
            "Epoch 289/450\n",
            "5/5 - 0s - loss: 0.0849\n",
            "Epoch 290/450\n",
            "5/5 - 0s - loss: 0.0841\n",
            "Epoch 291/450\n",
            "5/5 - 0s - loss: 0.0843\n",
            "Epoch 292/450\n",
            "5/5 - 0s - loss: 0.0840\n",
            "Epoch 293/450\n",
            "5/5 - 0s - loss: 0.0845\n",
            "Epoch 294/450\n",
            "5/5 - 0s - loss: 0.0833\n",
            "Epoch 295/450\n",
            "5/5 - 0s - loss: 0.0843\n",
            "Epoch 296/450\n",
            "5/5 - 0s - loss: 0.0842\n",
            "Epoch 297/450\n",
            "5/5 - 0s - loss: 0.0840\n",
            "Epoch 298/450\n",
            "5/5 - 0s - loss: 0.0847\n",
            "Epoch 299/450\n",
            "5/5 - 0s - loss: 0.0850\n",
            "Epoch 300/450\n",
            "5/5 - 0s - loss: 0.0847\n",
            "Epoch 301/450\n",
            "5/5 - 0s - loss: 0.0840\n",
            "Epoch 302/450\n",
            "5/5 - 0s - loss: 0.0844\n",
            "Epoch 303/450\n",
            "5/5 - 0s - loss: 0.0849\n",
            "Epoch 304/450\n",
            "5/5 - 0s - loss: 0.0842\n",
            "Epoch 305/450\n",
            "5/5 - 0s - loss: 0.0839\n",
            "Epoch 306/450\n",
            "5/5 - 0s - loss: 0.0842\n",
            "Epoch 307/450\n",
            "5/5 - 0s - loss: 0.0846\n",
            "Epoch 308/450\n",
            "5/5 - 0s - loss: 0.0846\n",
            "Epoch 309/450\n",
            "5/5 - 0s - loss: 0.0842\n",
            "Epoch 310/450\n",
            "5/5 - 0s - loss: 0.0839\n",
            "Epoch 311/450\n",
            "5/5 - 0s - loss: 0.0843\n",
            "Epoch 312/450\n",
            "5/5 - 0s - loss: 0.0845\n",
            "Epoch 313/450\n",
            "5/5 - 0s - loss: 0.0841\n",
            "Epoch 314/450\n",
            "5/5 - 0s - loss: 0.0847\n",
            "Epoch 315/450\n",
            "5/5 - 0s - loss: 0.0848\n",
            "Epoch 316/450\n",
            "5/5 - 0s - loss: 0.0838\n",
            "Epoch 317/450\n",
            "5/5 - 0s - loss: 0.0842\n",
            "Epoch 318/450\n",
            "5/5 - 0s - loss: 0.0838\n",
            "Epoch 319/450\n",
            "5/5 - 0s - loss: 0.0838\n",
            "Epoch 320/450\n",
            "5/5 - 0s - loss: 0.0844\n",
            "Epoch 321/450\n",
            "5/5 - 0s - loss: 0.0842\n",
            "Epoch 322/450\n",
            "5/5 - 0s - loss: 0.0838\n",
            "Epoch 323/450\n",
            "5/5 - 0s - loss: 0.0841\n",
            "Epoch 324/450\n",
            "5/5 - 0s - loss: 0.0838\n",
            "Epoch 325/450\n",
            "5/5 - 0s - loss: 0.0848\n",
            "Epoch 326/450\n",
            "5/5 - 0s - loss: 0.0839\n",
            "Epoch 327/450\n",
            "5/5 - 0s - loss: 0.0840\n",
            "Epoch 328/450\n",
            "5/5 - 0s - loss: 0.0843\n",
            "Epoch 329/450\n",
            "5/5 - 0s - loss: 0.0848\n",
            "Epoch 330/450\n",
            "5/5 - 0s - loss: 0.0844\n",
            "Epoch 331/450\n",
            "5/5 - 0s - loss: 0.0842\n",
            "Epoch 332/450\n",
            "5/5 - 0s - loss: 0.0843\n",
            "Epoch 333/450\n",
            "5/5 - 0s - loss: 0.0845\n",
            "Epoch 334/450\n",
            "5/5 - 0s - loss: 0.0844\n",
            "Epoch 335/450\n",
            "5/5 - 0s - loss: 0.0836\n",
            "Epoch 336/450\n",
            "5/5 - 0s - loss: 0.0837\n",
            "Epoch 337/450\n",
            "5/5 - 0s - loss: 0.0831\n",
            "Epoch 338/450\n",
            "5/5 - 0s - loss: 0.0840\n",
            "Epoch 339/450\n",
            "5/5 - 0s - loss: 0.0843\n",
            "Epoch 340/450\n",
            "5/5 - 0s - loss: 0.0840\n",
            "Epoch 341/450\n",
            "5/5 - 0s - loss: 0.0839\n",
            "Epoch 342/450\n",
            "5/5 - 0s - loss: 0.0837\n",
            "Epoch 343/450\n",
            "5/5 - 0s - loss: 0.0846\n",
            "Epoch 344/450\n",
            "5/5 - 0s - loss: 0.0846\n",
            "Epoch 345/450\n",
            "5/5 - 0s - loss: 0.0837\n",
            "Epoch 346/450\n",
            "5/5 - 0s - loss: 0.0842\n",
            "Epoch 347/450\n",
            "5/5 - 0s - loss: 0.0839\n",
            "Epoch 348/450\n",
            "5/5 - 0s - loss: 0.0842\n",
            "Epoch 349/450\n",
            "5/5 - 0s - loss: 0.0843\n",
            "Epoch 350/450\n",
            "5/5 - 0s - loss: 0.0839\n",
            "Epoch 351/450\n",
            "5/5 - 0s - loss: 0.0837\n",
            "Epoch 352/450\n",
            "5/5 - 0s - loss: 0.0841\n",
            "Epoch 353/450\n",
            "5/5 - 0s - loss: 0.0838\n",
            "Epoch 354/450\n",
            "5/5 - 0s - loss: 0.0842\n",
            "Epoch 355/450\n",
            "5/5 - 0s - loss: 0.0842\n",
            "Epoch 356/450\n",
            "5/5 - 0s - loss: 0.0837\n",
            "Epoch 357/450\n",
            "5/5 - 0s - loss: 0.0837\n",
            "Epoch 358/450\n",
            "5/5 - 0s - loss: 0.0840\n",
            "Epoch 359/450\n",
            "5/5 - 0s - loss: 0.0833\n",
            "Epoch 360/450\n",
            "5/5 - 0s - loss: 0.0838\n",
            "Epoch 361/450\n",
            "5/5 - 0s - loss: 0.0844\n",
            "Epoch 362/450\n",
            "5/5 - 0s - loss: 0.0839\n",
            "Epoch 363/450\n",
            "5/5 - 0s - loss: 0.0844\n",
            "Epoch 364/450\n",
            "5/5 - 0s - loss: 0.0836\n",
            "Epoch 365/450\n",
            "5/5 - 0s - loss: 0.0846\n",
            "Epoch 366/450\n",
            "5/5 - 0s - loss: 0.0836\n",
            "Epoch 367/450\n",
            "5/5 - 0s - loss: 0.0839\n",
            "Epoch 368/450\n",
            "5/5 - 0s - loss: 0.0839\n",
            "Epoch 369/450\n",
            "5/5 - 0s - loss: 0.0842\n",
            "Epoch 370/450\n",
            "5/5 - 0s - loss: 0.0838\n",
            "Epoch 371/450\n",
            "5/5 - 0s - loss: 0.0840\n",
            "Epoch 372/450\n",
            "5/5 - 0s - loss: 0.0843\n",
            "Epoch 373/450\n",
            "5/5 - 0s - loss: 0.0832\n",
            "Epoch 374/450\n",
            "5/5 - 0s - loss: 0.0840\n",
            "Epoch 375/450\n",
            "5/5 - 0s - loss: 0.0838\n",
            "Epoch 376/450\n",
            "5/5 - 0s - loss: 0.0835\n",
            "Epoch 377/450\n",
            "5/5 - 0s - loss: 0.0835\n",
            "Epoch 378/450\n",
            "5/5 - 0s - loss: 0.0832\n",
            "Epoch 379/450\n",
            "5/5 - 0s - loss: 0.0839\n",
            "Epoch 380/450\n",
            "5/5 - 0s - loss: 0.0836\n",
            "Epoch 381/450\n",
            "5/5 - 0s - loss: 0.0846\n",
            "Epoch 382/450\n",
            "5/5 - 0s - loss: 0.0839\n",
            "Epoch 383/450\n",
            "5/5 - 0s - loss: 0.0842\n",
            "Epoch 384/450\n",
            "5/5 - 0s - loss: 0.0837\n",
            "Epoch 385/450\n",
            "5/5 - 0s - loss: 0.0832\n",
            "Epoch 386/450\n",
            "5/5 - 0s - loss: 0.0846\n",
            "Epoch 387/450\n",
            "5/5 - 0s - loss: 0.0839\n",
            "Epoch 388/450\n",
            "5/5 - 0s - loss: 0.0832\n",
            "Epoch 389/450\n",
            "5/5 - 0s - loss: 0.0836\n",
            "Epoch 390/450\n",
            "5/5 - 0s - loss: 0.0839\n",
            "Epoch 391/450\n",
            "5/5 - 0s - loss: 0.0828\n",
            "Epoch 392/450\n",
            "5/5 - 0s - loss: 0.0840\n",
            "Epoch 393/450\n",
            "5/5 - 0s - loss: 0.0835\n",
            "Epoch 394/450\n",
            "5/5 - 0s - loss: 0.0844\n",
            "Epoch 395/450\n",
            "5/5 - 0s - loss: 0.0838\n",
            "Epoch 396/450\n",
            "5/5 - 0s - loss: 0.0850\n",
            "Epoch 397/450\n",
            "5/5 - 0s - loss: 0.0837\n",
            "Epoch 398/450\n",
            "5/5 - 0s - loss: 0.0831\n",
            "Epoch 399/450\n",
            "5/5 - 0s - loss: 0.0835\n",
            "Epoch 400/450\n",
            "5/5 - 0s - loss: 0.0835\n",
            "Epoch 401/450\n",
            "5/5 - 0s - loss: 0.0841\n",
            "Epoch 402/450\n",
            "5/5 - 0s - loss: 0.0838\n",
            "Epoch 403/450\n",
            "5/5 - 0s - loss: 0.0837\n",
            "Epoch 404/450\n",
            "5/5 - 0s - loss: 0.0834\n",
            "Epoch 405/450\n",
            "5/5 - 0s - loss: 0.0833\n",
            "Epoch 406/450\n",
            "5/5 - 0s - loss: 0.0832\n",
            "Epoch 407/450\n",
            "5/5 - 0s - loss: 0.0835\n",
            "Epoch 408/450\n",
            "5/5 - 0s - loss: 0.0833\n",
            "Epoch 409/450\n",
            "5/5 - 0s - loss: 0.0838\n",
            "Epoch 410/450\n",
            "5/5 - 0s - loss: 0.0835\n",
            "Epoch 411/450\n",
            "5/5 - 0s - loss: 0.0834\n",
            "Epoch 412/450\n",
            "5/5 - 0s - loss: 0.0833\n",
            "Epoch 413/450\n",
            "5/5 - 0s - loss: 0.0838\n",
            "Epoch 414/450\n",
            "5/5 - 0s - loss: 0.0830\n",
            "Epoch 415/450\n",
            "5/5 - 0s - loss: 0.0836\n",
            "Epoch 416/450\n",
            "5/5 - 0s - loss: 0.0834\n",
            "Epoch 417/450\n",
            "5/5 - 0s - loss: 0.0831\n",
            "Epoch 418/450\n",
            "5/5 - 0s - loss: 0.0840\n",
            "Epoch 419/450\n",
            "5/5 - 0s - loss: 0.0834\n",
            "Epoch 420/450\n",
            "5/5 - 0s - loss: 0.0834\n",
            "Epoch 421/450\n",
            "5/5 - 0s - loss: 0.0839\n",
            "Epoch 422/450\n",
            "5/5 - 0s - loss: 0.0838\n",
            "Epoch 423/450\n",
            "5/5 - 0s - loss: 0.0831\n",
            "Epoch 424/450\n",
            "5/5 - 0s - loss: 0.0834\n",
            "Epoch 425/450\n",
            "5/5 - 0s - loss: 0.0835\n",
            "Epoch 426/450\n",
            "5/5 - 0s - loss: 0.0834\n",
            "Epoch 427/450\n",
            "5/5 - 0s - loss: 0.0840\n",
            "Epoch 428/450\n",
            "5/5 - 0s - loss: 0.0844\n",
            "Epoch 429/450\n",
            "5/5 - 0s - loss: 0.0838\n",
            "Epoch 430/450\n",
            "5/5 - 0s - loss: 0.0834\n",
            "Epoch 431/450\n",
            "5/5 - 0s - loss: 0.0828\n",
            "Epoch 432/450\n",
            "5/5 - 0s - loss: 0.0831\n",
            "Epoch 433/450\n",
            "5/5 - 0s - loss: 0.0836\n",
            "Epoch 434/450\n",
            "5/5 - 0s - loss: 0.0836\n",
            "Epoch 435/450\n",
            "5/5 - 0s - loss: 0.0833\n",
            "Epoch 436/450\n",
            "5/5 - 0s - loss: 0.0833\n",
            "Epoch 437/450\n",
            "5/5 - 0s - loss: 0.0835\n",
            "Epoch 438/450\n",
            "5/5 - 0s - loss: 0.0836\n",
            "Epoch 439/450\n",
            "5/5 - 0s - loss: 0.0838\n",
            "Epoch 440/450\n",
            "5/5 - 0s - loss: 0.0839\n",
            "Epoch 441/450\n",
            "5/5 - 0s - loss: 0.0835\n",
            "Epoch 442/450\n",
            "5/5 - 0s - loss: 0.0835\n",
            "Epoch 443/450\n",
            "5/5 - 0s - loss: 0.0832\n",
            "Epoch 444/450\n",
            "5/5 - 0s - loss: 0.0841\n",
            "Epoch 445/450\n",
            "5/5 - 0s - loss: 0.0830\n",
            "Epoch 446/450\n",
            "5/5 - 0s - loss: 0.0838\n",
            "Epoch 447/450\n",
            "5/5 - 0s - loss: 0.0830\n",
            "Epoch 448/450\n",
            "5/5 - 0s - loss: 0.0828\n",
            "Epoch 449/450\n",
            "5/5 - 0s - loss: 0.0833\n",
            "Epoch 450/450\n",
            "5/5 - 0s - loss: 0.0835\n"
          ],
          "name": "stdout"
        },
        {
          "output_type": "execute_result",
          "data": {
            "text/plain": [
              "<tensorflow.python.keras.callbacks.History at 0x7f56a85fd6d8>"
            ]
          },
          "metadata": {
            "tags": []
          },
          "execution_count": 154
        }
      ]
    },
    {
      "cell_type": "code",
      "metadata": {
        "id": "bZqzliQvn5fs",
        "colab_type": "code",
        "colab": {}
      },
      "source": [
        "trainPredict = model.predict(train_x)\n",
        "testPredict = model.predict(test_x)"
      ],
      "execution_count": 155,
      "outputs": []
    },
    {
      "cell_type": "code",
      "metadata": {
        "id": "5rLaV2_d9Y10",
        "colab_type": "code",
        "colab": {
          "base_uri": "https://localhost:8080/",
          "height": 34
        },
        "outputId": "7c64c180-0f5e-4f02-8be0-d4b680040068"
      },
      "source": [
        "len(np.unique(testPredict))"
      ],
      "execution_count": 156,
      "outputs": [
        {
          "output_type": "execute_result",
          "data": {
            "text/plain": [
              "753"
            ]
          },
          "metadata": {
            "tags": []
          },
          "execution_count": 156
        }
      ]
    },
    {
      "cell_type": "code",
      "metadata": {
        "id": "_nvQAAUytghp",
        "colab_type": "code",
        "colab": {
          "base_uri": "https://localhost:8080/",
          "height": 34
        },
        "outputId": "ad4bb804-d26c-4466-fa49-45f0f8258d81"
      },
      "source": [
        "trainPredict = np.reshape(trainPredict,(trainPredict.shape[0],1))\n",
        "testPredict = np.reshape(testPredict,(testPredict.shape[0],1))\n",
        "trainPredict.shape"
      ],
      "execution_count": 157,
      "outputs": [
        {
          "output_type": "execute_result",
          "data": {
            "text/plain": [
              "(4315, 1)"
            ]
          },
          "metadata": {
            "tags": []
          },
          "execution_count": 157
        }
      ]
    },
    {
      "cell_type": "code",
      "metadata": {
        "id": "5hYzbNeMrtKu",
        "colab_type": "code",
        "colab": {
          "base_uri": "https://localhost:8080/",
          "height": 51
        },
        "outputId": "2cbe2b52-36be-4303-9f13-63755066ef37"
      },
      "source": [
        "import math\n",
        "trainPredict = scaler.inverse_transform(trainPredict)\n",
        "trainY = scaler.inverse_transform([train_y])\n",
        "testPredict = scaler.inverse_transform(testPredict)\n",
        "testY = scaler.inverse_transform([test_y])\n",
        "# calculate root mean squared error\n",
        "trainScore = math.sqrt(mean_squared_error(trainY[0], trainPredict[:,0]))\n",
        "print('Train Score: %.2f RMSE' % (trainScore))\n",
        "testScore = math.sqrt(mean_squared_error(testY[0], testPredict[:,0]))\n",
        "print('Test Score: %.2f RMSE' % (testScore))"
      ],
      "execution_count": 158,
      "outputs": [
        {
          "output_type": "stream",
          "text": [
            "Train Score: 2.52 RMSE\n",
            "Test Score: 2.61 RMSE\n"
          ],
          "name": "stdout"
        }
      ]
    },
    {
      "cell_type": "code",
      "metadata": {
        "id": "ZzBs-fmETPYS",
        "colab_type": "code",
        "colab": {
          "base_uri": "https://localhost:8080/",
          "height": 488
        },
        "outputId": "60daef80-bc70-442f-a82e-c26d74c8ca13"
      },
      "source": [
        "train_plot = [(i,j) for i,j in zip(train_y[:50],trainPredict[:50])]\n",
        "\n",
        "plt.plot(train_plot)\n",
        "plt.figure(figsize=(20,10))\n",
        "plt.show()"
      ],
      "execution_count": 159,
      "outputs": [
        {
          "output_type": "display_data",
          "data": {
            "image/png": "[encoded data removed]",
            "text/plain": [
              "<Figure size 1440x720 with 1 Axes>"
            ]
          },
          "metadata": {
            "tags": [],
            "needs_background": "light"
          }
        },
        {
          "output_type": "display_data",
          "data": {
            "text/plain": [
              "<Figure size 1440x720 with 0 Axes>"
            ]
          },
          "metadata": {
            "tags": []
          }
        }
      ]
    },
    {
      "cell_type": "code",
      "metadata": {
        "id": "luYLuIygcJ3z",
        "colab_type": "code",
        "colab": {
          "base_uri": "https://localhost:8080/",
          "height": 472
        },
        "outputId": "71012a7f-36fb-460b-d059-84c9dd9646d0"
      },
      "source": [
        "train_plot = [(i,j) for i,j in zip(test_y[:50],testPredict[:50])]\n",
        "\n",
        "plt.plot(train_plot)\n",
        "plt.show()"
      ],
      "execution_count": 129,
      "outputs": [
        {
          "output_type": "display_data",
          "data": {
            "image/png": "[encoded data removed]",
            "text/plain": [
              "<Figure size 1440x720 with 1 Axes>"
            ]
          },
          "metadata": {
            "tags": [],
            "needs_background": "light"
          }
        }
      ]
    },
    {
      "cell_type": "code",
      "metadata": {
        "id": "eQo_ednj8fTk",
        "colab_type": "code",
        "colab": {
          "base_uri": "https://localhost:8080/",
          "height": 34
        },
        "outputId": "4f06392e-bae8-4cb9-8c47-a813d33b54ad"
      },
      "source": [
        "test_x.shape"
      ],
      "execution_count": null,
      "outputs": [
        {
          "output_type": "execute_result",
          "data": {
            "text/plain": [
              "(369, 1, 10)"
            ]
          },
          "metadata": {
            "tags": []
          },
          "execution_count": 67
        }
      ]
    },
    {
      "cell_type": "code",
      "metadata": {
        "id": "2Kw1qZm1r52t",
        "colab_type": "code",
        "colab": {}
      },
      "source": [
        "val_x = [4,6,3,8,2]\n",
        "val_x = val_x[::-1]\n",
        "val_x = np.array(val_x)/10\n",
        "val_x = np.reshape(val_x,(1,1,5))"
      ],
      "execution_count": null,
      "outputs": []
    },
    {
      "cell_type": "code",
      "metadata": {
        "id": "rLfzJlZ9JERe",
        "colab_type": "code",
        "colab": {
          "base_uri": "https://localhost:8080/",
          "height": 34
        },
        "outputId": "06b3718f-95ff-4ad9-cce2-9321112b4cbf"
      },
      "source": [
        "val = np.squeeze(np.round(model.predict(val_x)*10))\n",
        "print(\"red\" if val%2==0 else \"green\")"
      ],
      "execution_count": null,
      "outputs": [
        {
          "output_type": "stream",
          "text": [
            "green\n"
          ],
          "name": "stdout"
        }
      ]
    },
    {
      "cell_type": "code",
      "metadata": {
        "id": "9OOY7yjkbyi6",
        "colab_type": "code",
        "colab": {
          "base_uri": "https://localhost:8080/",
          "height": 34
        },
        "outputId": "989e950f-792a-4dd3-9022-2ed77ae980b2"
      },
      "source": [
        "model.predict(val_x)"
      ],
      "execution_count": null,
      "outputs": [
        {
          "output_type": "execute_result",
          "data": {
            "text/plain": [
              "array([[0.47765648]], dtype=float32)"
            ]
          },
          "metadata": {
            "tags": []
          },
          "execution_count": 753
        }
      ]
    },
    {
      "cell_type": "code",
      "metadata": {
        "id": "7YCYXZvTh27n",
        "colab_type": "code",
        "colab": {}
      },
      "source": [
        "val_x = [9,4,9,9,4,1,7,7,4,2]\n",
        "val_x = np.array(val_x)/10\n",
        "val_x = np.reshape(val_x,(1,1,10))"
      ],
      "execution_count": null,
      "outputs": []
    },
    {
      "cell_type": "code",
      "metadata": {
        "id": "VNXvdHuaotCF",
        "colab_type": "code",
        "colab": {
          "base_uri": "https://localhost:8080/",
          "height": 1000
        },
        "outputId": "7b2ba5bb-aff9-4871-8b27-20adfaf490d0"
      },
      "source": [
        "np.unique(testPredict)"
      ],
      "execution_count": null,
      "outputs": [
        {
          "output_type": "execute_result",
          "data": {
            "text/plain": [
              "array([-4.511395  , -2.1692955 , -1.5648576 , -0.51119757, -0.03092493,\n",
              "        0.05258471,  0.17721583,  0.27523306,  0.2937835 ,  0.60842395,\n",
              "        0.6136371 ,  0.6233368 ,  0.8159661 ,  1.058811  ,  1.1260105 ,\n",
              "        1.1533082 ,  1.216738  ,  1.2772435 ,  1.2964182 ,  1.4947896 ,\n",
              "        1.5454955 ,  1.6657078 ,  1.8188089 ,  1.8425233 ,  1.8634242 ,\n",
              "        1.8759334 ,  1.918032  ,  2.0664303 ,  2.1613908 ,  2.1928415 ,\n",
              "        2.2333062 ,  2.2915623 ,  2.309398  ,  2.3265326 ,  2.3334408 ,\n",
              "        2.3445706 ,  2.366714  ,  2.3735456 ,  2.4140394 ,  2.4373622 ,\n",
              "        2.4500513 ,  2.475035  ,  2.4782856 ,  2.4872632 ,  2.496115  ,\n",
              "        2.5094445 ,  2.6143792 ,  2.6418307 ,  2.6540146 ,  2.6713297 ,\n",
              "        2.7174911 ,  2.7247188 ,  2.745253  ,  2.7457535 ,  2.7866454 ,\n",
              "        2.788039  ,  2.8248177 ,  2.8358796 ,  2.8655057 ,  2.9190266 ,\n",
              "        2.9196975 ,  2.942189  ,  2.9853709 ,  2.9883218 ,  3.0044785 ,\n",
              "        3.0134025 ,  3.0159743 ,  3.0563178 ,  3.0678978 ,  3.1071851 ,\n",
              "        3.1233437 ,  3.1293678 ,  3.1466198 ,  3.1552398 ,  3.1605542 ,\n",
              "        3.1610694 ,  3.1631563 ,  3.168127  ,  3.1835904 ,  3.1931849 ,\n",
              "        3.2031343 ,  3.2113729 ,  3.2311766 ,  3.2355816 ,  3.2356346 ,\n",
              "        3.247124  ,  3.2479925 ,  3.2729762 ,  3.277502  ,  3.2815382 ,\n",
              "        3.2837505 ,  3.2915423 ,  3.2916307 ,  3.3023834 ,  3.306145  ,\n",
              "        3.3114352 ,  3.3174806 ,  3.3322065 ,  3.3568847 ,  3.3591115 ,\n",
              "        3.3614929 ,  3.3703005 ,  3.376774  ,  3.3863177 ,  3.4205482 ,\n",
              "        3.423822  ,  3.429255  ,  3.446871  ,  3.4599004 ,  3.4619057 ,\n",
              "        3.469034  ,  3.4793546 ,  3.4823663 ,  3.490483  ,  3.496573  ,\n",
              "        3.5013323 ,  3.5063617 ,  3.5156696 ,  3.5200863 ,  3.5211868 ,\n",
              "        3.5287983 ,  3.5390098 ,  3.5391388 ,  3.5777638 ,  3.59192   ,\n",
              "        3.5920947 ,  3.6154962 ,  3.639528  ,  3.6451058 ,  3.6493757 ,\n",
              "        3.6518376 ,  3.6594107 ,  3.6600957 ,  3.6631172 ,  3.6684146 ,\n",
              "        3.6717317 ,  3.6736588 ,  3.698065  ,  3.7023275 ,  3.7023277 ,\n",
              "        3.702989  ,  3.7182415 ,  3.7272105 ,  3.7282455 ,  3.731266  ,\n",
              "        3.732633  ,  3.7340121 ,  3.7357435 ,  3.7551188 ,  3.7555664 ,\n",
              "        3.772052  ,  3.7909727 ,  3.7949746 ,  3.800412  ,  3.8164673 ,\n",
              "        3.8175933 ,  3.8275316 ,  3.8312016 ,  3.8368914 ,  3.8403106 ,\n",
              "        3.8424742 ,  3.8447316 ,  3.8452914 ,  3.846381  ,  3.8492901 ,\n",
              "        3.8567803 ,  3.885438  ,  3.9269574 ,  3.9338403 ,  3.9344602 ,\n",
              "        3.9350328 ,  3.9360611 ,  3.9383678 ,  3.9403138 ,  3.9441192 ,\n",
              "        3.9475687 ,  3.957359  ,  3.9769485 ,  3.9924083 ,  3.9968035 ,\n",
              "        3.9979112 ,  4.006398  ,  4.0101624 ,  4.011671  ,  4.012195  ,\n",
              "        4.01641   ,  4.017058  ,  4.017751  ,  4.024644  ,  4.032904  ,\n",
              "        4.0353546 ,  4.0490527 ,  4.0683336 ,  4.0747657 ,  4.0825987 ,\n",
              "        4.0991488 ,  4.112127  ,  4.118713  ,  4.11895   ,  4.120055  ,\n",
              "        4.1235805 ,  4.1285796 ,  4.1392374 ,  4.1543555 ,  4.155455  ,\n",
              "        4.17069   ,  4.184648  ,  4.184977  ,  4.18749   ,  4.196194  ,\n",
              "        4.197705  ,  4.224475  ,  4.2443275 ,  4.245097  ,  4.252117  ,\n",
              "        4.2643366 ,  4.267681  ,  4.268475  ,  4.2687163 ,  4.2729034 ,\n",
              "        4.277644  ,  4.2820964 ,  4.282673  ,  4.285663  ,  4.2880816 ,\n",
              "        4.29484   ,  4.3028107 ,  4.3130803 ,  4.318349  ,  4.3203387 ,\n",
              "        4.3272886 ,  4.328213  ,  4.330058  ,  4.332213  ,  4.3334603 ,\n",
              "        4.3352942 ,  4.345631  ,  4.3666763 ,  4.3872204 ,  4.387314  ,\n",
              "        4.3955073 ,  4.4049673 ,  4.410031  ,  4.412691  ,  4.4183416 ,\n",
              "        4.4190154 ,  4.420361  ,  4.425357  ,  4.426487  ,  4.426974  ,\n",
              "        4.4353757 ,  4.436222  ,  4.4418955 ,  4.4597173 ,  4.4651356 ,\n",
              "        4.484352  ,  4.4847164 ,  4.489035  ,  4.4964557 ,  4.5002146 ,\n",
              "        4.501631  ,  4.5097666 ,  4.5399065 ,  4.539973  ,  4.5488276 ,\n",
              "        4.5575705 ,  4.5630937 ,  4.5695605 ,  4.5743623 ,  4.5963397 ,\n",
              "        4.6053925 ,  4.6100693 ,  4.6250143 ,  4.6267834 ,  4.63116   ,\n",
              "        4.641044  ,  4.6570606 ,  4.661     ,  4.661538  ,  4.6630144 ,\n",
              "        4.6673455 ,  4.673349  ,  4.679593  ,  4.6823645 ,  4.68396   ,\n",
              "        4.686891  ,  4.689698  ,  4.6961393 ,  4.6967716 ,  4.697497  ,\n",
              "        4.708531  ,  4.7367897 ,  4.7409825 ,  4.74119   ,  4.7440305 ,\n",
              "        4.769408  ,  4.7704287 ,  4.7749176 ,  4.787655  ,  4.7937293 ,\n",
              "        4.809399  ,  4.8149858 ,  4.8200936 ,  4.8264556 ,  4.835129  ,\n",
              "        4.8481665 ,  4.8560333 ,  4.8594756 ,  4.8605757 ,  4.871005  ,\n",
              "        4.897645  ,  4.898209  ,  4.903307  ,  4.9043136 ,  4.9135156 ,\n",
              "        4.9255414 ,  4.927025  ,  4.9646087 ,  4.9715137 ,  4.975818  ,\n",
              "        4.98581   ,  5.0008025 ,  5.0083084 ,  5.0617266 ,  5.066016  ,\n",
              "        5.082756  ,  5.113232  ,  5.124909  ,  5.157662  ,  5.158286  ,\n",
              "        5.160927  ,  5.169084  ,  5.1943808 ,  5.203652  ,  5.2154126 ,\n",
              "        5.2240114 ,  5.2287674 ,  5.262704  ,  5.2680707 ,  5.281117  ,\n",
              "        5.2957478 ,  5.32378   ,  5.325777  ,  5.350062  ,  5.389731  ,\n",
              "        5.3942413 ,  5.394659  ,  5.4183316 ,  5.420926  ,  5.460305  ,\n",
              "        5.518415  ,  5.5596395 ,  5.616826  ,  5.6894035 ,  5.7650747 ,\n",
              "        5.796235  ,  5.807931  ,  5.911017  ,  5.9184475 ,  6.0128317 ,\n",
              "        6.0134196 ,  6.052094  ,  6.1720767 ,  6.4365287 ,  6.47748   ,\n",
              "        6.5356545 ,  6.6666293 ,  6.923579  ,  7.1937866 ], dtype=float32)"
            ]
          },
          "metadata": {
            "tags": []
          },
          "execution_count": 124
        }
      ]
    },
    {
      "cell_type": "code",
      "metadata": {
        "id": "TL6aPTgRT8gK",
        "colab_type": "code",
        "colab": {}
      },
      "source": [
        ""
      ],
      "execution_count": null,
      "outputs": []
    }
  ]
}