{
  "nbformat": 4,
  "nbformat_minor": 0,
  "metadata": {
    "colab": {
      "name": "bonum_model.ipynb",
      "provenance": [],
      "collapsed_sections": []
    },
    "kernelspec": {
      "name": "python3",
      "display_name": "Python 3"
    }
  },
  "cells": [
    {
      "cell_type": "code",
      "metadata": {
        "id": "iSbfdr3mm9Cz",
        "colab_type": "code",
        "colab": {}
      },
      "source": [
        "import tensorflow as tf\n",
        "import pandas as pd\n",
        "import numpy as np\n",
        "import keras\n",
        "from io import BytesIO\n",
        "from keras.models import Sequential\n",
        "from keras.layers import LSTM, Dense,Dropout,Activation\n",
        "from keras.regularizers import L1L2\n",
        "import matplotlib.pyplot as plt\n",
        "from keras.preprocessing.sequence import TimeseriesGenerator\n",
        "from google.colab import files\n",
        "from sklearn.preprocessing import MinMaxScaler\n",
        "from sklearn.metrics import mean_squared_error\n",
        "from pylab import rcParams\n",
        "rcParams['figure.figsize'] = 20,10"
      ],
      "execution_count": 1,
      "outputs": []
    },
    {
      "cell_type": "code",
      "metadata": {
        "id": "boJHJkEglkGO",
        "colab_type": "code",
        "colab": {}
      },
      "source": [
        "def create_lookBack(data,look_back = 3):\n",
        "  val_x = []\n",
        "  val_y = []\n",
        "  for i in range(len(data)-look_back-1):\n",
        "    val_x.append(data[i:(i+look_back),0])\n",
        "    val_y.append(data[i+look_back,0])\n",
        "  return np.array(val_x),np.array(val_y)  "
      ],
      "execution_count": 16,
      "outputs": []
    },
    {
      "cell_type": "code",
      "metadata": {
        "id": "7UOoY_QXnOlH",
        "colab_type": "code",
        "colab": {
          "resources": {
            "http://localhost:8080/nbextensions/google.colab/files.js": {
              "data": "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",
              "ok": true,
              "headers": [
                [
                  "content-type",
                  "application/javascript"
                ]
              ],
              "status": 200,
              "status_text": ""
            }
          },
          "base_uri": "https://localhost:8080/",
          "height": 72
        },
        "outputId": "3b32e3c0-cfa6-44f6-ff62-b3415e5f7024"
      },
      "source": [
        "uploaded = files.upload()"
      ],
      "execution_count": 2,
      "outputs": [
        {
          "output_type": "display_data",
          "data": {
            "text/html": [
              "\n",
              "     <input type=\"file\" id=\"files-20bcfae4-8b8c-4b36-8a63-dce6c0bb46de\" name=\"files[]\" multiple disabled\n",
              "        style=\"border:none\" />\n",
              "     <output id=\"result-20bcfae4-8b8c-4b36-8a63-dce6c0bb46de\">\n",
              "      Upload widget is only available when the cell has been executed in the\n",
              "      current browser session. Please rerun this cell to enable.\n",
              "      </output>\n",
              "      <script src=\"/nbextensions/google.colab/files.js\"></script> "
            ],
            "text/plain": [
              "<IPython.core.display.HTML object>"
            ]
          },
          "metadata": {
            "tags": []
          }
        },
        {
          "output_type": "stream",
          "text": [
            "Saving bonum.csv to bonum.csv\n"
          ],
          "name": "stdout"
        }
      ]
    },
    {
      "cell_type": "code",
      "metadata": {
        "id": "c7qHmeSZnbJF",
        "colab_type": "code",
        "colab": {}
      },
      "source": [
        "df = pd.read_csv(BytesIO(uploaded['bonum.csv']))"
      ],
      "execution_count": 3,
      "outputs": []
    },
    {
      "cell_type": "code",
      "metadata": {
        "id": "k4zC77nbnkvr",
        "colab_type": "code",
        "colab": {
          "base_uri": "https://localhost:8080/",
          "height": 187
        },
        "outputId": "cd79be2f-340c-4d3c-910a-6e5e05463c67"
      },
      "source": [
        "df.info()"
      ],
      "execution_count": 4,
      "outputs": [
        {
          "output_type": "stream",
          "text": [
            "<class 'pandas.core.frame.DataFrame'>\n",
            "RangeIndex: 5090 entries, 0 to 5089\n",
            "Data columns (total 3 columns):\n",
            " #   Column  Non-Null Count  Dtype\n",
            "---  ------  --------------  -----\n",
            " 0   Period  5090 non-null   int64\n",
            " 1   Price   5090 non-null   int64\n",
            " 2   Num     5090 non-null   int64\n",
            "dtypes: int64(3)\n",
            "memory usage: 119.4 KB\n"
          ],
          "name": "stdout"
        }
      ]
    },
    {
      "cell_type": "code",
      "metadata": {
        "id": "E4gA3CbQoBvq",
        "colab_type": "code",
        "colab": {}
      },
      "source": [
        "#df.drop(columns=[\"Num\"],inplace=True)"
      ],
      "execution_count": null,
      "outputs": []
    },
    {
      "cell_type": "code",
      "metadata": {
        "id": "QamzcZBbqnLB",
        "colab_type": "code",
        "colab": {
          "base_uri": "https://localhost:8080/",
          "height": 265
        },
        "outputId": "ea12094b-0a72-41d3-e806-7edda94a193b"
      },
      "source": [
        "period = df[\"Period\"].values\n",
        "period = np.mod(period,100000)\n",
        "num = df[\"Num\"].values\n",
        "plt.plot(period,num)\n",
        "plt.show()\n"
      ],
      "execution_count": null,
      "outputs": [
        {
          "output_type": "display_data",
          "data": {
            "image/png": "[encoded data removed]",
            "text/plain": [
              "<Figure size 432x288 with 1 Axes>"
            ]
          },
          "metadata": {
            "tags": [],
            "needs_background": "light"
          }
        }
      ]
    },
    {
      "cell_type": "code",
      "metadata": {
        "id": "mz6dwXa3i-fB",
        "colab_type": "code",
        "colab": {
          "base_uri": "https://localhost:8080/",
          "height": 265
        },
        "outputId": "541b13a5-cb9d-4e64-f41c-f234571ea519"
      },
      "source": [
        "data = df['Num'].values\n",
        "plt.plot(data[:50])\n",
        "plt.show()"
      ],
      "execution_count": 9,
      "outputs": [
        {
          "output_type": "display_data",
          "data": {
            "image/png": "[encoded data removed]",
            "text/plain": [
              "<Figure size 432x288 with 1 Axes>"
            ]
          },
          "metadata": {
            "tags": [],
            "needs_background": "light"
          }
        }
      ]
    },
    {
      "cell_type": "code",
      "metadata": {
        "id": "ImNGMO0Ej8Sc",
        "colab_type": "code",
        "colab": {
          "base_uri": "https://localhost:8080/",
          "height": 34
        },
        "outputId": "6c2a2cf2-b8d1-4c2a-f20e-a7f521464651"
      },
      "source": [
        "np.random.seed(7)\n",
        "data = df['Num'].values\n",
        "data = data[::-1]\n",
        "data = np.reshape(data,(data.shape[0],1))\n",
        "scaler = MinMaxScaler(feature_range=(0, 1))\n",
        "dataset = scaler.fit_transform(data)\n",
        "split = int(0.85*len(dataset))\n",
        "train = dataset[:split,:]\n",
        "test = dataset[split:,:]\n",
        "print(len(train),len(test),dataset.shape)"
      ],
      "execution_count": 67,
      "outputs": [
        {
          "output_type": "stream",
          "text": [
            "4326 764 (5090, 1)\n"
          ],
          "name": "stdout"
        }
      ]
    },
    {
      "cell_type": "code",
      "metadata": {
        "id": "ThusIFfBjrv8",
        "colab_type": "code",
        "colab": {
          "base_uri": "https://localhost:8080/",
          "height": 34
        },
        "outputId": "cf98f9d6-6de0-47a3-b704-9aac2abcd4f4"
      },
      "source": [
        "np.random.seed(7)\n",
        "data = df['Num'].values\n",
        "data = data.astype(\"float32\")\n",
        "data = data.reshape((-1,1))\n",
        "data = data[::-1]\n",
        "dataset = data/10\n",
        "np.unique(dataset)\n",
        "split = int(0.85*len(dataset))\n",
        "train = dataset[:split,:]\n",
        "test = dataset[split:,:]\n",
        "print(len(train),len(test),dataset.shape)"
      ],
      "execution_count": 120,
      "outputs": [
        {
          "output_type": "stream",
          "text": [
            "4326 764 (5090, 1)\n"
          ],
          "name": "stdout"
        }
      ]
    },
    {
      "cell_type": "code",
      "metadata": {
        "id": "KTXGHJ39nWT2",
        "colab_type": "code",
        "colab": {}
      },
      "source": [
        "look_back = 10\n",
        "train_x,train_y = create_lookBack(train,look_back)\n",
        "test_x,test_y = create_lookBack(test,look_back)"
      ],
      "execution_count": 121,
      "outputs": []
    },
    {
      "cell_type": "code",
      "metadata": {
        "id": "l8lxGAy3rGUU",
        "colab_type": "code",
        "colab": {}
      },
      "source": [
        "train_x = np.reshape(train_x, (train_x.shape[0], 1, train_x.shape[1]))\n",
        "test_x = np.reshape(test_x, (test_x.shape[0], 1, test_x.shape[1]))"
      ],
      "execution_count": 122,
      "outputs": []
    },
    {
      "cell_type": "code",
      "metadata": {
        "id": "E21GmkS4nd81",
        "colab_type": "code",
        "colab": {}
      },
      "source": [
        "reg = L1L2(l1=0.01, l2=0.01)\n",
        "model = Sequential()\n",
        "model.add(LSTM(200, input_shape=(1, look_back),return_sequences = True,bias_regularizer=reg,activation=\"relu\"))\n",
        "model.add(Dropout(0.4))\n",
        "model.add(LSTM(200,return_sequences = True,bias_regularizer=reg,activation=\"relu\"))\n",
        "model.add(Dropout(0.4))\n",
        "model.add(LSTM(100,return_sequences = True,bias_regularizer=reg,activation=\"relu\"))\n",
        "model.add(Dropout(0.2))\n",
        "model.add(LSTM(50,return_sequences = False,bias_regularizer=reg,activation=\"relu\"))\n",
        "\n",
        "model.add(Dense(1))\n",
        "model.compile(loss='mean_squared_error', optimizer='adam')"
      ],
      "execution_count": 123,
      "outputs": []
    },
    {
      "cell_type": "code",
      "metadata": {
        "id": "OyRWqkSUrYaI",
        "colab_type": "code",
        "colab": {}
      },
      "source": [
        "model1 = Sequential()\n",
        "model1.add(LSTM(200,input_shape = (1, look_back), return_sequences = True,activation=\"relu\"))\n",
        "model1.add(Dropout(0.4))\n",
        "model1.add(LSTM(100,return_sequences = True,activation=\"relu\"))\n",
        "model1.add(Dropout(0.35))\n",
        "model1.add(LSTM(100,return_sequences = False,activation=\"relu\"))\n",
        "model1.add(Dropout(0.2))\n",
        "model1.add(Dense(1))\n",
        "model1.compile(loss=\"mean_squared_error\", optimizer=\"adam\")"
      ],
      "execution_count": 61,
      "outputs": []
    },
    {
      "cell_type": "code",
      "metadata": {
        "id": "JYhzP_vknkGN",
        "colab_type": "code",
        "colab": {
          "base_uri": "https://localhost:8080/",
          "height": 1000
        },
        "outputId": "ed6dd97b-4117-4d57-e13c-b296998abda3"
      },
      "source": [
        "model.fit(train_x,train_y,epochs = 450,verbose=2,batch_size=1024, shuffle=False)"
      ],
      "execution_count": 124,
      "outputs": [
        {
          "output_type": "stream",
          "text": [
            "Epoch 1/450\n",
            "5/5 - 0s - loss: 11.2595\n",
            "Epoch 2/450\n",
            "5/5 - 0s - loss: 11.1691\n",
            "Epoch 3/450\n",
            "5/5 - 0s - loss: 11.0769\n",
            "Epoch 4/450\n",
            "5/5 - 0s - loss: 10.9823\n",
            "Epoch 5/450\n",
            "5/5 - 0s - loss: 10.8822\n",
            "Epoch 6/450\n",
            "5/5 - 0s - loss: 10.7689\n",
            "Epoch 7/450\n",
            "5/5 - 0s - loss: 10.6327\n",
            "Epoch 8/450\n",
            "5/5 - 0s - loss: 10.5219\n",
            "Epoch 9/450\n",
            "5/5 - 0s - loss: 10.4372\n",
            "Epoch 10/450\n",
            "5/5 - 0s - loss: 10.3549\n",
            "Epoch 11/450\n",
            "5/5 - 0s - loss: 10.2761\n",
            "Epoch 12/450\n",
            "5/5 - 0s - loss: 10.1922\n",
            "Epoch 13/450\n",
            "5/5 - 0s - loss: 10.1140\n",
            "Epoch 14/450\n",
            "5/5 - 0s - loss: 10.0336\n",
            "Epoch 15/450\n",
            "5/5 - 0s - loss: 9.9553\n",
            "Epoch 16/450\n",
            "5/5 - 0s - loss: 9.8774\n",
            "Epoch 17/450\n",
            "5/5 - 0s - loss: 9.7998\n",
            "Epoch 18/450\n",
            "5/5 - 0s - loss: 9.7222\n",
            "Epoch 19/450\n",
            "5/5 - 0s - loss: 9.6461\n",
            "Epoch 20/450\n",
            "5/5 - 0s - loss: 9.5703\n",
            "Epoch 21/450\n",
            "5/5 - 0s - loss: 9.4939\n",
            "Epoch 22/450\n",
            "5/5 - 0s - loss: 9.4193\n",
            "Epoch 23/450\n",
            "5/5 - 0s - loss: 9.3433\n",
            "Epoch 24/450\n",
            "5/5 - 0s - loss: 9.2686\n",
            "Epoch 25/450\n",
            "5/5 - 0s - loss: 9.1946\n",
            "Epoch 26/450\n",
            "5/5 - 0s - loss: 9.1210\n",
            "Epoch 27/450\n",
            "5/5 - 0s - loss: 9.0478\n",
            "Epoch 28/450\n",
            "5/5 - 0s - loss: 8.9748\n",
            "Epoch 29/450\n",
            "5/5 - 0s - loss: 8.9026\n",
            "Epoch 30/450\n",
            "5/5 - 0s - loss: 8.8302\n",
            "Epoch 31/450\n",
            "5/5 - 0s - loss: 8.7578\n",
            "Epoch 32/450\n",
            "5/5 - 0s - loss: 8.6863\n",
            "Epoch 33/450\n",
            "5/5 - 0s - loss: 8.6160\n",
            "Epoch 34/450\n",
            "5/5 - 0s - loss: 8.5450\n",
            "Epoch 35/450\n",
            "5/5 - 0s - loss: 8.4749\n",
            "Epoch 36/450\n",
            "5/5 - 0s - loss: 8.4053\n",
            "Epoch 37/450\n",
            "5/5 - 0s - loss: 8.3358\n",
            "Epoch 38/450\n",
            "5/5 - 0s - loss: 8.2674\n",
            "Epoch 39/450\n",
            "5/5 - 0s - loss: 8.1990\n",
            "Epoch 40/450\n",
            "5/5 - 0s - loss: 8.1309\n",
            "Epoch 41/450\n",
            "5/5 - 0s - loss: 8.0634\n",
            "Epoch 42/450\n",
            "5/5 - 0s - loss: 7.9965\n",
            "Epoch 43/450\n",
            "5/5 - 0s - loss: 7.9290\n",
            "Epoch 44/450\n",
            "5/5 - 0s - loss: 7.8628\n",
            "Epoch 45/450\n",
            "5/5 - 0s - loss: 7.7971\n",
            "Epoch 46/450\n",
            "5/5 - 0s - loss: 7.7307\n",
            "Epoch 47/450\n",
            "5/5 - 0s - loss: 7.6654\n",
            "Epoch 48/450\n",
            "5/5 - 0s - loss: 7.6008\n",
            "Epoch 49/450\n",
            "5/5 - 0s - loss: 7.5362\n",
            "Epoch 50/450\n",
            "5/5 - 0s - loss: 7.4717\n",
            "Epoch 51/450\n",
            "5/5 - 0s - loss: 7.4078\n",
            "Epoch 52/450\n",
            "5/5 - 0s - loss: 7.3443\n",
            "Epoch 53/450\n",
            "5/5 - 0s - loss: 7.2811\n",
            "Epoch 54/450\n",
            "5/5 - 0s - loss: 7.2181\n",
            "Epoch 55/450\n",
            "5/5 - 0s - loss: 7.1557\n",
            "Epoch 56/450\n",
            "5/5 - 0s - loss: 7.0936\n",
            "Epoch 57/450\n",
            "5/5 - 0s - loss: 7.0315\n",
            "Epoch 58/450\n",
            "5/5 - 0s - loss: 6.9698\n",
            "Epoch 59/450\n",
            "5/5 - 0s - loss: 6.9088\n",
            "Epoch 60/450\n",
            "5/5 - 0s - loss: 6.8482\n",
            "Epoch 61/450\n",
            "5/5 - 0s - loss: 6.7876\n",
            "Epoch 62/450\n",
            "5/5 - 0s - loss: 6.7273\n",
            "Epoch 63/450\n",
            "5/5 - 0s - loss: 6.6676\n",
            "Epoch 64/450\n",
            "5/5 - 0s - loss: 6.6080\n",
            "Epoch 65/450\n",
            "5/5 - 0s - loss: 6.5486\n",
            "Epoch 66/450\n",
            "5/5 - 0s - loss: 6.4901\n",
            "Epoch 67/450\n",
            "5/5 - 0s - loss: 6.4315\n",
            "Epoch 68/450\n",
            "5/5 - 0s - loss: 6.3733\n",
            "Epoch 69/450\n",
            "5/5 - 0s - loss: 6.3156\n",
            "Epoch 70/450\n",
            "5/5 - 0s - loss: 6.2581\n",
            "Epoch 71/450\n",
            "5/5 - 0s - loss: 6.2010\n",
            "Epoch 72/450\n",
            "5/5 - 0s - loss: 6.1441\n",
            "Epoch 73/450\n",
            "5/5 - 0s - loss: 6.0875\n",
            "Epoch 74/450\n",
            "5/5 - 0s - loss: 6.0316\n",
            "Epoch 75/450\n",
            "5/5 - 0s - loss: 5.9757\n",
            "Epoch 76/450\n",
            "5/5 - 0s - loss: 5.9200\n",
            "Epoch 77/450\n",
            "5/5 - 0s - loss: 5.8648\n",
            "Epoch 78/450\n",
            "5/5 - 0s - loss: 5.8098\n",
            "Epoch 79/450\n",
            "5/5 - 0s - loss: 5.7550\n",
            "Epoch 80/450\n",
            "5/5 - 0s - loss: 5.7012\n",
            "Epoch 81/450\n",
            "5/5 - 0s - loss: 5.6471\n",
            "Epoch 82/450\n",
            "5/5 - 0s - loss: 5.5936\n",
            "Epoch 83/450\n",
            "5/5 - 0s - loss: 5.5403\n",
            "Epoch 84/450\n",
            "5/5 - 0s - loss: 5.4870\n",
            "Epoch 85/450\n",
            "5/5 - 0s - loss: 5.4342\n",
            "Epoch 86/450\n",
            "5/5 - 0s - loss: 5.3820\n",
            "Epoch 87/450\n",
            "5/5 - 0s - loss: 5.3298\n",
            "Epoch 88/450\n",
            "5/5 - 0s - loss: 5.2782\n",
            "Epoch 89/450\n",
            "5/5 - 0s - loss: 5.2269\n",
            "Epoch 90/450\n",
            "5/5 - 0s - loss: 5.1756\n",
            "Epoch 91/450\n",
            "5/5 - 0s - loss: 5.1247\n",
            "Epoch 92/450\n",
            "5/5 - 0s - loss: 5.0741\n",
            "Epoch 93/450\n",
            "5/5 - 0s - loss: 5.0238\n",
            "Epoch 94/450\n",
            "5/5 - 0s - loss: 4.9738\n",
            "Epoch 95/450\n",
            "5/5 - 0s - loss: 4.9241\n",
            "Epoch 96/450\n",
            "5/5 - 0s - loss: 4.8748\n",
            "Epoch 97/450\n",
            "5/5 - 0s - loss: 4.8257\n",
            "Epoch 98/450\n",
            "5/5 - 0s - loss: 4.7772\n",
            "Epoch 99/450\n",
            "5/5 - 0s - loss: 4.7286\n",
            "Epoch 100/450\n",
            "5/5 - 0s - loss: 4.6802\n",
            "Epoch 101/450\n",
            "5/5 - 0s - loss: 4.6322\n",
            "Epoch 102/450\n",
            "5/5 - 0s - loss: 4.5851\n",
            "Epoch 103/450\n",
            "5/5 - 0s - loss: 4.5372\n",
            "Epoch 104/450\n",
            "5/5 - 0s - loss: 4.4906\n",
            "Epoch 105/450\n",
            "5/5 - 0s - loss: 4.4438\n",
            "Epoch 106/450\n",
            "5/5 - 0s - loss: 4.3974\n",
            "Epoch 107/450\n",
            "5/5 - 0s - loss: 4.3509\n",
            "Epoch 108/450\n",
            "5/5 - 0s - loss: 4.3052\n",
            "Epoch 109/450\n",
            "5/5 - 0s - loss: 4.2596\n",
            "Epoch 110/450\n",
            "5/5 - 0s - loss: 4.2143\n",
            "Epoch 111/450\n",
            "5/5 - 0s - loss: 4.1691\n",
            "Epoch 112/450\n",
            "5/5 - 0s - loss: 4.1244\n",
            "Epoch 113/450\n",
            "5/5 - 0s - loss: 4.0802\n",
            "Epoch 114/450\n",
            "5/5 - 0s - loss: 4.0359\n",
            "Epoch 115/450\n",
            "5/5 - 0s - loss: 3.9920\n",
            "Epoch 116/450\n",
            "5/5 - 0s - loss: 3.9482\n",
            "Epoch 117/450\n",
            "5/5 - 0s - loss: 3.9047\n",
            "Epoch 118/450\n",
            "5/5 - 0s - loss: 3.8617\n",
            "Epoch 119/450\n",
            "5/5 - 0s - loss: 3.8187\n",
            "Epoch 120/450\n",
            "5/5 - 0s - loss: 3.7760\n",
            "Epoch 121/450\n",
            "5/5 - 0s - loss: 3.7337\n",
            "Epoch 122/450\n",
            "5/5 - 0s - loss: 3.6918\n",
            "Epoch 123/450\n",
            "5/5 - 0s - loss: 3.6499\n",
            "Epoch 124/450\n",
            "5/5 - 0s - loss: 3.6085\n",
            "Epoch 125/450\n",
            "5/5 - 0s - loss: 3.5673\n",
            "Epoch 126/450\n",
            "5/5 - 0s - loss: 3.5263\n",
            "Epoch 127/450\n",
            "5/5 - 0s - loss: 3.4856\n",
            "Epoch 128/450\n",
            "5/5 - 0s - loss: 3.4451\n",
            "Epoch 129/450\n",
            "5/5 - 0s - loss: 3.4051\n",
            "Epoch 130/450\n",
            "5/5 - 0s - loss: 3.3651\n",
            "Epoch 131/450\n",
            "5/5 - 0s - loss: 3.3253\n",
            "Epoch 132/450\n",
            "5/5 - 0s - loss: 3.2858\n",
            "Epoch 133/450\n",
            "5/5 - 0s - loss: 3.2469\n",
            "Epoch 134/450\n",
            "5/5 - 0s - loss: 3.2077\n",
            "Epoch 135/450\n",
            "5/5 - 0s - loss: 3.1692\n",
            "Epoch 136/450\n",
            "5/5 - 0s - loss: 3.1306\n",
            "Epoch 137/450\n",
            "5/5 - 0s - loss: 3.0926\n",
            "Epoch 138/450\n",
            "5/5 - 0s - loss: 3.0547\n",
            "Epoch 139/450\n",
            "5/5 - 0s - loss: 3.0170\n",
            "Epoch 140/450\n",
            "5/5 - 0s - loss: 2.9798\n",
            "Epoch 141/450\n",
            "5/5 - 0s - loss: 2.9426\n",
            "Epoch 142/450\n",
            "5/5 - 0s - loss: 2.9056\n",
            "Epoch 143/450\n",
            "5/5 - 0s - loss: 2.8689\n",
            "Epoch 144/450\n",
            "5/5 - 0s - loss: 2.8325\n",
            "Epoch 145/450\n",
            "5/5 - 0s - loss: 2.7964\n",
            "Epoch 146/450\n",
            "5/5 - 0s - loss: 2.7604\n",
            "Epoch 147/450\n",
            "5/5 - 0s - loss: 2.7246\n",
            "Epoch 148/450\n",
            "5/5 - 0s - loss: 2.6892\n",
            "Epoch 149/450\n",
            "5/5 - 0s - loss: 2.6539\n",
            "Epoch 150/450\n",
            "5/5 - 0s - loss: 2.6190\n",
            "Epoch 151/450\n",
            "5/5 - 0s - loss: 2.5841\n",
            "Epoch 152/450\n",
            "5/5 - 0s - loss: 2.5499\n",
            "Epoch 153/450\n",
            "5/5 - 0s - loss: 2.5156\n",
            "Epoch 154/450\n",
            "5/5 - 0s - loss: 2.4813\n",
            "Epoch 155/450\n",
            "5/5 - 0s - loss: 2.4476\n",
            "Epoch 156/450\n",
            "5/5 - 0s - loss: 2.4140\n",
            "Epoch 157/450\n",
            "5/5 - 0s - loss: 2.3808\n",
            "Epoch 158/450\n",
            "5/5 - 0s - loss: 2.3477\n",
            "Epoch 159/450\n",
            "5/5 - 0s - loss: 2.3149\n",
            "Epoch 160/450\n",
            "5/5 - 0s - loss: 2.2821\n",
            "Epoch 161/450\n",
            "5/5 - 0s - loss: 2.2497\n",
            "Epoch 162/450\n",
            "5/5 - 0s - loss: 2.2173\n",
            "Epoch 163/450\n",
            "5/5 - 0s - loss: 2.1855\n",
            "Epoch 164/450\n",
            "5/5 - 0s - loss: 2.1536\n",
            "Epoch 165/450\n",
            "5/5 - 0s - loss: 2.1221\n",
            "Epoch 166/450\n",
            "5/5 - 0s - loss: 2.0907\n",
            "Epoch 167/450\n",
            "5/5 - 0s - loss: 2.0598\n",
            "Epoch 168/450\n",
            "5/5 - 0s - loss: 2.0288\n",
            "Epoch 169/450\n",
            "5/5 - 0s - loss: 1.9982\n",
            "Epoch 170/450\n",
            "5/5 - 0s - loss: 1.9678\n",
            "Epoch 171/450\n",
            "5/5 - 0s - loss: 1.9375\n",
            "Epoch 172/450\n",
            "5/5 - 0s - loss: 1.9074\n",
            "Epoch 173/450\n",
            "5/5 - 0s - loss: 1.8776\n",
            "Epoch 174/450\n",
            "5/5 - 0s - loss: 1.8482\n",
            "Epoch 175/450\n",
            "5/5 - 0s - loss: 1.8186\n",
            "Epoch 176/450\n",
            "5/5 - 0s - loss: 1.7895\n",
            "Epoch 177/450\n",
            "5/5 - 0s - loss: 1.7608\n",
            "Epoch 178/450\n",
            "5/5 - 0s - loss: 1.7319\n",
            "Epoch 179/450\n",
            "5/5 - 0s - loss: 1.7033\n",
            "Epoch 180/450\n",
            "5/5 - 0s - loss: 1.6749\n",
            "Epoch 181/450\n",
            "5/5 - 0s - loss: 1.6469\n",
            "Epoch 182/450\n",
            "5/5 - 0s - loss: 1.6189\n",
            "Epoch 183/450\n",
            "5/5 - 0s - loss: 1.5912\n",
            "Epoch 184/450\n",
            "5/5 - 0s - loss: 1.5638\n",
            "Epoch 185/450\n",
            "5/5 - 0s - loss: 1.5364\n",
            "Epoch 186/450\n",
            "5/5 - 0s - loss: 1.5094\n",
            "Epoch 187/450\n",
            "5/5 - 0s - loss: 1.4825\n",
            "Epoch 188/450\n",
            "5/5 - 0s - loss: 1.4558\n",
            "Epoch 189/450\n",
            "5/5 - 0s - loss: 1.4293\n",
            "Epoch 190/450\n",
            "5/5 - 0s - loss: 1.4029\n",
            "Epoch 191/450\n",
            "5/5 - 0s - loss: 1.3765\n",
            "Epoch 192/450\n",
            "5/5 - 0s - loss: 1.3509\n",
            "Epoch 193/450\n",
            "5/5 - 0s - loss: 1.3251\n",
            "Epoch 194/450\n",
            "5/5 - 0s - loss: 1.2996\n",
            "Epoch 195/450\n",
            "5/5 - 0s - loss: 1.2743\n",
            "Epoch 196/450\n",
            "5/5 - 0s - loss: 1.2493\n",
            "Epoch 197/450\n",
            "5/5 - 0s - loss: 1.2242\n",
            "Epoch 198/450\n",
            "5/5 - 0s - loss: 1.1994\n",
            "Epoch 199/450\n",
            "5/5 - 0s - loss: 1.1746\n",
            "Epoch 200/450\n",
            "5/5 - 0s - loss: 1.1504\n",
            "Epoch 201/450\n",
            "5/5 - 0s - loss: 1.1260\n",
            "Epoch 202/450\n",
            "5/5 - 0s - loss: 1.1023\n",
            "Epoch 203/450\n",
            "5/5 - 0s - loss: 1.0783\n",
            "Epoch 204/450\n",
            "5/5 - 0s - loss: 1.0545\n",
            "Epoch 205/450\n",
            "5/5 - 0s - loss: 1.0312\n",
            "Epoch 206/450\n",
            "5/5 - 0s - loss: 1.0079\n",
            "Epoch 207/450\n",
            "5/5 - 0s - loss: 0.9849\n",
            "Epoch 208/450\n",
            "5/5 - 0s - loss: 0.9620\n",
            "Epoch 209/450\n",
            "5/5 - 0s - loss: 0.9394\n",
            "Epoch 210/450\n",
            "5/5 - 0s - loss: 0.9166\n",
            "Epoch 211/450\n",
            "5/5 - 0s - loss: 0.8942\n",
            "Epoch 212/450\n",
            "5/5 - 0s - loss: 0.8720\n",
            "Epoch 213/450\n",
            "5/5 - 0s - loss: 0.8500\n",
            "Epoch 214/450\n",
            "5/5 - 0s - loss: 0.8281\n",
            "Epoch 215/450\n",
            "5/5 - 0s - loss: 0.8064\n",
            "Epoch 216/450\n",
            "5/5 - 0s - loss: 0.7851\n",
            "Epoch 217/450\n",
            "5/5 - 0s - loss: 0.7638\n",
            "Epoch 218/450\n",
            "5/5 - 0s - loss: 0.7423\n",
            "Epoch 219/450\n",
            "5/5 - 0s - loss: 0.7212\n",
            "Epoch 220/450\n",
            "5/5 - 0s - loss: 0.7004\n",
            "Epoch 221/450\n",
            "5/5 - 0s - loss: 0.6797\n",
            "Epoch 222/450\n",
            "5/5 - 0s - loss: 0.6592\n",
            "Epoch 223/450\n",
            "5/5 - 0s - loss: 0.6390\n",
            "Epoch 224/450\n",
            "5/5 - 0s - loss: 0.6188\n",
            "Epoch 225/450\n",
            "5/5 - 0s - loss: 0.5989\n",
            "Epoch 226/450\n",
            "5/5 - 0s - loss: 0.5788\n",
            "Epoch 227/450\n",
            "5/5 - 0s - loss: 0.5592\n",
            "Epoch 228/450\n",
            "5/5 - 0s - loss: 0.5398\n",
            "Epoch 229/450\n",
            "5/5 - 0s - loss: 0.5203\n",
            "Epoch 230/450\n",
            "5/5 - 0s - loss: 0.5012\n",
            "Epoch 231/450\n",
            "5/5 - 0s - loss: 0.4822\n",
            "Epoch 232/450\n",
            "5/5 - 0s - loss: 0.4634\n",
            "Epoch 233/450\n",
            "5/5 - 0s - loss: 0.4445\n",
            "Epoch 234/450\n",
            "5/5 - 0s - loss: 0.4260\n",
            "Epoch 235/450\n",
            "5/5 - 0s - loss: 0.4078\n",
            "Epoch 236/450\n",
            "5/5 - 0s - loss: 0.3893\n",
            "Epoch 237/450\n",
            "5/5 - 0s - loss: 0.3712\n",
            "Epoch 238/450\n",
            "5/5 - 0s - loss: 0.3533\n",
            "Epoch 239/450\n",
            "5/5 - 0s - loss: 0.3355\n",
            "Epoch 240/450\n",
            "5/5 - 0s - loss: 0.3181\n",
            "Epoch 241/450\n",
            "5/5 - 0s - loss: 0.3002\n",
            "Epoch 242/450\n",
            "5/5 - 0s - loss: 0.2828\n",
            "Epoch 243/450\n",
            "5/5 - 0s - loss: 0.2656\n",
            "Epoch 244/450\n",
            "5/5 - 0s - loss: 0.2485\n",
            "Epoch 245/450\n",
            "5/5 - 0s - loss: 0.2318\n",
            "Epoch 246/450\n",
            "5/5 - 0s - loss: 0.2149\n",
            "Epoch 247/450\n",
            "5/5 - 0s - loss: 0.1982\n",
            "Epoch 248/450\n",
            "5/5 - 0s - loss: 0.1819\n",
            "Epoch 249/450\n",
            "5/5 - 0s - loss: 0.1656\n",
            "Epoch 250/450\n",
            "5/5 - 0s - loss: 0.1493\n",
            "Epoch 251/450\n",
            "5/5 - 0s - loss: 0.1331\n",
            "Epoch 252/450\n",
            "5/5 - 0s - loss: 0.1176\n",
            "Epoch 253/450\n",
            "5/5 - 0s - loss: 0.1020\n",
            "Epoch 254/450\n",
            "5/5 - 0s - loss: 0.0879\n",
            "Epoch 255/450\n",
            "5/5 - 0s - loss: 0.0932\n",
            "Epoch 256/450\n",
            "5/5 - 0s - loss: 0.0938\n",
            "Epoch 257/450\n",
            "5/5 - 0s - loss: 0.0874\n",
            "Epoch 258/450\n",
            "5/5 - 0s - loss: 0.0884\n",
            "Epoch 259/450\n",
            "5/5 - 0s - loss: 0.0870\n",
            "Epoch 260/450\n",
            "5/5 - 0s - loss: 0.0860\n",
            "Epoch 261/450\n",
            "5/5 - 0s - loss: 0.0855\n",
            "Epoch 262/450\n",
            "5/5 - 0s - loss: 0.0851\n",
            "Epoch 263/450\n",
            "5/5 - 0s - loss: 0.0852\n",
            "Epoch 264/450\n",
            "5/5 - 0s - loss: 0.0853\n",
            "Epoch 265/450\n",
            "5/5 - 0s - loss: 0.0855\n",
            "Epoch 266/450\n",
            "5/5 - 0s - loss: 0.0848\n",
            "Epoch 267/450\n",
            "5/5 - 0s - loss: 0.0851\n",
            "Epoch 268/450\n",
            "5/5 - 0s - loss: 0.0849\n",
            "Epoch 269/450\n",
            "5/5 - 0s - loss: 0.0851\n",
            "Epoch 270/450\n",
            "5/5 - 0s - loss: 0.0850\n",
            "Epoch 271/450\n",
            "5/5 - 0s - loss: 0.0846\n",
            "Epoch 272/450\n",
            "5/5 - 0s - loss: 0.0851\n",
            "Epoch 273/450\n",
            "5/5 - 0s - loss: 0.0848\n",
            "Epoch 274/450\n",
            "5/5 - 0s - loss: 0.0851\n",
            "Epoch 275/450\n",
            "5/5 - 0s - loss: 0.0850\n",
            "Epoch 276/450\n",
            "5/5 - 0s - loss: 0.0851\n",
            "Epoch 277/450\n",
            "5/5 - 0s - loss: 0.0849\n",
            "Epoch 278/450\n",
            "5/5 - 0s - loss: 0.0848\n",
            "Epoch 279/450\n",
            "5/5 - 0s - loss: 0.0849\n",
            "Epoch 280/450\n",
            "5/5 - 0s - loss: 0.0849\n",
            "Epoch 281/450\n",
            "5/5 - 0s - loss: 0.0848\n",
            "Epoch 282/450\n",
            "5/5 - 0s - loss: 0.0850\n",
            "Epoch 283/450\n",
            "5/5 - 0s - loss: 0.0849\n",
            "Epoch 284/450\n",
            "5/5 - 0s - loss: 0.0847\n",
            "Epoch 285/450\n",
            "5/5 - 0s - loss: 0.0849\n",
            "Epoch 286/450\n",
            "5/5 - 0s - loss: 0.0846\n",
            "Epoch 287/450\n",
            "5/5 - 0s - loss: 0.0849\n",
            "Epoch 288/450\n",
            "5/5 - 0s - loss: 0.0851\n",
            "Epoch 289/450\n",
            "5/5 - 0s - loss: 0.0846\n",
            "Epoch 290/450\n",
            "5/5 - 0s - loss: 0.0849\n",
            "Epoch 291/450\n",
            "5/5 - 0s - loss: 0.0850\n",
            "Epoch 292/450\n",
            "5/5 - 0s - loss: 0.0847\n",
            "Epoch 293/450\n",
            "5/5 - 0s - loss: 0.0850\n",
            "Epoch 294/450\n",
            "5/5 - 0s - loss: 0.0848\n",
            "Epoch 295/450\n",
            "5/5 - 0s - loss: 0.0849\n",
            "Epoch 296/450\n",
            "5/5 - 0s - loss: 0.0849\n",
            "Epoch 297/450\n",
            "5/5 - 0s - loss: 0.0848\n",
            "Epoch 298/450\n",
            "5/5 - 0s - loss: 0.0851\n",
            "Epoch 299/450\n",
            "5/5 - 0s - loss: 0.0849\n",
            "Epoch 300/450\n",
            "5/5 - 0s - loss: 0.0845\n",
            "Epoch 301/450\n",
            "5/5 - 0s - loss: 0.0850\n",
            "Epoch 302/450\n",
            "5/5 - 0s - loss: 0.0849\n",
            "Epoch 303/450\n",
            "5/5 - 0s - loss: 0.0848\n",
            "Epoch 304/450\n",
            "5/5 - 0s - loss: 0.0849\n",
            "Epoch 305/450\n",
            "5/5 - 0s - loss: 0.0848\n",
            "Epoch 306/450\n",
            "5/5 - 0s - loss: 0.0852\n",
            "Epoch 307/450\n",
            "5/5 - 0s - loss: 0.0848\n",
            "Epoch 308/450\n",
            "5/5 - 0s - loss: 0.0847\n",
            "Epoch 309/450\n",
            "5/5 - 0s - loss: 0.0852\n",
            "Epoch 310/450\n",
            "5/5 - 0s - loss: 0.0849\n",
            "Epoch 311/450\n",
            "5/5 - 0s - loss: 0.0849\n",
            "Epoch 312/450\n",
            "5/5 - 0s - loss: 0.0847\n",
            "Epoch 313/450\n",
            "5/5 - 0s - loss: 0.0847\n",
            "Epoch 314/450\n",
            "5/5 - 0s - loss: 0.0850\n",
            "Epoch 315/450\n",
            "5/5 - 0s - loss: 0.0848\n",
            "Epoch 316/450\n",
            "5/5 - 0s - loss: 0.0849\n",
            "Epoch 317/450\n",
            "5/5 - 0s - loss: 0.0854\n",
            "Epoch 318/450\n",
            "5/5 - 0s - loss: 0.0849\n",
            "Epoch 319/450\n",
            "5/5 - 0s - loss: 0.0850\n",
            "Epoch 320/450\n",
            "5/5 - 0s - loss: 0.0846\n",
            "Epoch 321/450\n",
            "5/5 - 0s - loss: 0.0847\n",
            "Epoch 322/450\n",
            "5/5 - 0s - loss: 0.0848\n",
            "Epoch 323/450\n",
            "5/5 - 0s - loss: 0.0848\n",
            "Epoch 324/450\n",
            "5/5 - 0s - loss: 0.0848\n",
            "Epoch 325/450\n",
            "5/5 - 0s - loss: 0.0849\n",
            "Epoch 326/450\n",
            "5/5 - 0s - loss: 0.0847\n",
            "Epoch 327/450\n",
            "5/5 - 0s - loss: 0.0848\n",
            "Epoch 328/450\n",
            "5/5 - 0s - loss: 0.0849\n",
            "Epoch 329/450\n",
            "5/5 - 0s - loss: 0.0844\n",
            "Epoch 330/450\n",
            "5/5 - 0s - loss: 0.0850\n",
            "Epoch 331/450\n",
            "5/5 - 0s - loss: 0.0847\n",
            "Epoch 332/450\n",
            "5/5 - 0s - loss: 0.0849\n",
            "Epoch 333/450\n",
            "5/5 - 0s - loss: 0.0849\n",
            "Epoch 334/450\n",
            "5/5 - 0s - loss: 0.0848\n",
            "Epoch 335/450\n",
            "5/5 - 0s - loss: 0.0850\n",
            "Epoch 336/450\n",
            "5/5 - 0s - loss: 0.0850\n",
            "Epoch 337/450\n",
            "5/5 - 0s - loss: 0.0848\n",
            "Epoch 338/450\n",
            "5/5 - 0s - loss: 0.0850\n",
            "Epoch 339/450\n",
            "5/5 - 0s - loss: 0.0849\n",
            "Epoch 340/450\n",
            "5/5 - 0s - loss: 0.0846\n",
            "Epoch 341/450\n",
            "5/5 - 0s - loss: 0.0850\n",
            "Epoch 342/450\n",
            "5/5 - 0s - loss: 0.0852\n",
            "Epoch 343/450\n",
            "5/5 - 0s - loss: 0.0848\n",
            "Epoch 344/450\n",
            "5/5 - 0s - loss: 0.0847\n",
            "Epoch 345/450\n",
            "5/5 - 0s - loss: 0.0845\n",
            "Epoch 346/450\n",
            "5/5 - 0s - loss: 0.0848\n",
            "Epoch 347/450\n",
            "5/5 - 0s - loss: 0.0849\n",
            "Epoch 348/450\n",
            "5/5 - 0s - loss: 0.0849\n",
            "Epoch 349/450\n",
            "5/5 - 0s - loss: 0.0850\n",
            "Epoch 350/450\n",
            "5/5 - 0s - loss: 0.0846\n",
            "Epoch 351/450\n",
            "5/5 - 0s - loss: 0.0848\n",
            "Epoch 352/450\n",
            "5/5 - 0s - loss: 0.0847\n",
            "Epoch 353/450\n",
            "5/5 - 0s - loss: 0.0848\n",
            "Epoch 354/450\n",
            "5/5 - 0s - loss: 0.0847\n",
            "Epoch 355/450\n",
            "5/5 - 0s - loss: 0.0846\n",
            "Epoch 356/450\n",
            "5/5 - 0s - loss: 0.0847\n",
            "Epoch 357/450\n",
            "5/5 - 0s - loss: 0.0849\n",
            "Epoch 358/450\n",
            "5/5 - 0s - loss: 0.0850\n",
            "Epoch 359/450\n",
            "5/5 - 0s - loss: 0.0847\n",
            "Epoch 360/450\n",
            "5/5 - 0s - loss: 0.0850\n",
            "Epoch 361/450\n",
            "5/5 - 0s - loss: 0.0845\n",
            "Epoch 362/450\n",
            "5/5 - 0s - loss: 0.0850\n",
            "Epoch 363/450\n",
            "5/5 - 0s - loss: 0.0849\n",
            "Epoch 364/450\n",
            "5/5 - 0s - loss: 0.0849\n",
            "Epoch 365/450\n",
            "5/5 - 0s - loss: 0.0850\n",
            "Epoch 366/450\n",
            "5/5 - 0s - loss: 0.0848\n",
            "Epoch 367/450\n",
            "5/5 - 0s - loss: 0.0852\n",
            "Epoch 368/450\n",
            "5/5 - 0s - loss: 0.0846\n",
            "Epoch 369/450\n",
            "5/5 - 0s - loss: 0.0845\n",
            "Epoch 370/450\n",
            "5/5 - 0s - loss: 0.0847\n",
            "Epoch 371/450\n",
            "5/5 - 0s - loss: 0.0852\n",
            "Epoch 372/450\n",
            "5/5 - 0s - loss: 0.0848\n",
            "Epoch 373/450\n",
            "5/5 - 0s - loss: 0.0847\n",
            "Epoch 374/450\n",
            "5/5 - 0s - loss: 0.0848\n",
            "Epoch 375/450\n",
            "5/5 - 0s - loss: 0.0846\n",
            "Epoch 376/450\n",
            "5/5 - 0s - loss: 0.0847\n",
            "Epoch 377/450\n",
            "5/5 - 0s - loss: 0.0849\n",
            "Epoch 378/450\n",
            "5/5 - 0s - loss: 0.0850\n",
            "Epoch 379/450\n",
            "5/5 - 0s - loss: 0.0845\n",
            "Epoch 380/450\n",
            "5/5 - 0s - loss: 0.0846\n",
            "Epoch 381/450\n",
            "5/5 - 0s - loss: 0.0851\n",
            "Epoch 382/450\n",
            "5/5 - 0s - loss: 0.0850\n",
            "Epoch 383/450\n",
            "5/5 - 0s - loss: 0.0846\n",
            "Epoch 384/450\n",
            "5/5 - 0s - loss: 0.0850\n",
            "Epoch 385/450\n",
            "5/5 - 0s - loss: 0.0849\n",
            "Epoch 386/450\n",
            "5/5 - 0s - loss: 0.0852\n",
            "Epoch 387/450\n",
            "5/5 - 0s - loss: 0.0847\n",
            "Epoch 388/450\n",
            "5/5 - 0s - loss: 0.0848\n",
            "Epoch 389/450\n",
            "5/5 - 0s - loss: 0.0849\n",
            "Epoch 390/450\n",
            "5/5 - 0s - loss: 0.0846\n",
            "Epoch 391/450\n",
            "5/5 - 0s - loss: 0.0848\n",
            "Epoch 392/450\n",
            "5/5 - 0s - loss: 0.0851\n",
            "Epoch 393/450\n",
            "5/5 - 0s - loss: 0.0846\n",
            "Epoch 394/450\n",
            "5/5 - 0s - loss: 0.0848\n",
            "Epoch 395/450\n",
            "5/5 - 0s - loss: 0.0847\n",
            "Epoch 396/450\n",
            "5/5 - 0s - loss: 0.0846\n",
            "Epoch 397/450\n",
            "5/5 - 0s - loss: 0.0851\n",
            "Epoch 398/450\n",
            "5/5 - 0s - loss: 0.0846\n",
            "Epoch 399/450\n",
            "5/5 - 0s - loss: 0.0848\n",
            "Epoch 400/450\n",
            "5/5 - 0s - loss: 0.0845\n",
            "Epoch 401/450\n",
            "5/5 - 0s - loss: 0.0847\n",
            "Epoch 402/450\n",
            "5/5 - 0s - loss: 0.0847\n",
            "Epoch 403/450\n",
            "5/5 - 0s - loss: 0.0846\n",
            "Epoch 404/450\n",
            "5/5 - 0s - loss: 0.0847\n",
            "Epoch 405/450\n",
            "5/5 - 0s - loss: 0.0847\n",
            "Epoch 406/450\n",
            "5/5 - 0s - loss: 0.0846\n",
            "Epoch 407/450\n",
            "5/5 - 0s - loss: 0.0844\n",
            "Epoch 408/450\n",
            "5/5 - 0s - loss: 0.0854\n",
            "Epoch 409/450\n",
            "5/5 - 0s - loss: 0.0845\n",
            "Epoch 410/450\n",
            "5/5 - 0s - loss: 0.0851\n",
            "Epoch 411/450\n",
            "5/5 - 0s - loss: 0.0851\n",
            "Epoch 412/450\n",
            "5/5 - 0s - loss: 0.0844\n",
            "Epoch 413/450\n",
            "5/5 - 0s - loss: 0.0846\n",
            "Epoch 414/450\n",
            "5/5 - 0s - loss: 0.0849\n",
            "Epoch 415/450\n",
            "5/5 - 0s - loss: 0.0848\n",
            "Epoch 416/450\n",
            "5/5 - 0s - loss: 0.0847\n",
            "Epoch 417/450\n",
            "5/5 - 0s - loss: 0.0851\n",
            "Epoch 418/450\n",
            "5/5 - 0s - loss: 0.0850\n",
            "Epoch 419/450\n",
            "5/5 - 0s - loss: 0.0848\n",
            "Epoch 420/450\n",
            "5/5 - 0s - loss: 0.0846\n",
            "Epoch 421/450\n",
            "5/5 - 0s - loss: 0.0848\n",
            "Epoch 422/450\n",
            "5/5 - 0s - loss: 0.0847\n",
            "Epoch 423/450\n",
            "5/5 - 0s - loss: 0.0846\n",
            "Epoch 424/450\n",
            "5/5 - 0s - loss: 0.0851\n",
            "Epoch 425/450\n",
            "5/5 - 0s - loss: 0.0845\n",
            "Epoch 426/450\n",
            "5/5 - 0s - loss: 0.0849\n",
            "Epoch 427/450\n",
            "5/5 - 0s - loss: 0.0849\n",
            "Epoch 428/450\n",
            "5/5 - 0s - loss: 0.0849\n",
            "Epoch 429/450\n",
            "5/5 - 0s - loss: 0.0849\n",
            "Epoch 430/450\n",
            "5/5 - 0s - loss: 0.0846\n",
            "Epoch 431/450\n",
            "5/5 - 0s - loss: 0.0848\n",
            "Epoch 432/450\n",
            "5/5 - 0s - loss: 0.0849\n",
            "Epoch 433/450\n",
            "5/5 - 0s - loss: 0.0849\n",
            "Epoch 434/450\n",
            "5/5 - 0s - loss: 0.0851\n",
            "Epoch 435/450\n",
            "5/5 - 0s - loss: 0.0847\n",
            "Epoch 436/450\n",
            "5/5 - 0s - loss: 0.0852\n",
            "Epoch 437/450\n",
            "5/5 - 0s - loss: 0.0850\n",
            "Epoch 438/450\n",
            "5/5 - 0s - loss: 0.0849\n",
            "Epoch 439/450\n",
            "5/5 - 0s - loss: 0.0847\n",
            "Epoch 440/450\n",
            "5/5 - 0s - loss: 0.0850\n",
            "Epoch 441/450\n",
            "5/5 - 0s - loss: 0.0846\n",
            "Epoch 442/450\n",
            "5/5 - 0s - loss: 0.0849\n",
            "Epoch 443/450\n",
            "5/5 - 0s - loss: 0.0850\n",
            "Epoch 444/450\n",
            "5/5 - 0s - loss: 0.0844\n",
            "Epoch 445/450\n",
            "5/5 - 0s - loss: 0.0849\n",
            "Epoch 446/450\n",
            "5/5 - 0s - loss: 0.0849\n",
            "Epoch 447/450\n",
            "5/5 - 0s - loss: 0.0847\n",
            "Epoch 448/450\n",
            "5/5 - 0s - loss: 0.0848\n",
            "Epoch 449/450\n",
            "5/5 - 0s - loss: 0.0843\n",
            "Epoch 450/450\n",
            "5/5 - 0s - loss: 0.0846\n"
          ],
          "name": "stdout"
        },
        {
          "output_type": "execute_result",
          "data": {
            "text/plain": [
              "<tensorflow.python.keras.callbacks.History at 0x7f32df80ada0>"
            ]
          },
          "metadata": {
            "tags": []
          },
          "execution_count": 124
        }
      ]
    },
    {
      "cell_type": "code",
      "metadata": {
        "id": "bZqzliQvn5fs",
        "colab_type": "code",
        "colab": {}
      },
      "source": [
        "trainPredict = model.predict(train_x)\n",
        "testPredict = model.predict(test_x)"
      ],
      "execution_count": 125,
      "outputs": []
    },
    {
      "cell_type": "code",
      "metadata": {
        "id": "5rLaV2_d9Y10",
        "colab_type": "code",
        "colab": {
          "base_uri": "https://localhost:8080/",
          "height": 34
        },
        "outputId": "bf9a9b7b-0d51-477f-d5e3-597b057d4133"
      },
      "source": [
        "len(np.unique(testPredict))"
      ],
      "execution_count": 126,
      "outputs": [
        {
          "output_type": "execute_result",
          "data": {
            "text/plain": [
              "753"
            ]
          },
          "metadata": {
            "tags": []
          },
          "execution_count": 126
        }
      ]
    },
    {
      "cell_type": "code",
      "metadata": {
        "id": "_nvQAAUytghp",
        "colab_type": "code",
        "colab": {
          "base_uri": "https://localhost:8080/",
          "height": 34
        },
        "outputId": "b7720e71-1b6a-4d48-8117-01d79874ef67"
      },
      "source": [
        "trainPredict = np.reshape(trainPredict,(trainPredict.shape[0],1))\n",
        "testPredict = np.reshape(testPredict,(testPredict.shape[0],1))\n",
        "trainPredict.shape"
      ],
      "execution_count": 127,
      "outputs": [
        {
          "output_type": "execute_result",
          "data": {
            "text/plain": [
              "(4315, 1)"
            ]
          },
          "metadata": {
            "tags": []
          },
          "execution_count": 127
        }
      ]
    },
    {
      "cell_type": "code",
      "metadata": {
        "id": "5hYzbNeMrtKu",
        "colab_type": "code",
        "colab": {
          "base_uri": "https://localhost:8080/",
          "height": 51
        },
        "outputId": "82aaf413-e5cb-489c-f5cb-59506cf976d5"
      },
      "source": [
        "import math\n",
        "trainPredict = scaler.inverse_transform(trainPredict)\n",
        "trainY = scaler.inverse_transform([train_y])\n",
        "testPredict = scaler.inverse_transform(testPredict)\n",
        "testY = scaler.inverse_transform([test_y])\n",
        "# calculate root mean squared error\n",
        "trainScore = math.sqrt(mean_squared_error(trainY[0], trainPredict[:,0]))\n",
        "print('Train Score: %.2f RMSE' % (trainScore))\n",
        "testScore = math.sqrt(mean_squared_error(testY[0], testPredict[:,0]))\n",
        "print('Test Score: %.2f RMSE' % (testScore))"
      ],
      "execution_count": 128,
      "outputs": [
        {
          "output_type": "stream",
          "text": [
            "Train Score: 2.57 RMSE\n",
            "Test Score: 2.55 RMSE\n"
          ],
          "name": "stdout"
        }
      ]
    },
    {
      "cell_type": "code",
      "metadata": {
        "id": "ZzBs-fmETPYS",
        "colab_type": "code",
        "colab": {
          "base_uri": "https://localhost:8080/",
          "height": 282
        },
        "outputId": "11e72da0-60b4-4dc4-9c6f-bee4609ec7e4"
      },
      "source": [
        "train_plot = [(i,j) for i,j in zip(train_y[:50],trainPredict[:50])]\n",
        "\n",
        "plt.plot(train_plot)\n",
        "plt.figure(figsize=(20,10))\n",
        "plt.show()"
      ],
      "execution_count": 50,
      "outputs": [
        {
          "output_type": "display_data",
          "data": {
            "image/png": "[encoded data removed]",
            "text/plain": [
              "<Figure size 432x288 with 1 Axes>"
            ]
          },
          "metadata": {
            "tags": [],
            "needs_background": "light"
          }
        },
        {
          "output_type": "display_data",
          "data": {
            "text/plain": [
              "<Figure size 1440x720 with 0 Axes>"
            ]
          },
          "metadata": {
            "tags": []
          }
        }
      ]
    },
    {
      "cell_type": "code",
      "metadata": {
        "id": "luYLuIygcJ3z",
        "colab_type": "code",
        "colab": {
          "base_uri": "https://localhost:8080/",
          "height": 265
        },
        "outputId": "032f45ec-adde-4223-a7ca-3fec327c6640"
      },
      "source": [
        "train_plot = [(i,j) for i,j in zip(test_y[:50],testPredict[:50])]\n",
        "\n",
        "plt.plot(train_plot)\n",
        "plt.show()"
      ],
      "execution_count": 51,
      "outputs": [
        {
          "output_type": "display_data",
          "data": {
            "image/png": "[encoded data removed]",
            "text/plain": [
              "<Figure size 432x288 with 1 Axes>"
            ]
          },
          "metadata": {
            "tags": [],
            "needs_background": "light"
          }
        }
      ]
    },
    {
      "cell_type": "code",
      "metadata": {
        "id": "eQo_ednj8fTk",
        "colab_type": "code",
        "colab": {
          "base_uri": "https://localhost:8080/",
          "height": 34
        },
        "outputId": "4f06392e-bae8-4cb9-8c47-a813d33b54ad"
      },
      "source": [
        "test_x.shape"
      ],
      "execution_count": null,
      "outputs": [
        {
          "output_type": "execute_result",
          "data": {
            "text/plain": [
              "(369, 1, 10)"
            ]
          },
          "metadata": {
            "tags": []
          },
          "execution_count": 67
        }
      ]
    },
    {
      "cell_type": "code",
      "metadata": {
        "id": "2Kw1qZm1r52t",
        "colab_type": "code",
        "colab": {}
      },
      "source": [
        "val_x = [4,6,3,8,2]\n",
        "val_x = val_x[::-1]\n",
        "val_x = np.array(val_x)/10\n",
        "val_x = np.reshape(val_x,(1,1,5))"
      ],
      "execution_count": null,
      "outputs": []
    },
    {
      "cell_type": "code",
      "metadata": {
        "id": "rLfzJlZ9JERe",
        "colab_type": "code",
        "colab": {
          "base_uri": "https://localhost:8080/",
          "height": 34
        },
        "outputId": "06b3718f-95ff-4ad9-cce2-9321112b4cbf"
      },
      "source": [
        "val = np.squeeze(np.round(model.predict(val_x)*10))\n",
        "print(\"red\" if val%2==0 else \"green\")"
      ],
      "execution_count": null,
      "outputs": [
        {
          "output_type": "stream",
          "text": [
            "green\n"
          ],
          "name": "stdout"
        }
      ]
    },
    {
      "cell_type": "code",
      "metadata": {
        "id": "9OOY7yjkbyi6",
        "colab_type": "code",
        "colab": {
          "base_uri": "https://localhost:8080/",
          "height": 34
        },
        "outputId": "989e950f-792a-4dd3-9022-2ed77ae980b2"
      },
      "source": [
        "model.predict(val_x)"
      ],
      "execution_count": null,
      "outputs": [
        {
          "output_type": "execute_result",
          "data": {
            "text/plain": [
              "array([[0.47765648]], dtype=float32)"
            ]
          },
          "metadata": {
            "tags": []
          },
          "execution_count": 753
        }
      ]
    },
    {
      "cell_type": "code",
      "metadata": {
        "id": "7YCYXZvTh27n",
        "colab_type": "code",
        "colab": {}
      },
      "source": [
        "val_x = [9,4,9,9,4,1,7,7,4,2]\n",
        "val_x = np.array(val_x)/10\n",
        "val_x = np.reshape(val_x,(1,1,10))"
      ],
      "execution_count": null,
      "outputs": []
    },
    {
      "cell_type": "code",
      "metadata": {
        "id": "VNXvdHuaotCF",
        "colab_type": "code",
        "colab": {
          "base_uri": "https://localhost:8080/",
          "height": 51
        },
        "outputId": "0fa3a263-1f22-4deb-eb16-b89f40a75987"
      },
      "source": [
        "np.unique(train)"
      ],
      "execution_count": 49,
      "outputs": [
        {
          "output_type": "execute_result",
          "data": {
            "text/plain": [
              "array([0.        , 0.11111111, 0.22222222, 0.33333333, 0.44444444,\n",
              "       0.55555556, 0.66666667, 0.77777778, 0.88888889, 1.        ])"
            ]
          },
          "metadata": {
            "tags": []
          },
          "execution_count": 49
        }
      ]
    },
    {
      "cell_type": "code",
      "metadata": {
        "id": "TL6aPTgRT8gK",
        "colab_type": "code",
        "colab": {}
      },
      "source": [
        ""
      ],
      "execution_count": null,
      "outputs": []
    }
  ]
}