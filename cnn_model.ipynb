{
  "nbformat": 4,
  "nbformat_minor": 0,
  "metadata": {
    "colab": {
      "name": "cnn_model.ipynb",
      "provenance": [],
      "collapsed_sections": []
    },
    "kernelspec": {
      "name": "python3",
      "display_name": "Python 3"
    }
  },
  "cells": [
    {
      "cell_type": "code",
      "metadata": {
        "id": "sbdg3vTf_hdr",
        "colab_type": "code",
        "colab": {}
      },
      "source": [
        "import tensorflow as tf\n",
        "import pandas as pd\n",
        "import numpy as np\n",
        "import keras\n",
        "from io import BytesIO\n",
        "from keras.models import Sequential\n",
        "from keras.layers import Conv1D, Dense,Dropout,Activation,MaxPooling1D,Flatten\n",
        "from keras.regularizers import L1L2\n",
        "from keras.callbacks import EarlyStopping\n",
        "import matplotlib.pyplot as plt\n",
        "import math\n",
        "from google.colab import files\n",
        "from sklearn.preprocessing import MinMaxScaler\n",
        "from sklearn.metrics import mean_squared_error"
      ],
      "execution_count": 231,
      "outputs": []
    },
    {
      "cell_type": "code",
      "metadata": {
        "id": "WW5xSXbm_kHb",
        "colab_type": "code",
        "colab": {}
      },
      "source": [
        "def create_lookBack(data,look_back = 3):\n",
        "  val_x = []\n",
        "  val_y = []\n",
        "  for i in range(len(data)-look_back-1):\n",
        "    val_x.append(data[i:(i+look_back),0])\n",
        "    val_y.append(data[i+look_back,0])\n",
        "  return np.array(val_x),np.array(val_y)  "
      ],
      "execution_count": 205,
      "outputs": []
    },
    {
      "cell_type": "code",
      "metadata": {
        "id": "tSbBg1p5_lpg",
        "colab_type": "code",
        "colab": {}
      },
      "source": [
        "def train_test_split(percent,data):\n",
        "  split = int(percent*len(data))\n",
        "  train = data[:split]\n",
        "  test = data[split:]\n",
        "  print(len(train),len(test),data.shape)\n",
        "  return train,test "
      ],
      "execution_count": 206,
      "outputs": []
    },
    {
      "cell_type": "code",
      "metadata": {
        "id": "2pBx9rta_ngQ",
        "colab_type": "code",
        "colab": {}
      },
      "source": [
        "def one_hot_encoding(data,encoding):\n",
        "  label_data = []\n",
        "  for value in data:\n",
        "    one_hot = [0 for _ in range(encoding)]\n",
        "    one_hot[int(value*10)] = 1\n",
        "    label_data.append(one_hot)\n",
        "  return np.array(label_data)  "
      ],
      "execution_count": 207,
      "outputs": []
    },
    {
      "cell_type": "code",
      "metadata": {
        "id": "iAneIlkf_pZw",
        "colab_type": "code",
        "colab": {}
      },
      "source": [
        "def load_data(df):\n",
        "  data = df['Num'].values\n",
        "  data = data[::-1]\n",
        "  data = np.reshape(data,(data.shape[0],1))\n",
        "  data = data/10\n",
        "  return data"
      ],
      "execution_count": 208,
      "outputs": []
    },
    {
      "cell_type": "code",
      "metadata": {
        "id": "KHreCkkJPdnN",
        "colab_type": "code",
        "colab": {}
      },
      "source": [
        "def plot_results(actual_data,predicted_data,till):\n",
        "  compare_plot = [(i,j) for i,j in zip(actual_data[0][:till],predicted_data[:till])]\n",
        "  plt.plot(compare_plot)\n",
        "  plt.figure(figsize=(20,10))\n",
        "  plt.show()"
      ],
      "execution_count": 209,
      "outputs": []
    },
    {
      "cell_type": "code",
      "metadata": {
        "id": "v-m6x0Ay_-YA",
        "colab_type": "code",
        "colab": {
          "resources": {
            "http://localhost:8080/nbextensions/google.colab/files.js": {
              "data": "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",
              "ok": true,
              "headers": [
                [
                  "content-type",
                  "application/javascript"
                ]
              ],
              "status": 200,
              "status_text": ""
            }
          },
          "base_uri": "https://localhost:8080/",
          "height": 72
        },
        "outputId": "db498ca5-de64-4e5e-fc2f-03c3d19b113c"
      },
      "source": [
        "uploaded = files.upload()"
      ],
      "execution_count": 210,
      "outputs": [
        {
          "output_type": "display_data",
          "data": {
            "text/html": [
              "\n",
              "     <input type=\"file\" id=\"files-5ef68c1b-92cf-4e3a-8e67-af6b94c30916\" name=\"files[]\" multiple disabled\n",
              "        style=\"border:none\" />\n",
              "     <output id=\"result-5ef68c1b-92cf-4e3a-8e67-af6b94c30916\">\n",
              "      Upload widget is only available when the cell has been executed in the\n",
              "      current browser session. Please rerun this cell to enable.\n",
              "      </output>\n",
              "      <script src=\"/nbextensions/google.colab/files.js\"></script> "
            ],
            "text/plain": [
              "<IPython.core.display.HTML object>"
            ]
          },
          "metadata": {
            "tags": []
          }
        },
        {
          "output_type": "stream",
          "text": [
            "Saving bonum.csv to bonum (1).csv\n"
          ],
          "name": "stdout"
        }
      ]
    },
    {
      "cell_type": "code",
      "metadata": {
        "id": "_eWpvH9DACFf",
        "colab_type": "code",
        "colab": {
          "base_uri": "https://localhost:8080/",
          "height": 187
        },
        "outputId": "1d6d2252-aade-4845-8c59-8335d4f3c857"
      },
      "source": [
        "df = pd.read_csv(BytesIO(uploaded['bonum.csv']))\n",
        "df.info()"
      ],
      "execution_count": 354,
      "outputs": [
        {
          "output_type": "stream",
          "text": [
            "<class 'pandas.core.frame.DataFrame'>\n",
            "RangeIndex: 5090 entries, 0 to 5089\n",
            "Data columns (total 3 columns):\n",
            " #   Column  Non-Null Count  Dtype\n",
            "---  ------  --------------  -----\n",
            " 0   Period  5090 non-null   int64\n",
            " 1   Price   5090 non-null   int64\n",
            " 2   Num     5090 non-null   int64\n",
            "dtypes: int64(3)\n",
            "memory usage: 119.4 KB\n"
          ],
          "name": "stdout"
        }
      ]
    },
    {
      "cell_type": "code",
      "metadata": {
        "id": "SL-Tq-kcOJ14",
        "colab_type": "code",
        "colab": {}
      },
      "source": [
        "scaler = MinMaxScaler(feature_range=(0, 1))\n",
        "dataset = scaler.fit_transform(data)"
      ],
      "execution_count": 355,
      "outputs": []
    },
    {
      "cell_type": "code",
      "metadata": {
        "id": "8SiLmIJIAHT3",
        "colab_type": "code",
        "colab": {
          "base_uri": "https://localhost:8080/",
          "height": 34
        },
        "outputId": "13dfa3af-48a9-4918-be7e-12fe347ad02b"
      },
      "source": [
        "data = load_data(df)\n",
        "train,test = train_test_split(0.85,data)"
      ],
      "execution_count": 356,
      "outputs": [
        {
          "output_type": "stream",
          "text": [
            "4326 764 (5090, 1)\n"
          ],
          "name": "stdout"
        }
      ]
    },
    {
      "cell_type": "code",
      "metadata": {
        "id": "rWxXAdDnAlRA",
        "colab_type": "code",
        "colab": {}
      },
      "source": [
        "look_back = 10\n",
        "train_x,train_y = create_lookBack(train,look_back)\n",
        "test_x,test_y = create_lookBack(test,look_back)\n",
        "train_x = np.reshape(train_x, (train_x.shape[0],train_x.shape[1],1))\n",
        "test_x = np.reshape(test_x, (test_x.shape[0], test_x.shape[1],1))\n"
      ],
      "execution_count": 357,
      "outputs": []
    },
    {
      "cell_type": "code",
      "metadata": {
        "id": "iqrbArL9At8F",
        "colab_type": "code",
        "colab": {}
      },
      "source": [
        "model = Sequential()\n",
        "model.add(Conv1D(filters=64, kernel_size=2, activation='relu', input_shape=(look_back, 1)))\n",
        "model.add(MaxPooling1D(pool_size=2))\n",
        "model.add(Flatten())\n",
        "model.add(Dense(128, activation='relu'))\n",
        "model.add(Dropout(0.3))\n",
        "model.add(Dense(1))\n",
        "model.compile(optimizer='adam', loss='mse')"
      ],
      "execution_count": 11,
      "outputs": []
    },
    {
      "cell_type": "code",
      "metadata": {
        "id": "9iOFHJPdE7hb",
        "colab_type": "code",
        "colab": {}
      },
      "source": [
        "reg = L1L2(l1=0.001, l2=0.001)\n",
        "model1 = Sequential()\n",
        "model1.add(Conv1D(filters=64,padding=\"same\", kernel_size=2,activation='relu', input_shape=(look_back, 1)))\n",
        "model1.add(Conv1D(filters=64,padding=\"same\", kernel_size=2, activation='relu'))\n",
        "model1.add(Dropout(0.5))\n",
        "model1.add(MaxPooling1D(pool_size=2))\n",
        "model1.add(Conv1D(filters=128, kernel_size=2,padding=\"same\", activation='relu'))\n",
        "model1.add(Conv1D(filters=128, kernel_size=2,padding=\"same\", activation='relu'))\n",
        "model1.add(Dropout(0.5))\n",
        "model1.add(MaxPooling1D(pool_size=2))\n",
        "model1.add(Flatten())\n",
        "model1.add(Dense(128, activation='relu'))\n",
        "model1.add(Dropout(0.4))\n",
        "model1.add(Dense(64, activation='relu'))\n",
        "model1.add(Dense(1))\n",
        "model1.compile(optimizer='adam', loss='mse')"
      ],
      "execution_count": 359,
      "outputs": []
    },
    {
      "cell_type": "code",
      "metadata": {
        "id": "eC_1EGX5Dz6O",
        "colab_type": "code",
        "colab": {
          "base_uri": "https://localhost:8080/",
          "height": 1000
        },
        "outputId": "88ac5f0c-27a2-4b4d-a139-d2e0b1cd5499"
      },
      "source": [
        "es = EarlyStopping(monitor='val_loss', mode='min', verbose=1)\n",
        "model1.fit(train_x, train_y, epochs=200,validation_data=(test_x,test_y),batch_size=1024, verbose=2)"
      ],
      "execution_count": 360,
      "outputs": [
        {
          "output_type": "stream",
          "text": [
            "Epoch 1/200\n",
            "5/5 - 1s - loss: 0.1706 - val_loss: 0.0992\n",
            "Epoch 2/200\n",
            "5/5 - 0s - loss: 0.1045 - val_loss: 0.1546\n",
            "Epoch 3/200\n",
            "5/5 - 0s - loss: 0.1006 - val_loss: 0.1132\n",
            "Epoch 4/200\n",
            "5/5 - 0s - loss: 0.0981 - val_loss: 0.1201\n",
            "Epoch 5/200\n",
            "5/5 - 0s - loss: 0.0938 - val_loss: 0.1273\n",
            "Epoch 6/200\n",
            "5/5 - 0s - loss: 0.0911 - val_loss: 0.1061\n",
            "Epoch 7/200\n",
            "5/5 - 0s - loss: 0.0912 - val_loss: 0.1152\n",
            "Epoch 8/200\n",
            "5/5 - 0s - loss: 0.0889 - val_loss: 0.1092\n",
            "Epoch 9/200\n",
            "5/5 - 0s - loss: 0.0877 - val_loss: 0.1011\n",
            "Epoch 10/200\n",
            "5/5 - 0s - loss: 0.0877 - val_loss: 0.1080\n",
            "Epoch 11/200\n",
            "5/5 - 0s - loss: 0.0885 - val_loss: 0.1005\n",
            "Epoch 12/200\n",
            "5/5 - 0s - loss: 0.0876 - val_loss: 0.0983\n",
            "Epoch 13/200\n",
            "5/5 - 0s - loss: 0.0867 - val_loss: 0.0984\n",
            "Epoch 14/200\n",
            "5/5 - 0s - loss: 0.0863 - val_loss: 0.0954\n",
            "Epoch 15/200\n",
            "5/5 - 0s - loss: 0.0857 - val_loss: 0.0961\n",
            "Epoch 16/200\n",
            "5/5 - 0s - loss: 0.0855 - val_loss: 0.0926\n",
            "Epoch 17/200\n",
            "5/5 - 0s - loss: 0.0858 - val_loss: 0.0956\n",
            "Epoch 18/200\n",
            "5/5 - 0s - loss: 0.0862 - val_loss: 0.0927\n",
            "Epoch 19/200\n",
            "5/5 - 0s - loss: 0.0851 - val_loss: 0.0906\n",
            "Epoch 20/200\n",
            "5/5 - 0s - loss: 0.0849 - val_loss: 0.0913\n",
            "Epoch 21/200\n",
            "5/5 - 0s - loss: 0.0856 - val_loss: 0.0912\n",
            "Epoch 22/200\n",
            "5/5 - 0s - loss: 0.0851 - val_loss: 0.0893\n",
            "Epoch 23/200\n",
            "5/5 - 0s - loss: 0.0846 - val_loss: 0.0902\n",
            "Epoch 24/200\n",
            "5/5 - 0s - loss: 0.0853 - val_loss: 0.0892\n",
            "Epoch 25/200\n",
            "5/5 - 0s - loss: 0.0843 - val_loss: 0.0885\n",
            "Epoch 26/200\n",
            "5/5 - 0s - loss: 0.0851 - val_loss: 0.0898\n",
            "Epoch 27/200\n",
            "5/5 - 0s - loss: 0.0837 - val_loss: 0.0848\n",
            "Epoch 28/200\n",
            "5/5 - 0s - loss: 0.0847 - val_loss: 0.0894\n",
            "Epoch 29/200\n",
            "5/5 - 0s - loss: 0.0843 - val_loss: 0.0852\n",
            "Epoch 30/200\n",
            "5/5 - 0s - loss: 0.0845 - val_loss: 0.0853\n",
            "Epoch 31/200\n",
            "5/5 - 0s - loss: 0.0844 - val_loss: 0.0867\n",
            "Epoch 32/200\n",
            "5/5 - 0s - loss: 0.0841 - val_loss: 0.0838\n",
            "Epoch 33/200\n",
            "5/5 - 0s - loss: 0.0850 - val_loss: 0.0847\n",
            "Epoch 34/200\n",
            "5/5 - 0s - loss: 0.0843 - val_loss: 0.0840\n",
            "Epoch 35/200\n",
            "5/5 - 0s - loss: 0.0833 - val_loss: 0.0844\n",
            "Epoch 36/200\n",
            "5/5 - 0s - loss: 0.0839 - val_loss: 0.0836\n",
            "Epoch 37/200\n",
            "5/5 - 0s - loss: 0.0838 - val_loss: 0.0836\n",
            "Epoch 38/200\n",
            "5/5 - 0s - loss: 0.0838 - val_loss: 0.0822\n",
            "Epoch 39/200\n",
            "5/5 - 0s - loss: 0.0834 - val_loss: 0.0826\n",
            "Epoch 40/200\n",
            "5/5 - 0s - loss: 0.0834 - val_loss: 0.0841\n",
            "Epoch 41/200\n",
            "5/5 - 0s - loss: 0.0833 - val_loss: 0.0814\n",
            "Epoch 42/200\n",
            "5/5 - 0s - loss: 0.0844 - val_loss: 0.0821\n",
            "Epoch 43/200\n",
            "5/5 - 0s - loss: 0.0833 - val_loss: 0.0821\n",
            "Epoch 44/200\n",
            "5/5 - 0s - loss: 0.0837 - val_loss: 0.0822\n",
            "Epoch 45/200\n",
            "5/5 - 0s - loss: 0.0834 - val_loss: 0.0814\n",
            "Epoch 46/200\n",
            "5/5 - 0s - loss: 0.0837 - val_loss: 0.0816\n",
            "Epoch 47/200\n",
            "5/5 - 0s - loss: 0.0837 - val_loss: 0.0824\n",
            "Epoch 48/200\n",
            "5/5 - 0s - loss: 0.0836 - val_loss: 0.0812\n",
            "Epoch 49/200\n",
            "5/5 - 0s - loss: 0.0839 - val_loss: 0.0813\n",
            "Epoch 50/200\n",
            "5/5 - 0s - loss: 0.0833 - val_loss: 0.0819\n",
            "Epoch 51/200\n",
            "5/5 - 0s - loss: 0.0840 - val_loss: 0.0804\n",
            "Epoch 52/200\n",
            "5/5 - 0s - loss: 0.0838 - val_loss: 0.0811\n",
            "Epoch 53/200\n",
            "5/5 - 0s - loss: 0.0835 - val_loss: 0.0806\n",
            "Epoch 54/200\n",
            "5/5 - 0s - loss: 0.0832 - val_loss: 0.0805\n",
            "Epoch 55/200\n",
            "5/5 - 0s - loss: 0.0834 - val_loss: 0.0808\n",
            "Epoch 56/200\n",
            "5/5 - 0s - loss: 0.0831 - val_loss: 0.0804\n",
            "Epoch 57/200\n",
            "5/5 - 0s - loss: 0.0832 - val_loss: 0.0806\n",
            "Epoch 58/200\n",
            "5/5 - 0s - loss: 0.0833 - val_loss: 0.0812\n",
            "Epoch 59/200\n",
            "5/5 - 0s - loss: 0.0832 - val_loss: 0.0807\n",
            "Epoch 60/200\n",
            "5/5 - 0s - loss: 0.0834 - val_loss: 0.0803\n",
            "Epoch 61/200\n",
            "5/5 - 0s - loss: 0.0830 - val_loss: 0.0805\n",
            "Epoch 62/200\n",
            "5/5 - 0s - loss: 0.0830 - val_loss: 0.0805\n",
            "Epoch 63/200\n",
            "5/5 - 0s - loss: 0.0832 - val_loss: 0.0806\n",
            "Epoch 64/200\n",
            "5/5 - 0s - loss: 0.0832 - val_loss: 0.0804\n",
            "Epoch 65/200\n",
            "5/5 - 0s - loss: 0.0833 - val_loss: 0.0804\n",
            "Epoch 66/200\n",
            "5/5 - 0s - loss: 0.0829 - val_loss: 0.0803\n",
            "Epoch 67/200\n",
            "5/5 - 0s - loss: 0.0828 - val_loss: 0.0806\n",
            "Epoch 68/200\n",
            "5/5 - 0s - loss: 0.0830 - val_loss: 0.0800\n",
            "Epoch 69/200\n",
            "5/5 - 0s - loss: 0.0828 - val_loss: 0.0803\n",
            "Epoch 70/200\n",
            "5/5 - 0s - loss: 0.0830 - val_loss: 0.0807\n",
            "Epoch 71/200\n",
            "5/5 - 0s - loss: 0.0830 - val_loss: 0.0800\n",
            "Epoch 72/200\n",
            "5/5 - 0s - loss: 0.0832 - val_loss: 0.0799\n",
            "Epoch 73/200\n",
            "5/5 - 0s - loss: 0.0829 - val_loss: 0.0801\n",
            "Epoch 74/200\n",
            "5/5 - 0s - loss: 0.0831 - val_loss: 0.0801\n",
            "Epoch 75/200\n",
            "5/5 - 0s - loss: 0.0831 - val_loss: 0.0801\n",
            "Epoch 76/200\n",
            "5/5 - 0s - loss: 0.0827 - val_loss: 0.0800\n",
            "Epoch 77/200\n",
            "5/5 - 0s - loss: 0.0828 - val_loss: 0.0800\n",
            "Epoch 78/200\n",
            "5/5 - 0s - loss: 0.0826 - val_loss: 0.0801\n",
            "Epoch 79/200\n",
            "5/5 - 0s - loss: 0.0834 - val_loss: 0.0801\n",
            "Epoch 80/200\n",
            "5/5 - 0s - loss: 0.0831 - val_loss: 0.0805\n",
            "Epoch 81/200\n",
            "5/5 - 0s - loss: 0.0829 - val_loss: 0.0798\n",
            "Epoch 82/200\n",
            "5/5 - 0s - loss: 0.0830 - val_loss: 0.0798\n",
            "Epoch 83/200\n",
            "5/5 - 0s - loss: 0.0829 - val_loss: 0.0804\n",
            "Epoch 84/200\n",
            "5/5 - 0s - loss: 0.0833 - val_loss: 0.0801\n",
            "Epoch 85/200\n",
            "5/5 - 0s - loss: 0.0829 - val_loss: 0.0798\n",
            "Epoch 86/200\n",
            "5/5 - 0s - loss: 0.0830 - val_loss: 0.0799\n",
            "Epoch 87/200\n",
            "5/5 - 0s - loss: 0.0827 - val_loss: 0.0800\n",
            "Epoch 88/200\n",
            "5/5 - 0s - loss: 0.0829 - val_loss: 0.0799\n",
            "Epoch 89/200\n",
            "5/5 - 0s - loss: 0.0830 - val_loss: 0.0799\n",
            "Epoch 90/200\n",
            "5/5 - 0s - loss: 0.0826 - val_loss: 0.0799\n",
            "Epoch 91/200\n",
            "5/5 - 0s - loss: 0.0827 - val_loss: 0.0799\n",
            "Epoch 92/200\n",
            "5/5 - 0s - loss: 0.0826 - val_loss: 0.0799\n",
            "Epoch 93/200\n",
            "5/5 - 0s - loss: 0.0830 - val_loss: 0.0800\n",
            "Epoch 94/200\n",
            "5/5 - 0s - loss: 0.0829 - val_loss: 0.0798\n",
            "Epoch 95/200\n",
            "5/5 - 0s - loss: 0.0829 - val_loss: 0.0799\n",
            "Epoch 96/200\n",
            "5/5 - 0s - loss: 0.0830 - val_loss: 0.0798\n",
            "Epoch 97/200\n",
            "5/5 - 0s - loss: 0.0828 - val_loss: 0.0798\n",
            "Epoch 98/200\n",
            "5/5 - 0s - loss: 0.0831 - val_loss: 0.0798\n",
            "Epoch 99/200\n",
            "5/5 - 0s - loss: 0.0828 - val_loss: 0.0798\n",
            "Epoch 100/200\n",
            "5/5 - 0s - loss: 0.0831 - val_loss: 0.0798\n",
            "Epoch 101/200\n",
            "5/5 - 0s - loss: 0.0828 - val_loss: 0.0799\n",
            "Epoch 102/200\n",
            "5/5 - 0s - loss: 0.0826 - val_loss: 0.0799\n",
            "Epoch 103/200\n",
            "5/5 - 0s - loss: 0.0825 - val_loss: 0.0799\n",
            "Epoch 104/200\n",
            "5/5 - 0s - loss: 0.0830 - val_loss: 0.0799\n",
            "Epoch 105/200\n",
            "5/5 - 0s - loss: 0.0828 - val_loss: 0.0800\n",
            "Epoch 106/200\n",
            "5/5 - 0s - loss: 0.0828 - val_loss: 0.0799\n",
            "Epoch 107/200\n",
            "5/5 - 0s - loss: 0.0830 - val_loss: 0.0799\n",
            "Epoch 108/200\n",
            "5/5 - 0s - loss: 0.0829 - val_loss: 0.0800\n",
            "Epoch 109/200\n",
            "5/5 - 0s - loss: 0.0827 - val_loss: 0.0799\n",
            "Epoch 110/200\n",
            "5/5 - 0s - loss: 0.0828 - val_loss: 0.0799\n",
            "Epoch 111/200\n",
            "5/5 - 0s - loss: 0.0829 - val_loss: 0.0800\n",
            "Epoch 112/200\n",
            "5/5 - 0s - loss: 0.0827 - val_loss: 0.0800\n",
            "Epoch 113/200\n",
            "5/5 - 0s - loss: 0.0827 - val_loss: 0.0801\n",
            "Epoch 114/200\n",
            "5/5 - 0s - loss: 0.0828 - val_loss: 0.0800\n",
            "Epoch 115/200\n",
            "5/5 - 0s - loss: 0.0828 - val_loss: 0.0800\n",
            "Epoch 116/200\n",
            "5/5 - 0s - loss: 0.0829 - val_loss: 0.0799\n",
            "Epoch 117/200\n",
            "5/5 - 0s - loss: 0.0827 - val_loss: 0.0800\n",
            "Epoch 118/200\n",
            "5/5 - 0s - loss: 0.0829 - val_loss: 0.0800\n",
            "Epoch 119/200\n",
            "5/5 - 0s - loss: 0.0827 - val_loss: 0.0799\n",
            "Epoch 120/200\n",
            "5/5 - 0s - loss: 0.0826 - val_loss: 0.0799\n",
            "Epoch 121/200\n",
            "5/5 - 0s - loss: 0.0829 - val_loss: 0.0800\n",
            "Epoch 122/200\n",
            "5/5 - 0s - loss: 0.0826 - val_loss: 0.0799\n",
            "Epoch 123/200\n",
            "5/5 - 0s - loss: 0.0826 - val_loss: 0.0799\n",
            "Epoch 124/200\n",
            "5/5 - 0s - loss: 0.0827 - val_loss: 0.0799\n",
            "Epoch 125/200\n",
            "5/5 - 0s - loss: 0.0828 - val_loss: 0.0799\n",
            "Epoch 126/200\n",
            "5/5 - 0s - loss: 0.0827 - val_loss: 0.0799\n",
            "Epoch 127/200\n",
            "5/5 - 0s - loss: 0.0827 - val_loss: 0.0799\n",
            "Epoch 128/200\n",
            "5/5 - 0s - loss: 0.0826 - val_loss: 0.0799\n",
            "Epoch 129/200\n",
            "5/5 - 0s - loss: 0.0827 - val_loss: 0.0799\n",
            "Epoch 130/200\n",
            "5/5 - 0s - loss: 0.0829 - val_loss: 0.0799\n",
            "Epoch 131/200\n",
            "5/5 - 0s - loss: 0.0827 - val_loss: 0.0799\n",
            "Epoch 132/200\n",
            "5/5 - 0s - loss: 0.0828 - val_loss: 0.0799\n",
            "Epoch 133/200\n",
            "5/5 - 0s - loss: 0.0827 - val_loss: 0.0799\n",
            "Epoch 134/200\n",
            "5/5 - 0s - loss: 0.0826 - val_loss: 0.0799\n",
            "Epoch 135/200\n",
            "5/5 - 0s - loss: 0.0827 - val_loss: 0.0799\n",
            "Epoch 136/200\n",
            "5/5 - 0s - loss: 0.0827 - val_loss: 0.0800\n",
            "Epoch 137/200\n",
            "5/5 - 0s - loss: 0.0828 - val_loss: 0.0799\n",
            "Epoch 138/200\n",
            "5/5 - 0s - loss: 0.0829 - val_loss: 0.0800\n",
            "Epoch 139/200\n",
            "5/5 - 0s - loss: 0.0827 - val_loss: 0.0799\n",
            "Epoch 140/200\n",
            "5/5 - 0s - loss: 0.0829 - val_loss: 0.0801\n",
            "Epoch 141/200\n",
            "5/5 - 0s - loss: 0.0826 - val_loss: 0.0802\n",
            "Epoch 142/200\n",
            "5/5 - 0s - loss: 0.0830 - val_loss: 0.0799\n",
            "Epoch 143/200\n",
            "5/5 - 0s - loss: 0.0828 - val_loss: 0.0800\n",
            "Epoch 144/200\n",
            "5/5 - 0s - loss: 0.0825 - val_loss: 0.0800\n",
            "Epoch 145/200\n",
            "5/5 - 0s - loss: 0.0827 - val_loss: 0.0799\n",
            "Epoch 146/200\n",
            "5/5 - 0s - loss: 0.0826 - val_loss: 0.0801\n",
            "Epoch 147/200\n",
            "5/5 - 0s - loss: 0.0829 - val_loss: 0.0800\n",
            "Epoch 148/200\n",
            "5/5 - 0s - loss: 0.0826 - val_loss: 0.0802\n",
            "Epoch 149/200\n",
            "5/5 - 0s - loss: 0.0829 - val_loss: 0.0801\n",
            "Epoch 150/200\n",
            "5/5 - 0s - loss: 0.0828 - val_loss: 0.0801\n",
            "Epoch 151/200\n",
            "5/5 - 0s - loss: 0.0828 - val_loss: 0.0800\n",
            "Epoch 152/200\n",
            "5/5 - 0s - loss: 0.0826 - val_loss: 0.0800\n",
            "Epoch 153/200\n",
            "5/5 - 0s - loss: 0.0826 - val_loss: 0.0800\n",
            "Epoch 154/200\n",
            "5/5 - 0s - loss: 0.0826 - val_loss: 0.0800\n",
            "Epoch 155/200\n",
            "5/5 - 0s - loss: 0.0824 - val_loss: 0.0800\n",
            "Epoch 156/200\n",
            "5/5 - 0s - loss: 0.0827 - val_loss: 0.0800\n",
            "Epoch 157/200\n",
            "5/5 - 0s - loss: 0.0827 - val_loss: 0.0800\n",
            "Epoch 158/200\n",
            "5/5 - 0s - loss: 0.0827 - val_loss: 0.0800\n",
            "Epoch 159/200\n",
            "5/5 - 0s - loss: 0.0826 - val_loss: 0.0799\n",
            "Epoch 160/200\n",
            "5/5 - 0s - loss: 0.0828 - val_loss: 0.0799\n",
            "Epoch 161/200\n",
            "5/5 - 0s - loss: 0.0827 - val_loss: 0.0799\n",
            "Epoch 162/200\n",
            "5/5 - 0s - loss: 0.0826 - val_loss: 0.0800\n",
            "Epoch 163/200\n",
            "5/5 - 0s - loss: 0.0828 - val_loss: 0.0801\n",
            "Epoch 164/200\n",
            "5/5 - 0s - loss: 0.0828 - val_loss: 0.0802\n",
            "Epoch 165/200\n",
            "5/5 - 0s - loss: 0.0825 - val_loss: 0.0801\n",
            "Epoch 166/200\n",
            "5/5 - 0s - loss: 0.0826 - val_loss: 0.0801\n",
            "Epoch 167/200\n",
            "5/5 - 0s - loss: 0.0825 - val_loss: 0.0801\n",
            "Epoch 168/200\n",
            "5/5 - 0s - loss: 0.0824 - val_loss: 0.0802\n",
            "Epoch 169/200\n",
            "5/5 - 0s - loss: 0.0826 - val_loss: 0.0801\n",
            "Epoch 170/200\n",
            "5/5 - 0s - loss: 0.0826 - val_loss: 0.0801\n",
            "Epoch 171/200\n",
            "5/5 - 0s - loss: 0.0825 - val_loss: 0.0801\n",
            "Epoch 172/200\n",
            "5/5 - 0s - loss: 0.0825 - val_loss: 0.0801\n",
            "Epoch 173/200\n",
            "5/5 - 0s - loss: 0.0826 - val_loss: 0.0801\n",
            "Epoch 174/200\n",
            "5/5 - 0s - loss: 0.0828 - val_loss: 0.0800\n",
            "Epoch 175/200\n",
            "5/5 - 0s - loss: 0.0827 - val_loss: 0.0800\n",
            "Epoch 176/200\n",
            "5/5 - 0s - loss: 0.0826 - val_loss: 0.0799\n",
            "Epoch 177/200\n",
            "5/5 - 0s - loss: 0.0826 - val_loss: 0.0800\n",
            "Epoch 178/200\n",
            "5/5 - 0s - loss: 0.0825 - val_loss: 0.0800\n",
            "Epoch 179/200\n",
            "5/5 - 0s - loss: 0.0824 - val_loss: 0.0801\n",
            "Epoch 180/200\n",
            "5/5 - 0s - loss: 0.0825 - val_loss: 0.0802\n",
            "Epoch 181/200\n",
            "5/5 - 0s - loss: 0.0826 - val_loss: 0.0801\n",
            "Epoch 182/200\n",
            "5/5 - 0s - loss: 0.0827 - val_loss: 0.0801\n",
            "Epoch 183/200\n",
            "5/5 - 0s - loss: 0.0826 - val_loss: 0.0801\n",
            "Epoch 184/200\n",
            "5/5 - 0s - loss: 0.0825 - val_loss: 0.0801\n",
            "Epoch 185/200\n",
            "5/5 - 0s - loss: 0.0827 - val_loss: 0.0800\n",
            "Epoch 186/200\n",
            "5/5 - 0s - loss: 0.0826 - val_loss: 0.0800\n",
            "Epoch 187/200\n",
            "5/5 - 0s - loss: 0.0825 - val_loss: 0.0801\n",
            "Epoch 188/200\n",
            "5/5 - 0s - loss: 0.0825 - val_loss: 0.0800\n",
            "Epoch 189/200\n",
            "5/5 - 0s - loss: 0.0825 - val_loss: 0.0800\n",
            "Epoch 190/200\n",
            "5/5 - 0s - loss: 0.0825 - val_loss: 0.0801\n",
            "Epoch 191/200\n",
            "5/5 - 0s - loss: 0.0826 - val_loss: 0.0802\n",
            "Epoch 192/200\n",
            "5/5 - 0s - loss: 0.0825 - val_loss: 0.0801\n",
            "Epoch 193/200\n",
            "5/5 - 0s - loss: 0.0823 - val_loss: 0.0801\n",
            "Epoch 194/200\n",
            "5/5 - 0s - loss: 0.0825 - val_loss: 0.0801\n",
            "Epoch 195/200\n",
            "5/5 - 0s - loss: 0.0824 - val_loss: 0.0804\n",
            "Epoch 196/200\n",
            "5/5 - 0s - loss: 0.0827 - val_loss: 0.0803\n",
            "Epoch 197/200\n",
            "5/5 - 0s - loss: 0.0824 - val_loss: 0.0804\n",
            "Epoch 198/200\n",
            "5/5 - 0s - loss: 0.0824 - val_loss: 0.0804\n",
            "Epoch 199/200\n",
            "5/5 - 0s - loss: 0.0825 - val_loss: 0.0802\n",
            "Epoch 200/200\n",
            "5/5 - 0s - loss: 0.0823 - val_loss: 0.0802\n"
          ],
          "name": "stdout"
        },
        {
          "output_type": "execute_result",
          "data": {
            "text/plain": [
              "<tensorflow.python.keras.callbacks.History at 0x7f52a61efe10>"
            ]
          },
          "metadata": {
            "tags": []
          },
          "execution_count": 360
        }
      ]
    },
    {
      "cell_type": "code",
      "metadata": {
        "id": "B465OCrtEFnH",
        "colab_type": "code",
        "colab": {
          "base_uri": "https://localhost:8080/",
          "height": 51
        },
        "outputId": "fd93389f-d044-4eb3-c9e1-a532e335d1ff"
      },
      "source": [
        "trainPredict = model1.predict(train_x, verbose=2)\n",
        "testPredict = model1.predict(test_x, verbose=2)"
      ],
      "execution_count": 362,
      "outputs": [
        {
          "output_type": "stream",
          "text": [
            "135/135 - 0s\n",
            "24/24 - 0s\n"
          ],
          "name": "stdout"
        }
      ]
    },
    {
      "cell_type": "code",
      "metadata": {
        "id": "ztISy-GGFOQc",
        "colab_type": "code",
        "colab": {
          "base_uri": "https://localhost:8080/",
          "height": 51
        },
        "outputId": "272a49d5-bd29-44bb-8090-4fbe0205da8b"
      },
      "source": [
        "trainPredict = np.reshape(trainPredict,(trainPredict.shape[0],1))\n",
        "testPredict = np.reshape(testPredict,(testPredict.shape[0],1))\n",
        "trainPredict = scaler.inverse_transform(trainPredict)\n",
        "trainY = scaler.inverse_transform([train_y])\n",
        "testPredict = scaler.inverse_transform(testPredict)\n",
        "testY = scaler.inverse_transform([test_y])\n",
        "# calculate root mean squared error\n",
        "trainScore = math.sqrt(mean_squared_error(trainY[0], trainPredict[:,0]))\n",
        "print('Train Score: %.2f RMSE' % (trainScore))\n",
        "testScore = math.sqrt(mean_squared_error(testY[0], testPredict[:,0]))\n",
        "print('Test Score: %.2f RMSE' % (testScore))"
      ],
      "execution_count": 363,
      "outputs": [
        {
          "output_type": "stream",
          "text": [
            "Train Score: 0.26 RMSE\n",
            "Test Score: 0.25 RMSE\n"
          ],
          "name": "stdout"
        }
      ]
    },
    {
      "cell_type": "code",
      "metadata": {
        "id": "e_l3euYzF9t1",
        "colab_type": "code",
        "colab": {
          "base_uri": "https://localhost:8080/",
          "height": 51
        },
        "outputId": "050ec76e-fc21-4e72-8eb5-b8a82427afe1"
      },
      "source": [
        "model1.evaluate(test1_x)"
      ],
      "execution_count": 341,
      "outputs": [
        {
          "output_type": "stream",
          "text": [
            "24/24 [==============================] - 0s 1ms/step - loss: 0.0000e+00\n"
          ],
          "name": "stdout"
        },
        {
          "output_type": "execute_result",
          "data": {
            "text/plain": [
              "0.0"
            ]
          },
          "metadata": {
            "tags": []
          },
          "execution_count": 341
        }
      ]
    },
    {
      "cell_type": "code",
      "metadata": {
        "id": "aHWrKNtkFrzs",
        "colab_type": "code",
        "colab": {
          "base_uri": "https://localhost:8080/",
          "height": 282
        },
        "outputId": "54022713-9333-4fe4-be6b-8e3d4c009653"
      },
      "source": [
        "plot_results(trainY,trainPredict,50)"
      ],
      "execution_count": 301,
      "outputs": [
        {
          "output_type": "display_data",
          "data": {
            "image/png": "[encoded data removed]",
            "text/plain": [
              "<Figure size 432x288 with 1 Axes>"
            ]
          },
          "metadata": {
            "tags": [],
            "needs_background": "light"
          }
        },
        {
          "output_type": "display_data",
          "data": {
            "text/plain": [
              "<Figure size 1440x720 with 0 Axes>"
            ]
          },
          "metadata": {
            "tags": []
          }
        }
      ]
    },
    {
      "cell_type": "code",
      "metadata": {
        "id": "UA401rNkOmnI",
        "colab_type": "code",
        "colab": {
          "base_uri": "https://localhost:8080/",
          "height": 282
        },
        "outputId": "c78585b0-7297-49fb-9a86-d9420ab13f93"
      },
      "source": [
        "plot_results(testY,testPredict,50)"
      ],
      "execution_count": 302,
      "outputs": [
        {
          "output_type": "display_data",
          "data": {
            "image/png": "[encoded data removed]",
            "text/plain": [
              "<Figure size 432x288 with 1 Axes>"
            ]
          },
          "metadata": {
            "tags": [],
            "needs_background": "light"
          }
        },
        {
          "output_type": "display_data",
          "data": {
            "text/plain": [
              "<Figure size 1440x720 with 0 Axes>"
            ]
          },
          "metadata": {
            "tags": []
          }
        }
      ]
    },
    {
      "cell_type": "code",
      "metadata": {
        "id": "QLc6-QyDHfHt",
        "colab_type": "code",
        "colab": {
          "base_uri": "https://localhost:8080/",
          "height": 265
        },
        "outputId": "b779b319-5b4f-45a4-b186-5c5571367563"
      },
      "source": [
        "plt.plot(testPredict[100:125])\n",
        "plt.show()"
      ],
      "execution_count": 303,
      "outputs": [
        {
          "output_type": "display_data",
          "data": {
            "image/png": "[encoded data removed]",
            "text/plain": [
              "<Figure size 432x288 with 1 Axes>"
            ]
          },
          "metadata": {
            "tags": [],
            "needs_background": "light"
          }
        }
      ]
    },
    {
      "cell_type": "code",
      "metadata": {
        "id": "wF71xktW51yL",
        "colab_type": "code",
        "colab": {
          "base_uri": "https://localhost:8080/",
          "height": 265
        },
        "outputId": "952e9166-583b-45b4-f902-abbcf880901d"
      },
      "source": [
        "plt.plot(testY[0][100:125])\n",
        "plt.show()"
      ],
      "execution_count": 304,
      "outputs": [
        {
          "output_type": "display_data",
          "data": {
            "image/png": "[encoded data removed]",
            "text/plain": [
              "<Figure size 432x288 with 1 Axes>"
            ]
          },
          "metadata": {
            "tags": [],
            "needs_background": "light"
          }
        }
      ]
    },
    {
      "cell_type": "code",
      "metadata": {
        "id": "pIJfFbRw8J9X",
        "colab_type": "code",
        "colab": {}
      },
      "source": [
        ""
      ],
      "execution_count": null,
      "outputs": []
    }
  ]
}